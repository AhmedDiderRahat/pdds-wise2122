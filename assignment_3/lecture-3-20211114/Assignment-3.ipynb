{
 "cells": [
  {
   "cell_type": "markdown",
   "metadata": {},
   "source": [
    "# Assignment 1: Functions\n",
    "\n",
    "- Write a function ``assignment_01`` that multiplies an arbitrarily long list of number arguments (not passed as a list/collection but as single arguments)\n",
    "- Add some documentation\n"
   ]
  },
  {
   "cell_type": "code",
   "execution_count": 1,
   "metadata": {},
   "outputs": [],
   "source": [
    "def assignment_01(*args):\n",
    "    # your code here\n",
    "    return"
   ]
  },
  {
   "cell_type": "markdown",
   "metadata": {},
   "source": [
    "# Assignment 2a: Loops \n",
    "\n",
    "- Write a function ``assignment_02_02a`` that expects a list with numbers\n",
    "- The function should initialize an empty list ``result`` and then iterate though the input list with a for loop\n",
    "- For each element of the input list, the function should add a string \"higher\" if the element was larger than 5 and \"lower\" otherwise\n",
    "- Then the list ``result`` should be returned by that function\n"
   ]
  },
  {
   "cell_type": "code",
   "execution_count": 2,
   "metadata": {},
   "outputs": [],
   "source": [
    "def assignment_02a(numbers):\n",
    "    result = []\n",
    "    # your code here\n",
    "    return result"
   ]
  },
  {
   "cell_type": "markdown",
   "metadata": {},
   "source": [
    "# Assignment 2b: List comprehensions\n",
    "\n",
    "\n",
    "- Now write a function ``assignment_02b`` that does the same in one line with list-comprehension\n"
   ]
  },
  {
   "cell_type": "code",
   "execution_count": 3,
   "metadata": {},
   "outputs": [],
   "source": [
    "def assignment_02b(numbers):\n",
    "    return     # your code here"
   ]
  },
  {
   "cell_type": "markdown",
   "metadata": {},
   "source": [
    "# Assignment 3: Classes, Functions and Errors\n",
    "- Write a Class ``Duck``\n",
    "- A ``Duck`` constructor should accept variable length string arguments denoting the names of the duck\n",
    "- Internally the names are joined with a \" \" separator and stored as a single string in a field/attribute ``name``\n",
    "- A ``Duck`` has a function ``talks_to`` that \n",
    " - accepts one input argument \n",
    " - returns a string ``Quak`` if the input was another duck and raises a Value Error with the message \"Can only talk to other Ducks\" otherwise\n",
    " - **Optional**: Create a function ``__repr__`` that prints the name of the Duck\n"
   ]
  },
  {
   "cell_type": "code",
   "execution_count": 4,
   "metadata": {},
   "outputs": [],
   "source": [
    "class Duck:\n",
    "    def __init__(self, *args):\n",
    "        self.name = ''# your code here\n",
    "\n",
    "    def talks_to(self, other_duck):\n",
    "        # your code here\n",
    "        return 'Quak'"
   ]
  },
  {
   "cell_type": "markdown",
   "metadata": {},
   "source": [
    "# Tests\n",
    "\n",
    "The cell below contains unit tests for your solution\n",
    "\n",
    "Run the below cell (after running all the above cells with your code).\n",
    "\n",
    "If there is no output/error when executing the tests, your code works."
   ]
  },
  {
   "cell_type": "code",
   "execution_count": null,
   "metadata": {},
   "outputs": [],
   "source": [
    "def assignment_01_test():\n",
    "    assert assignment_01(1,2,3)==6\n",
    "\n",
    "def assignment_02a_test():\n",
    "    numbers = [1,6]\n",
    "    assert assignment_02a(numbers)==['lower','higher']\n",
    "\n",
    "def assignment_02b_test():\n",
    "    numbers = [1,6]\n",
    "    assert assignment_02b(numbers)==['lower','higher']\n",
    "\n",
    "def assignment_03_test():\n",
    "    duck = Duck(\"Alfred\", \"Judokus\", \"Quak\")\n",
    "    assert duck.name == 'Alfred Judokus Quak'\n",
    "\n",
    "    other_duck = Duck(\"Hans\", \"Peter\", \"Schnabel\")\n",
    "    assert other_duck.name == 'Hans Peter Schnabel'\n",
    "    assert duck.talks_to(other_duck) == \"Quak\"\n",
    "\n",
    "    try:\n",
    "        duck.talks_to(\"Crocodile\")\n",
    "    except ValueError as ve:\n",
    "        assert str(ve) == \"Can only talk to other Ducks\"\n",
    "\n",
    "assignment_01_test()\n",
    "assignment_02a_test()\n",
    "assignment_02b_test()\n",
    "assignment_03_test()\n"
   ]
  }
 ],
 "metadata": {
  "kernelspec": {
   "display_name": "Python 3 (ipykernel)",
   "language": "python",
   "name": "python3"
  },
  "language_info": {
   "codemirror_mode": {
    "name": "ipython",
    "version": 3
   },
   "file_extension": ".py",
   "mimetype": "text/x-python",
   "name": "python",
   "nbconvert_exporter": "python",
   "pygments_lexer": "ipython3",
   "version": "3.9.6"
  }
 },
 "nbformat": 4,
 "nbformat_minor": 2
}
