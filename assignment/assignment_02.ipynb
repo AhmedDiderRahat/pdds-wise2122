{
 "cells": [
  {
   "cell_type": "markdown",
   "metadata": {},
   "source": [
    "<b>Submitted By: <b> Ahmed Dider Rahat"
   ]
  },
  {
   "cell_type": "code",
   "execution_count": 1,
   "metadata": {},
   "outputs": [],
   "source": [
    "import random"
   ]
  },
  {
   "cell_type": "code",
   "execution_count": 15,
   "metadata": {},
   "outputs": [],
   "source": [
    "N = 1000000\n",
    "a = [i for i in range(N)]\n",
    "b = {i:str(i) for i in range(N)}"
   ]
  },
  {
   "cell_type": "code",
   "execution_count": 16,
   "metadata": {},
   "outputs": [
    {
     "name": "stdout",
     "output_type": "stream",
     "text": [
      "133 µs ± 2.39 µs per loop (mean ± std. dev. of 7 runs, 10000 loops each)\n"
     ]
    }
   ],
   "source": [
    "def search_in_list(_list, element):\n",
    "    index = -1\n",
    "    if element in _list:\n",
    "        index = _list.index(element)\n",
    "        \n",
    "%timeit search_in_list(a, 7707)"
   ]
  },
  {
   "cell_type": "code",
   "execution_count": 17,
   "metadata": {},
   "outputs": [
    {
     "name": "stdout",
     "output_type": "stream",
     "text": [
      "120 µs ± 2.41 µs per loop (mean ± std. dev. of 7 runs, 10000 loops each)\n"
     ]
    }
   ],
   "source": [
    "def search_in_dict(_dict, element):\n",
    "    value = \"\"\n",
    "    if element in _dict.values():\n",
    "        value = element\n",
    "\n",
    "%timeit search_in_dict(b, str(7707))"
   ]
  },
  {
   "cell_type": "code",
   "execution_count": 18,
   "metadata": {},
   "outputs": [
    {
     "name": "stdout",
     "output_type": "stream",
     "text": [
      "491770\n"
     ]
    }
   ],
   "source": [
    "random_number = random.randint(1, N)\n",
    "print(random_number)"
   ]
  },
  {
   "cell_type": "code",
   "execution_count": 19,
   "metadata": {},
   "outputs": [
    {
     "name": "stdout",
     "output_type": "stream",
     "text": [
      "9.14 ms ± 155 µs per loop (mean ± std. dev. of 7 runs, 100 loops each)\n"
     ]
    }
   ],
   "source": [
    "def retrive_random_from_list(_list, element):\n",
    "    index = -1\n",
    "    if element in _list:\n",
    "        index = _list.index(element)\n",
    "\n",
    "%timeit retrive_random_from_list(a, random_number)"
   ]
  },
  {
   "cell_type": "code",
   "execution_count": 20,
   "metadata": {},
   "outputs": [
    {
     "name": "stdout",
     "output_type": "stream",
     "text": [
      "29.6 ms ± 565 µs per loop (mean ± std. dev. of 7 runs, 10 loops each)\n"
     ]
    }
   ],
   "source": [
    "def retrive_random_from_dict(_dict, element):\n",
    "    intendentKey = -1\n",
    "    for key, value in _dict.items():\n",
    "        if value == element:\n",
    "            intendentKey = key\n",
    "\n",
    "%timeit retrive_random_from_dict(b, str(random_number))"
   ]
  }
 ],
 "metadata": {
  "kernelspec": {
   "display_name": "Python 3",
   "language": "python",
   "name": "python3"
  },
  "language_info": {
   "codemirror_mode": {
    "name": "ipython",
    "version": 3
   },
   "file_extension": ".py",
   "mimetype": "text/x-python",
   "name": "python",
   "nbconvert_exporter": "python",
   "pygments_lexer": "ipython3",
   "version": "3.6.5"
  }
 },
 "nbformat": 4,
 "nbformat_minor": 2
}
