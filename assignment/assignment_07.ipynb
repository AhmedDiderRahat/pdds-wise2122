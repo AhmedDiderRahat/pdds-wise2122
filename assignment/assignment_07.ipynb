{
 "cells": [
  {
   "cell_type": "markdown",
   "metadata": {
    "slideshow": {
     "slide_type": "slide"
    }
   },
   "source": [
    "# Exercises\n"
   ]
  },
  {
   "cell_type": "markdown",
   "metadata": {
    "slideshow": {
     "slide_type": "slide"
    }
   },
   "source": [
    "## Assignment 01\n",
    "\n",
    "Write a function ``assignment_07_01`` that reads the random numbers in the files with `csv` extension under ``data/random_numbers``, sums up all values and returns the result. Try to avoid reading the entire file in memory and avoid using a library like pandas or numpy.  \n"
   ]
  },
  {
   "cell_type": "code",
   "execution_count": 37,
   "metadata": {
    "slideshow": {
     "slide_type": "slide"
    }
   },
   "outputs": [],
   "source": [
    "import glob\n",
    "import os\n",
    "import itertools\n",
    "from functools import reduce\n",
    "\n",
    "def assignment_07_01():\n",
    "    # finds all csv files in data/random_numbers\n",
    "    \n",
    "    files = glob.glob(os.path.join(\"data\",'random_numbers','*.csv'))\n",
    "\n",
    "    # return an iterator of lines over all files\n",
    "    lines = itertools.chain(*map(open,files))\n",
    "\n",
    "    #using reduce function for adding each elements\n",
    "    sum_of_values = reduce(lambda a, b: int(a) + int(b), lines)\n",
    "  \n",
    "    return sum_of_values"
   ]
  },
  {
   "cell_type": "code",
   "execution_count": 38,
   "metadata": {
    "slideshow": {
     "slide_type": "slide"
    }
   },
   "outputs": [
    {
     "data": {
      "text/plain": [
       "True"
      ]
     },
     "execution_count": 38,
     "metadata": {},
     "output_type": "execute_result"
    }
   ],
   "source": [
    "assignment_07_01() == 203455"
   ]
  },
  {
   "cell_type": "markdown",
   "metadata": {
    "slideshow": {
     "slide_type": "slide"
    }
   },
   "source": [
    "## Assignment 02\n",
    "\n",
    "Write a function ``assignment_07_02`` that reads Wikipedia html pages and extracts the infobox key-value pairs as strings. The infobox is the blue table in the top right of wikipedia pages.\n"
   ]
  },
  {
   "cell_type": "code",
   "execution_count": 39,
   "metadata": {
    "slideshow": {
     "slide_type": "slide"
    }
   },
   "outputs": [],
   "source": [
    "from bs4 import BeautifulSoup\n",
    "import requests\n",
    "\n",
    "beuth_url = \"https://de.wikipedia.org/wiki/Beuth_Hochschule_f%C3%BCr_Technik_Berlin\"\n",
    "\n",
    "def assignment_07_02(url):\n",
    "    page = requests.get(url)\n",
    "    \n",
    "    soup = BeautifulSoup(page.content, 'html.parser')\n",
    "    infobox = {}\n",
    "    \n",
    "    #get data from table\n",
    "    _table = soup.find(id=\"Vorlage_Infobox_Hochschule\")\n",
    "    \n",
    "    #get all raw from table\n",
    "    _tr = _table.find_all(\"tr\")\n",
    "    \n",
    "    for _row in _tr:\n",
    "        #from each row get the header and data-value\n",
    "        _th = _row.find('th')\n",
    "        _td = _row.find('td')\n",
    "        \n",
    "        #if both header and data have values\n",
    "        if _th is not None and _td is not None:\n",
    "            infobox[_th.get_text().strip()] = _td.get_text().strip()\n",
    "    \n",
    "    return infobox"
   ]
  },
  {
   "cell_type": "code",
   "execution_count": 40,
   "metadata": {
    "slideshow": {
     "slide_type": "slide"
    }
   },
   "outputs": [],
   "source": [
    "infobox = assignment_07_02(beuth_url)\n",
    "assert infobox['Ort'] == 'Berlin-Wedding'"
   ]
  },
  {
   "cell_type": "markdown",
   "metadata": {
    "slideshow": {
     "slide_type": "slide"
    }
   },
   "source": [
    "## Assignment 03\n",
    "\n",
    "Write a function ``assignment_07_03`` that reads the information about all Christmas markets in Berlin and returns the name of the district that has most registered Christmas markets."
   ]
  },
  {
   "cell_type": "code",
   "execution_count": 41,
   "metadata": {
    "slideshow": {
     "slide_type": "slide"
    }
   },
   "outputs": [],
   "source": [
    "import json\n",
    "import requests\n",
    "import pandas as pd\n",
    "\n",
    "def assignment_07_03():\n",
    "    christmas_market_url = \"https://www.berlin.de/sen/web/service/maerkte-feste/weihnachtsmaerkte/index.php/index/all.json?q=\"\n",
    "    \n",
    "    # verfiy = False for resolve the certificate error\n",
    "    data = json.loads(requests.get(christmas_market_url, verify=False).content)\n",
    "    \n",
    "    # get all the data from index key\n",
    "    _info = data.get('index')\n",
    "    \n",
    "    _id_dist = [item.get('bezirk') for item in _info]\n",
    "    \n",
    "    \n",
    "    df = pd.DataFrame(_id_dist, columns =['district'])\n",
    "\n",
    "    return df['district'].mode().values[0]"
   ]
  },
  {
   "cell_type": "code",
   "execution_count": 42,
   "metadata": {
    "slideshow": {
     "slide_type": "slide"
    }
   },
   "outputs": [
    {
     "name": "stderr",
     "output_type": "stream",
     "text": [
      "C:\\ProgramData\\Anaconda3\\lib\\site-packages\\urllib3\\connectionpool.py:858: InsecureRequestWarning: Unverified HTTPS request is being made. Adding certificate verification is strongly advised. See: https://urllib3.readthedocs.io/en/latest/advanced-usage.html#ssl-warnings\n",
      "  InsecureRequestWarning)\n"
     ]
    },
    {
     "data": {
      "text/plain": [
       "True"
      ]
     },
     "execution_count": 42,
     "metadata": {},
     "output_type": "execute_result"
    }
   ],
   "source": [
    "assignment_07_03() == 'Mitte'"
   ]
  }
 ],
 "metadata": {
  "kernelspec": {
   "display_name": "Python 3",
   "language": "python",
   "name": "python3"
  },
  "language_info": {
   "codemirror_mode": {
    "name": "ipython",
    "version": 3
   },
   "file_extension": ".py",
   "mimetype": "text/x-python",
   "name": "python",
   "nbconvert_exporter": "python",
   "pygments_lexer": "ipython3",
   "version": "3.6.5"
  }
 },
 "nbformat": 4,
 "nbformat_minor": 2
}
