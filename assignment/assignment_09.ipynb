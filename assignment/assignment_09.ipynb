{
 "cells": [
  {
   "cell_type": "markdown",
   "metadata": {
    "slideshow": {
     "slide_type": "slide"
    }
   },
   "source": [
    "# Assignment 9\n",
    "\n",
    "In this assigment you will implement\n",
    "\n",
    " * a one hot encoding for categorical variables\n",
    " * the precision score\n",
    " * a text classifier for german parliament speeches"
   ]
  },
  {
   "cell_type": "markdown",
   "metadata": {
    "slideshow": {
     "slide_type": "slide"
    }
   },
   "source": [
    "## Assignment 09.01\n",
    "\n",
    "Implement a function assignment_09_01 that computes the one hot encoded representation of a list of strings. \n",
    "\n",
    "Return the result as a numpy array with the rows referring to data points and the columns to unique categories. The order of the columns is irrelevant. \n",
    "\n",
    "Test the implementation with the list ``['apple','banana','apple','lemon']``."
   ]
  },
  {
   "cell_type": "code",
   "execution_count": 1,
   "metadata": {},
   "outputs": [],
   "source": [
    "import numpy as np\n",
    "\n",
    "def assignment_09_01(x):\n",
    "    unique_items = list(set(x))\n",
    "    one_hot = [[1 if ui == w else 0 for ui in unique_items] for w in x]\n",
    "\n",
    "    return np.array(one_hot)\n",
    "\n",
    "ohe = assignment_09_01(['apple','banana','apple','lemon'])\n",
    "ohe\n",
    "\n",
    "assert np.array_equal(ohe.sum(axis=1),np.array([1.,1.,1.,1.]))\n",
    "assert np.array_equal(ohe[0,:],ohe[2,:])"
   ]
  },
  {
   "cell_type": "markdown",
   "metadata": {
    "slideshow": {
     "slide_type": "slide"
    }
   },
   "source": [
    "## Assignment 09.02\n",
    "\n",
    "Implement a function assignment_09_02 that computes the precision of binary predictions:\n",
    "\n",
    "$${\\text{precision}}={\\frac {|\\{{\\text{relevant instances}}\\}\\cap \\{{\\text{predicted instances}}\\}|}{|\\{{\\text{predicted instances}}\\}|}}$$\n",
    "\n",
    "\n",
    "The function should expect the true and predicted binary categories as numpy vectors, meaning numpy arrays with only one axis as e.g. ``np.array([1,0])`` where 1 stands for positive prediction and 0 for negative prediction. Make sure that always a number is returned and not a NaN."
   ]
  },
  {
   "cell_type": "code",
   "execution_count": 2,
   "metadata": {},
   "outputs": [],
   "source": [
    "def assignment_09_02(y_true, y_predicted):\n",
    "    \n",
    "    tp = len([i for i in range(len(y_true)) if y_true[i]==1 and y_predicted[i]==1])\n",
    "    fp = len([i for i in range(len(y_true)) if y_true[i]==0 and y_predicted[i]==1])\n",
    "    \n",
    "    if tp==0 and fp==0:\n",
    "        return 0\n",
    "    \n",
    "    return tp / (tp+fp)\n",
    "\n",
    "assert assignment_09_02(np.array([1,1,0]),np.array([0,0,0])) == 0\n",
    "assert assignment_09_02(np.array([1,1,0]),np.array([1,1,0])) == 1\n",
    "assert assignment_09_02(np.array([1,1,0]),np.array([1,0,0])) == 1\n",
    "assert assignment_09_02(np.array([1,1,0]),np.array([0,1,1])) == .5"
   ]
  },
  {
   "cell_type": "markdown",
   "metadata": {
    "slideshow": {
     "slide_type": "slide"
    }
   },
   "source": [
    "## Assignment 09.03\n",
    "\n",
    "In the 17th Bundestag elected in 2009, the ruling parties were CDU/CSU and FDP, in the 18th Bundestag elected in 2013 the ruling parties were CDU/CSU and SPD. Download the [parliament speeches](https://www.dropbox.com/s/1nlbfehnrwwa2zj/bundestags_parlamentsprotokolle.csv.gzip?dl=1) and compute a new target variable 'government' that is true if the respective party was in the ruling coalition at the time. \n",
    "\n",
    "Write a function ``assignment_09_03`` that preprocesses the data and trains a text classification pipeline that predicts whether a speech was made by the governing party. Train the pipeline on the speeches of the 17th Bundestag and test them on (heldout) data from the 17th Bundestag as well as on data from the 18th Bundestag. "
   ]
  },
  {
   "cell_type": "code",
   "execution_count": 3,
   "metadata": {},
   "outputs": [],
   "source": [
    "import os, gzip\n",
    "import pandas as pd\n",
    "import numpy as np\n",
    "from sklearn.model_selection import train_test_split\n",
    "from sklearn.linear_model import SGDClassifier\n",
    "from sklearn.pipeline import Pipeline\n",
    "import urllib.request\n",
    "from sklearn.feature_extraction.text import TfidfVectorizer\n",
    "from sklearn.metrics import classification_report, accuracy_score, precision_recall_curve"
   ]
  },
  {
   "cell_type": "code",
   "execution_count": 4,
   "metadata": {},
   "outputs": [],
   "source": [
    "DATADIR = \"data\"\n",
    "\n",
    "def load_data():\n",
    "    if not os.path.exists(DATADIR): \n",
    "        os.mkdir(DATADIR)\n",
    "\n",
    "    file_name = os.path.join(DATADIR, 'bundestags_parlamentsprotokolle.csv.gzip')\n",
    "    if not os.path.exists(file_name):\n",
    "        url_data = 'https://www.dropbox.com/s/1nlbfehnrwwa2zj/bundestags_parlamentsprotokolle.csv.gzip?dl=1'\n",
    "        urllib.request.urlretrieve(url_data, file_name)\n",
    "\n",
    "    df = pd.read_csv(gzip.open(file_name), index_col=0).sample(frac=1)\n",
    "    df.loc[df.wahlperiode==17,'government'] = df[df.wahlperiode==17].partei.isin(['cducsu','fdp'])\n",
    "    df.loc[df.wahlperiode==18,'government'] = df[df.wahlperiode==18].partei.isin(['cducsu','spd'])\n",
    "    \n",
    "    return df"
   ]
  },
  {
   "cell_type": "code",
   "execution_count": 5,
   "metadata": {},
   "outputs": [],
   "source": [
    "def train(texts, gov, num_words=1e5):\n",
    "    stopwords = [w.strip() for w in open(\"data/stopwords.txt\").readlines()]\n",
    "    \n",
    "    clf = Pipeline([('vect', \n",
    "                          TfidfVectorizer(stop_words=stopwords,\n",
    "                          ngram_range=(1,1), max_features=int(num_words))),\n",
    "                         ('clf', SGDClassifier(loss='log', alpha=1e-5))])\n",
    "    clf.fit(texts, gov)\n",
    "    \n",
    "    return clf"
   ]
  },
  {
   "cell_type": "code",
   "execution_count": 6,
   "metadata": {},
   "outputs": [
    {
     "name": "stderr",
     "output_type": "stream",
     "text": [
      "C:\\ProgramData\\Anaconda3\\lib\\site-packages\\sklearn\\linear_model\\stochastic_gradient.py:128: FutureWarning: max_iter and tol parameters have been added in <class 'sklearn.linear_model.stochastic_gradient.SGDClassifier'> in 0.19. If both are left unset, they default to max_iter=5 and tol=None. If tol is not None, max_iter defaults to max_iter=1000. From 0.21, default max_iter will be 1000, and default tol will be 1e-3.\n",
      "  \"and default tol will be 1e-3.\" % type(self), FutureWarning)\n"
     ]
    },
    {
     "name": "stdout",
     "output_type": "stream",
     "text": [
      "********************************************************************************\n",
      "Evaluation on 17th Bundestag held-out data\n",
      "             precision    recall  f1-score   support\n",
      "\n",
      "      False       0.82      0.81      0.81      2584\n",
      "       True       0.77      0.79      0.78      2145\n",
      "\n",
      "avg / total       0.80      0.80      0.80      4729\n",
      "\n",
      "********************************************************************************\n",
      "Evaluation on 18th Bundestag held-out data\n",
      "             precision    recall  f1-score   support\n",
      "\n",
      "      False       0.83      0.50      0.63     10002\n",
      "       True       0.64      0.90      0.75     10032\n",
      "\n",
      "avg / total       0.74      0.70      0.69     20034\n",
      "\n"
     ]
    }
   ],
   "source": [
    "def assignment_09_03():\n",
    "    \n",
    "    # Load data from the remote sourcec\n",
    "    df = load_data()\n",
    "    \n",
    "    # get government and text data from df, for only year 17\n",
    "    df_17_gov, df_17_speeches = df.loc[df.wahlperiode == 17, \"government\"], df.loc[df.wahlperiode == 17, \"text\"]\n",
    "    \n",
    "    # get government and text data from df, for only year 18\n",
    "    df_18_gov, df_18_speeches = df.loc[df.wahlperiode == 18, \"government\"], df.loc[df.wahlperiode == 18, \"text\"]\n",
    "\n",
    "    # Split the data for 17 bundestags\n",
    "    train_data, test_data, train_labels, test_labels = train_test_split(df_17_speeches, df_17_gov, test_size=0.2)\n",
    "    \n",
    "    # Train the model using 17-Bundestags training data\n",
    "    model = train(train_data.tolist(), train_labels.tolist())\n",
    "    \n",
    "    # test the model using 17-Bundastag test data\n",
    "    test_prediction_17 = model.predict(test_data.tolist())\n",
    "    \n",
    "    # test the model using 18-Bundastag test data\n",
    "    test_prediction_18 = model.predict(df_18_speeches.tolist())\n",
    "    \n",
    "    print(\"*\"*80 + \"\\nEvaluation on 17th Bundestag held-out data\")\n",
    "    print(classification_report(test_prediction_17, test_labels.tolist()))\n",
    "    \n",
    "    print(\"*\"*80 + \"\\nEvaluation on 18th Bundestag held-out data\")\n",
    "    print(classification_report(test_prediction_18, df_18_gov.tolist()))\n",
    "    \n",
    "assignment_09_03()"
   ]
  },
  {
   "cell_type": "code",
   "execution_count": null,
   "metadata": {},
   "outputs": [],
   "source": []
  }
 ],
 "metadata": {
  "kernelspec": {
   "display_name": "Python 3",
   "language": "python",
   "name": "python3"
  },
  "language_info": {
   "codemirror_mode": {
    "name": "ipython",
    "version": 3
   },
   "file_extension": ".py",
   "mimetype": "text/x-python",
   "name": "python",
   "nbconvert_exporter": "python",
   "pygments_lexer": "ipython3",
   "version": "3.6.5"
  }
 },
 "nbformat": 4,
 "nbformat_minor": 2
}
