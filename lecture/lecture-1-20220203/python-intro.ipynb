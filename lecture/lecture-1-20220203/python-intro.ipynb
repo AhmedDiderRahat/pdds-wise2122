{
 "cells": [
  {
   "cell_type": "markdown",
   "metadata": {
    "slideshow": {
     "slide_type": "slide"
    }
   },
   "source": [
    "# Python For Data Science\n",
    "\n",
    "Felix Biessmann\n",
    "\n",
    "Lecture 1 - Introduction\n"
   ]
  },
  {
   "cell_type": "markdown",
   "metadata": {
    "slideshow": {
     "slide_type": "slide"
    }
   },
   "source": [
    "# Short intro\n",
    "\n",
    "- Name\n",
    "- Educational backgound (Physics/Computer Science/...?)\n",
    "- Work experience\n",
    "- Experience with Python? If yes, what project?\n"
   ]
  },
  {
   "cell_type": "markdown",
   "metadata": {
    "slideshow": {
     "slide_type": "slide"
    }
   },
   "source": [
    "\n",
    "- I'm Felix Biessmann (ß = ss)\n",
    "\n",
    "- BSc in Cognitive Science\n",
    "  - Computational Linguistics\n",
    "  - Neuroscience\n",
    "- MSc in Neuroscience\n",
    "  - Brain-Computer-Interfaces\n",
    "  - Functional Magnetic Resonance Imaging data\n",
    "- PhD in Machine Learning\n",
    "  - Biomedical Applications\n",
    "  - Multimodal neuroimaging data \n",
    "  - Text analysis on web data\n",
    "- Assistant Professor for Machine Learning at Korea University, Seoul\n",
    "- Amazon Research\n",
    "  - Computer Vision\n",
    "  - Recommender Systems\n",
    "  - Machine Learning Infrastructure \n",
    "  - ML for Data Quality\n",
    "- Einstein Center for Digital Future / Beuth\n",
    "  - Data Quality\n",
    "  - ML for Humans\n"
   ]
  },
  {
   "cell_type": "markdown",
   "metadata": {
    "slideshow": {
     "slide_type": "slide"
    }
   },
   "source": [
    "## Resources\n",
    "\n",
    "- [Jake Vanderplas: Whirlwind Tour of Python](https://github.com/jakevdp/WhirlwindTourOfPython)\n",
    "- [Jake Vanderplas: Python Data Science Handbook](https://github.com/jakevdp/PythonDataScienceHandbook)\n",
    "- [Wes McKinney: Python for Data Analysis](https://github.com/wesm/pydata-book)\n",
    "- [Andreas Mueller: Introduction to ML with Python](https://github.com/amueller/introduction_to_ml_with_python)\n",
    "- [Joel Grus: Data Science from Scratch](https://github.com/joelgrus/data-science-from-scratch)\n",
    "- [Scikit-Learn Documentation](http://scikit-learn.org/stable/documentation.html)\n",
    "- [stackoverflow](https://stackoverflow.com)"
   ]
  },
  {
   "cell_type": "markdown",
   "metadata": {
    "slideshow": {
     "slide_type": "slide"
    }
   },
   "source": [
    "# Why Python?"
   ]
  },
  {
   "cell_type": "markdown",
   "metadata": {
    "slideshow": {
     "slide_type": "slide"
    }
   },
   "source": [
    "### Popularity\n",
    "\n",
    "<img src=\"figures/python_popularity.png\" width=\"600\">\n",
    "\n",
    "https://stackoverflow.blog/2017/09/06/incredible-growth-python/\n",
    "\n"
   ]
  },
  {
   "cell_type": "markdown",
   "metadata": {
    "slideshow": {
     "slide_type": "slide"
    }
   },
   "source": [
    "### Popularity\n",
    "\n",
    "<img src=\"figures/python_popularity_2.png\" width=\"600\">\n",
    "\n",
    "https://stackoverflow.blog/2017/09/06/incredible-growth-python/\n",
    "\n"
   ]
  },
  {
   "cell_type": "markdown",
   "metadata": {
    "slideshow": {
     "slide_type": "slide"
    }
   },
   "source": [
    "### Popularity\n",
    "- Simple\n",
    "- Versatile\n",
    "- No boilerplate code\n",
    "- De facto standard for Data Science / Machine Learning\n",
    "- All technical interviews I made at Amazon: Candidates chose Python\n",
    "\n"
   ]
  },
  {
   "cell_type": "markdown",
   "metadata": {
    "slideshow": {
     "slide_type": "slide"
    }
   },
   "source": [
    "### The Zen of Python\n",
    "\n",
    "Python lovers are quick to point out how *intuitive* Python is.\n",
    "\n",
    "But intution is strongly related to familiarity. \n",
    "\n",
    "Many developers used to traditional (compiled, typed) languages won't find Python intuitive. \n",
    "\n",
    "If you want to dive deep into the philosophy behind Python, try this easter egg in a Python shell:\n"
   ]
  },
  {
   "cell_type": "code",
   "execution_count": 14,
   "metadata": {
    "slideshow": {
     "slide_type": "fragment"
    }
   },
   "outputs": [],
   "source": [
    "import this"
   ]
  },
  {
   "cell_type": "markdown",
   "metadata": {
    "slideshow": {
     "slide_type": "slide"
    }
   },
   "source": [
    "```\n",
    "Beautiful is better than ugly.\n",
    "Explicit is better than implicit.\n",
    "Simple is better than complex.\n",
    "Complex is better than complicated.\n",
    "Flat is better than nested.\n",
    "Sparse is better than dense.\n",
    "Readability counts.\n",
    "Special cases aren't special enough to break the rules.\n",
    "Although practicality beats purity.\n",
    "Errors should never pass silently.\n",
    "Unless explicitly silenced.\n",
    "In the face of ambiguity, refuse the temptation to guess.\n",
    "There should be one-- and preferably only one --obvious way to do it.\n",
    "Although that way may not be obvious at first unless you're Dutch.\n",
    "Now is better than never.\n",
    "Although never is often better than *right* now.\n",
    "If the implementation is hard to explain, it's a bad idea.\n",
    "If the implementation is easy to explain, it may be a good idea.\n",
    "Namespaces are one honking great idea -- let's do more of those!\n",
    "```"
   ]
  },
  {
   "cell_type": "markdown",
   "metadata": {
    "slideshow": {
     "slide_type": "slide"
    }
   },
   "source": [
    "### Libraries\n",
    "- NumPy\n",
    "- SciPy\n",
    "- Matplotlib\n",
    "- IPython\n",
    "- Pandas\n",
    "- sklearn\n",
    "- tensorflow\n",
    "- pytorch\n",
    "- mxnet\n",
    "- ...\n"
   ]
  },
  {
   "cell_type": "markdown",
   "metadata": {
    "slideshow": {
     "slide_type": "slide"
    }
   },
   "source": [
    "### Time\n",
    "\n",
    "Programmer time is more expensive than CPU time.\n"
   ]
  },
  {
   "cell_type": "markdown",
   "metadata": {
    "slideshow": {
     "slide_type": "slide"
    }
   },
   "source": [
    "## How to Install Python\n",
    "\n",
    "- Most systems come with (an out-dated version of) python pre-installed\n",
    "- Download binaries for your system at [https://www.python.org/downloads/](https://www.python.org/downloads/)\n",
    "- You can use system specific package managers (apt for linux, homebrew for OSX)\n",
    "- Or you use **Anaconda** (preferred if you don't like fiddling with installations)"
   ]
  },
  {
   "cell_type": "markdown",
   "metadata": {
    "slideshow": {
     "slide_type": "slide"
    }
   },
   "source": [
    "## Python 2 vs 3\n",
    "\n",
    "- [Days of Python 2 are counted](https://pythonclock.org/)\n",
    "- **Use Python 3**\n",
    "- We will use python 3.9"
   ]
  },
  {
   "cell_type": "markdown",
   "metadata": {
    "slideshow": {
     "slide_type": "slide"
    }
   },
   "source": [
    "## Installing Python\n",
    "\n",
    "* Installing python on your computer:\n",
    "    - Not recommended: Most systems come with (an out-dated version of) python pre-installed - usually it's better to not use that; it can be important to make sure you are not accidentally starting that old python version\n",
    "    - Recommended Option 1: Download binaries for your system at https://www.python.org/downloads/\n",
    "    - Recommended Option 2: [Anaconda](https://www.anaconda.com/products/individual) (preferred if you like GUIs and don't like the terminal / fiddling with installations)\n",
    "* Use jupyterhub on our cluster ([instructions](https://lms.bht-berlin.de/mod/page/view.php?id=765799))\n",
    "    - This way the code will be executed on our data science cluster, you will have access to it via a browser on your computer. This is recommended if you cannot install software on the computer you have or if your computer is too slow. "
   ]
  },
  {
   "cell_type": "markdown",
   "metadata": {
    "slideshow": {
     "slide_type": "slide"
    }
   },
   "source": [
    "# How to Install Python Packages\n",
    "\n"
   ]
  },
  {
   "cell_type": "markdown",
   "metadata": {
    "slideshow": {
     "slide_type": "fragment"
    }
   },
   "source": [
    "- For plain python \n",
    "\n",
    "   * ``pip install [packagename]``\n",
    "    \n",
    "    \n",
    "- For Anaconda installations \n",
    "    \n",
    "    * ``conda install [packagename]``\n",
    "    \n"
   ]
  },
  {
   "cell_type": "markdown",
   "metadata": {
    "slideshow": {
     "slide_type": "slide"
    }
   },
   "source": [
    "# Virtual Environments\n",
    "\n"
   ]
  },
  {
   "cell_type": "markdown",
   "metadata": {
    "slideshow": {
     "slide_type": "fragment"
    }
   },
   "source": [
    "- For different projects you will need different dependencies (or versions thereof)\n",
    "    \n",
    "- It is good practice to encapsulate your dependencies in a virtual environment\n",
    "\n",
    "* [virtualenv](https://docs.python.org/3/library/venv.html)\n",
    "\n",
    "\n",
    "```\n",
    "python3 -m venv [path_to_venv]\n",
    "```\n",
    "\n",
    "* [conda envs](https://docs.conda.io/projects/conda/en/latest/user-guide/tasks/manage-environments.html#)\n",
    "\n",
    "```\n",
    "conda create -n [name-of-env] python==3.9\n",
    "```\n"
   ]
  },
  {
   "cell_type": "markdown",
   "metadata": {
    "slideshow": {
     "slide_type": "slide"
    }
   },
   "source": [
    "# How to Run Python Code"
   ]
  },
  {
   "cell_type": "markdown",
   "metadata": {
    "slideshow": {
     "slide_type": "slide"
    }
   },
   "source": [
    "## How to Run Python Code\n",
    "\n",
    "- Shell command ```$ python [somefilename].py```\n",
    "- Interactively\n",
    " - Python Interpreter ```$ python```\n",
    " - IPython Interpreter ```$ ipython```\n",
    " - Jupyter Notebooks ```$ jupyter notebook``` (ipython interpreter served in the browser)\n",
    "\n",
    "We will discuss pros and cons after looking into each of those options"
   ]
  },
  {
   "cell_type": "markdown",
   "metadata": {
    "slideshow": {
     "slide_type": "slide"
    }
   },
   "source": [
    "## Setup Python in Room D138L\n",
    "\n",
    "Open a terminal (e.g. by hitting ``cmd-space`` and type ``terminal`` and enter)\n"
   ]
  },
  {
   "cell_type": "markdown",
   "metadata": {
    "slideshow": {
     "slide_type": "fragment"
    }
   },
   "source": [
    "Create a new virtual environment and activate it\n",
    "```\n",
    "python3 -m venv venv\n",
    "source venv/bin/activate\n",
    "```"
   ]
  },
  {
   "cell_type": "markdown",
   "metadata": {
    "slideshow": {
     "slide_type": "fragment"
    }
   },
   "source": [
    "Upgrade the python package manager and install jupyter\n",
    "```\n",
    "pip install --upgrade pip\n",
    "pip install -r requirements.txt\n",
    "```"
   ]
  },
  {
   "cell_type": "markdown",
   "metadata": {
    "raw_mimetype": "text/markdown",
    "slideshow": {
     "slide_type": "slide"
    }
   },
   "source": [
    "## The Python Interpreter\n",
    "\n",
    "(not applicable for JupyterHub Users)\n",
    "\n",
    "Type ``python`` at the command prompt:\n",
    "```\n",
    "$ python\n",
    "Python 3.5.1 |Continuum Analytics, Inc.| (default, Dec  7 2015, 11:24:55)\n",
    "Type \"help\", \"copyright\", \"credits\" or \"license\" for more information.\n",
    ">>>\n",
    "```\n",
    "You can type and execute code snippets:\n",
    "``` python\n",
    ">>> 1 + 1\n",
    "2\n",
    ">>> x = 5\n",
    ">>> x * 3\n",
    "15\n",
    "```\n",
    "\n",
    "You can run python code files:\n",
    "```python\n",
    "exec(open('some_file.py').read())\n",
    "```"
   ]
  },
  {
   "cell_type": "markdown",
   "metadata": {
    "slideshow": {
     "slide_type": "slide"
    }
   },
   "source": [
    "## The IPython Interpreter\n",
    "\n",
    "The Python shell lacks many useful features of a modern shell\n",
    "\n",
    "- tab-completion\n",
    "- history (per default)\n",
    "- help/documentation functionality\n",
    "- plotting\n",
    "\n",
    "IPython adds all that.\n"
   ]
  },
  {
   "cell_type": "markdown",
   "metadata": {
    "slideshow": {
     "slide_type": "slide"
    }
   },
   "source": [
    "## The IPython Interpreter\n",
    "\n",
    "IPython is an enhanced python interpreter invented by Fernando Perez.\n",
    "\n",
    "<img src=\"figures/220px-Fernando_Perez_-_2012_FSF_Award_(cropped).jpg\" />\n"
   ]
  },
  {
   "cell_type": "markdown",
   "metadata": {
    "slideshow": {
     "slide_type": "slide"
    }
   },
   "source": [
    "## The IPython Interpreter\n",
    "\n",
    "After installation ``ipython`` at the command prompt:\n",
    "\n",
    "```\n",
    "$ ipython\n",
    "Python 3.5.1 |Continuum Analytics, Inc.| (default, Dec  7 2015, 11:24:55) \n",
    "Type \"copyright\", \"credits\" or \"license\" for more information.\n",
    "\n",
    "IPython 4.0.0 -- An enhanced Interactive Python.\n",
    "?         -> Introduction and overview of IPython's features.\n",
    "%quickref -> Quick reference.\n",
    "help      -> Python's own help system.\n",
    "object?   -> Details about 'object', use 'object??' for extra details.\n",
    "\n",
    "In [1]: \n",
    "```\n"
   ]
  },
  {
   "cell_type": "markdown",
   "metadata": {
    "slideshow": {
     "slide_type": "slide"
    }
   },
   "source": [
    "## The IPython Interpreter\n",
    "\n",
    "Visual difference:\n",
    "- Python uses ``>>>`` \n",
    "- IPython uses numbered commands (e.g. ``In [1]:``)\n",
    "\n",
    "ipython has the same functionalities as a standard python shell\n",
    "``` ipython\n",
    "In [1]: 1 + 1\n",
    "Out[1]: 2\n",
    "\n",
    "In [2]: x = 5\n",
    "\n",
    "In [3]: x * 3\n",
    "Out[3]: 15\n",
    "```\n",
    "\n",
    "... and **many** more"
   ]
  },
  {
   "cell_type": "markdown",
   "metadata": {
    "slideshow": {
     "slide_type": "slide"
    }
   },
   "source": [
    "## Some Nice IPython Functionalities\n",
    "\n",
    "- help / documentation with ```?```\n",
    "- pasting code\n",
    "- timing code\n",
    "- debugging code\n",
    "- plotting inline\n"
   ]
  },
  {
   "cell_type": "markdown",
   "metadata": {
    "slideshow": {
     "slide_type": "slide"
    }
   },
   "source": [
    "## The helper/documentation function ```?```\n"
   ]
  },
  {
   "cell_type": "markdown",
   "metadata": {
    "slideshow": {
     "slide_type": "slide"
    }
   },
   "source": [
    "```python\n",
    "In [8]: b = [1, 2, 3]\n",
    "\n",
    "In [9]: b?\n",
    "Type:       list\n",
    "String Form:[1, 2, 3]\n",
    "Length:     3\n",
    "Docstring:\n",
    "list() -> new empty list\n",
    "list(iterable) -> new list initialized from iterable's items\n",
    "\n",
    "In [10]: print?\n",
    "Docstring:\n",
    "print(value, ..., sep=' ', end='\\n', file=sys.stdout, flush=False)\n",
    "\n",
    "Prints the values to a stream, or to sys.stdout by default.\n",
    "Optional keyword arguments:\n",
    "file:  a file-like object (stream); defaults to the current sys.stdout.\n",
    "sep:   string inserted between values, default a space.\n",
    "end:   string appended after the last value, default a newline.\n",
    "flush: whether to forcibly flush the stream.\n",
    "Type:      builtin_function_or_method\n",
    "```\n"
   ]
  },
  {
   "cell_type": "markdown",
   "metadata": {
    "slideshow": {
     "slide_type": "slide"
    }
   },
   "source": [
    "```python\n",
    "def add_numbers(a, b):\n",
    "    \"\"\"\n",
    "    Add two numbers together\n",
    "\n",
    "    Returns\n",
    "    -------\n",
    "    the_sum : type of arguments\n",
    "    \"\"\"\n",
    "    return a + b\n",
    "```"
   ]
  },
  {
   "cell_type": "markdown",
   "metadata": {
    "slideshow": {
     "slide_type": "slide"
    }
   },
   "source": [
    "```python\n",
    "In [11]: add_numbers?\n",
    "Signature: add_numbers(a, b)\n",
    "Docstring:\n",
    "Add two numbers together\n",
    "\n",
    "Returns\n",
    "-------\n",
    "the_sum : type of arguments\n",
    "File:      <ipython-input-9-6a548a216e27>\n",
    "Type:      function\n",
    "```"
   ]
  },
  {
   "cell_type": "markdown",
   "metadata": {
    "slideshow": {
     "slide_type": "slide"
    }
   },
   "source": [
    "```python\n",
    "import numpy as np\n",
    "np.*load*?\n",
    "np.__loader__\n",
    "np.load\n",
    "np.loads\n",
    "np.loadtxt\n",
    "np.pkgload\n",
    "```\n"
   ]
  },
  {
   "cell_type": "markdown",
   "metadata": {
    "slideshow": {
     "slide_type": "slide"
    }
   },
   "source": [
    "## Pasting Code\n",
    "\n",
    "```python \n",
    "In [17]: %paste\n",
    "x = 5\n",
    "y = 7\n",
    "if x > 5:\n",
    "    x += 1\n",
    "\n",
    "    y = 8\n",
    "## -- End pasted text --\n",
    "\n",
    "```"
   ]
  },
  {
   "cell_type": "markdown",
   "metadata": {
    "slideshow": {
     "slide_type": "slide"
    }
   },
   "source": [
    "## Timing Code\n"
   ]
  },
  {
   "cell_type": "code",
   "execution_count": 8,
   "metadata": {
    "slideshow": {
     "slide_type": "fragment"
    }
   },
   "outputs": [
    {
     "name": "stdout",
     "output_type": "stream",
     "text": [
      "13.6 ns ± 0.116 ns per loop (mean ± std. dev. of 7 runs, 100000000 loops each)\n"
     ]
    }
   ],
   "source": [
    "%timeit x = 4 + 5"
   ]
  },
  {
   "cell_type": "markdown",
   "metadata": {
    "slideshow": {
     "slide_type": "slide"
    }
   },
   "source": [
    "## Interactive Debugging\n",
    "\n",
    "Some buggy function\n",
    "```python\n",
    "def foo():\n",
    "    bar = [3] # bar is a list with one entry\n",
    "    return bar[5] # this tries to return the 6th entry, which will not work\n",
    "```"
   ]
  },
  {
   "cell_type": "markdown",
   "metadata": {
    "slideshow": {
     "slide_type": "slide"
    }
   },
   "source": [
    "In IPython shell:\n",
    "```python\n",
    "In [15]: foo()\n",
    "---------------------------------------------------------------------------\n",
    "IndexError                                Traceback (most recent call last)\n",
    "<ipython-input-186-624891b0d01a> in <module>()\n",
    "----> 1 foo()\n",
    "\n",
    "<ipython-input-185-48a597a45538> in foo()\n",
    "      1 def foo():\n",
    "      2     bar = [3] # bar is a list with one entry\n",
    "----> 3     return bar[5] # this tries to return the 6th entry, which will not work\n",
    "\n",
    "IndexError: list index out of range\n",
    "```"
   ]
  },
  {
   "cell_type": "markdown",
   "metadata": {
    "slideshow": {
     "slide_type": "fragment"
    }
   },
   "source": [
    "```python\n",
    "In [16]: %debug\n",
    "> <ipython-input-185-48a597a45538>(3)foo()\n",
    "      1 def foo():\n",
    "      2     bar = [3] # bar is a list with one entry\n",
    "----> 3     return bar[5] # this tries to return the 6th entry, which will not work\n",
    "\n",
    "ipdb> bar\n",
    "[3]\n",
    "\n",
    "```"
   ]
  },
  {
   "cell_type": "markdown",
   "metadata": {
    "slideshow": {
     "slide_type": "slide"
    }
   },
   "source": [
    "## Running Code\n",
    "\n",
    "Some function in a file called ``ipython_script_test.py``\n",
    "```python\n",
    "def f(x, y, z):\n",
    "    print(\"Hello World!\")\n",
    "\n",
    "```\n",
    "In IPython shell:\n",
    "```python\n",
    "In [14]: %run ipython_script_test.py\n",
    "Hello World!\n",
    "```"
   ]
  },
  {
   "cell_type": "code",
   "execution_count": 15,
   "metadata": {
    "slideshow": {
     "slide_type": "slide"
    }
   },
   "outputs": [
    {
     "data": {
      "image/png": "[encoded data removed]",
      "text/plain": [
       "<Figure size 432x288 with 1 Axes>"
      ]
     },
     "metadata": {
      "needs_background": "light"
     },
     "output_type": "display_data"
    }
   ],
   "source": [
    "### Inline Plotting\n",
    "from matplotlib import pyplot as plt\n",
    "%matplotlib inline\n",
    "\n",
    "from numpy import sin, arange, pi\n",
    "\n",
    "plt.plot(sin( arange(-pi,pi,.1)));\n"
   ]
  },
  {
   "cell_type": "markdown",
   "metadata": {
    "slideshow": {
     "slide_type": "slide"
    }
   },
   "source": [
    "## The Jupyter Notebook\n",
    "\n",
    "- made for Julia, python and R (hence **Ju**-**py**-te**R**)\n",
    "- has all functionality of the IPython shell\n",
    "- runs in browser\n",
    "- simpler plotting\n",
    "- sharing of analyses simpler (even dashboards)\n",
    "- *extremely* popular (also in companies)\n"
   ]
  },
  {
   "cell_type": "markdown",
   "metadata": {
    "slideshow": {
     "slide_type": "slide"
    }
   },
   "source": [
    "## The Jupyter Notebook\n",
    "\n",
    "- adds many useful features\n",
    " - remote execution\n",
    " - inline plotting\n",
    " - interactive plots\n",
    " \n",
    "- has many problems\n",
    " - hidden state\n",
    " - version control is difficult\n",
    " - testing is difficult\n",
    " - check out [Joel Gru's Talk](https://docs.google.com/presentation/d/1n2RlMdmv1p25Xy5thJUhkKGvjtV-dkAIsUXP-AL4ffI/edit?usp=sharing)"
   ]
  },
  {
   "cell_type": "markdown",
   "metadata": {
    "slideshow": {
     "slide_type": "slide"
    }
   },
   "source": [
    "## Run Python scripts from shell\n",
    "\n",
    "(or: how software usually is developed.)\n",
    "\n",
    "Open a file *test.py* and type:\n",
    "``` python\n",
    "# file: test.py\n",
    "print(\"Running test.py\")\n",
    "x = 5\n",
    "print(\"Result is\", 3 * x)\n",
    "```\n",
    "Go to directory of file and type ``python`` *``filename``* in a shell:\n",
    "```\n",
    "$ python test.py\n",
    "Running test.py\n",
    "Result is 15\n",
    "```"
   ]
  },
  {
   "cell_type": "markdown",
   "metadata": {
    "slideshow": {
     "slide_type": "slide"
    }
   },
   "source": [
    "## Pros and Cons of Execution Options"
   ]
  },
  {
   "cell_type": "markdown",
   "metadata": {
    "slideshow": {
     "slide_type": "slide"
    }
   },
   "source": [
    "### Python Shell\n",
    "\n",
    "**Pros**\n",
    "- interactive development / debugging\n",
    "\n",
    "**Cons**\n",
    "- very inconvenient\n",
    "\n",
    "I only use it if there is no IPython installed (and there's no internet.).\n"
   ]
  },
  {
   "cell_type": "markdown",
   "metadata": {
    "slideshow": {
     "slide_type": "slide"
    }
   },
   "source": [
    "### IPython Shell\n",
    "\n",
    "**Pros**\n",
    "- interactive development / debugging\n",
    "- Convenience\n",
    " - Documentation\n",
    " - Debugging\n",
    " - Tab-Completion\n",
    " - History\n",
    "\n",
    "**Cons**\n",
    "- too convenient (for people too lazy to organize code)\n",
    "- hidden state\n",
    "\n"
   ]
  },
  {
   "cell_type": "markdown",
   "metadata": {
    "slideshow": {
     "slide_type": "slide"
    }
   },
   "source": [
    "### Jupyter Notebooks\n",
    "\n",
    "**Pros**\n",
    "- all of IPython's advantages\n",
    "- inline plotting\n",
    "- code and markdown cells allow better documentation\n",
    "\n",
    "**Cons**\n",
    "- too convenient (for people too lazy to organize code)\n",
    "- hidden state\n",
    "- version control is difficult\n",
    "\n"
   ]
  },
  {
   "cell_type": "markdown",
   "metadata": {
    "slideshow": {
     "slide_type": "slide"
    }
   },
   "source": [
    "### Python scripts\n",
    "\n",
    "**Pros**\n",
    "- **version control**\n",
    "- clean **reproducible execution** (e.g. no hidden state)\n",
    "- precise timing\n",
    "\n",
    "**Cons**\n",
    "- not interactive\n",
    "- debugging more difficult\n"
   ]
  },
  {
   "cell_type": "markdown",
   "metadata": {
    "slideshow": {
     "slide_type": "slide"
    }
   },
   "source": [
    "# Python Syntax\n"
   ]
  },
  {
   "cell_type": "markdown",
   "metadata": {
    "slideshow": {
     "slide_type": "slide"
    }
   },
   "source": [
    "## Comments Are Marked by ``#``\n",
    "\n",
    "```python\n",
    "\n",
    "# this is a comment and will not be interpreted\n",
    "```\n",
    "\n",
    "Python does not have multiline comments\n",
    "\n",
    "But any decent editor will take care of that"
   ]
  },
  {
   "cell_type": "markdown",
   "metadata": {
    "slideshow": {
     "slide_type": "slide"
    }
   },
   "source": [
    "## End of line terminates a statement\n",
    "\n",
    "Other languages require ; or similar things - Python doesn't\n",
    "\n",
    "If you really need to do multiline statements\n",
    "\n",
    "- you can use a backslash ``\\``\n",
    "```python\n",
    "x = 1 + 2 + 3 + 4 +\\\n",
    "5 + 6 + 7 + 8\n",
    "```\n",
    "- or you use grouping\n",
    "```python\n",
    "y = [1,3,4\n",
    "      5,6,7]\n",
    "```"
   ]
  },
  {
   "cell_type": "markdown",
   "metadata": {
    "slideshow": {
     "slide_type": "slide"
    }
   },
   "source": [
    "## ``;`` also terminates a statement\n",
    "\n",
    "Normally you would do\n",
    "\n",
    "```python\n",
    "x = 1\n",
    "y = 2\n",
    "```\n",
    "\n",
    "Alternatively:\n",
    "\n",
    "```python\n",
    "x = 1; y = 2\n",
    "```"
   ]
  },
  {
   "cell_type": "markdown",
   "metadata": {
    "slideshow": {
     "slide_type": "slide"
    }
   },
   "source": [
    "## Indentation!\n",
    "\n",
    "**Whitespace Matters in Python**\n",
    "\n",
    "In Python code is grouped by indentation:\n",
    "\n",
    "```python\n",
    "for i in range(10):\n",
    "    if i < 5:\n",
    "        print(\"Lower\")\n",
    "    else:\n",
    "        print(\"Higher\")\n",
    "```\n",
    "\n",
    "Don't mix up tabs or spaces!"
   ]
  }
 ],
 "metadata": {
  "anaconda-cloud": {},
  "celltoolbar": "Slideshow",
  "kernelspec": {
   "display_name": "Python 3 (ipykernel)",
   "language": "python",
   "name": "python3"
  },
  "language_info": {
   "codemirror_mode": {
    "name": "ipython",
    "version": 3
   },
   "file_extension": ".py",
   "mimetype": "text/x-python",
   "name": "python",
   "nbconvert_exporter": "python",
   "pygments_lexer": "ipython3",
   "version": "3.9.6"
  }
 },
 "nbformat": 4,
 "nbformat_minor": 1
}
