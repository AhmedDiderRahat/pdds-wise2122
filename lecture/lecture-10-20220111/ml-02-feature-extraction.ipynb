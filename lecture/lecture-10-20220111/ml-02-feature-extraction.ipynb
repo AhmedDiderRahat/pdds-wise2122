{
 "cells": [
  {
   "cell_type": "markdown",
   "metadata": {
    "slideshow": {
     "slide_type": "slide"
    }
   },
   "source": [
    "# Python for Data Science\n",
    "\n",
    "Machine Learning 2 - Feature Extraction, Model Evaluation, Scikit Learn API, ML Pipelines"
   ]
  },
  {
   "cell_type": "code",
   "execution_count": null,
   "metadata": {
    "slideshow": {
     "slide_type": "skip"
    }
   },
   "outputs": [],
   "source": [
    "!pip install -r requirements.txt"
   ]
  },
  {
   "cell_type": "markdown",
   "metadata": {
    "slideshow": {
     "slide_type": "slide"
    }
   },
   "source": [
    "# Overview\n",
    "\n",
    "- Feature Extraction\n",
    "\n",
    "- Model Evaluation\n",
    "\n",
    "- Scikit Learn API: Estimators, Pipelines\n",
    "\n",
    "- Application Example: A Text Classification Pipeline\n",
    "\n",
    "- Hyperparameter Optimization"
   ]
  },
  {
   "cell_type": "markdown",
   "metadata": {
    "slideshow": {
     "slide_type": "slide"
    }
   },
   "source": [
    "# Machine Learning Pipelines\n",
    "\n",
    "![ml-pipeline-2.png](figures/ml-pipeline.png)"
   ]
  },
  {
   "cell_type": "markdown",
   "metadata": {
    "slideshow": {
     "slide_type": "slide"
    }
   },
   "source": [
    "# Feature Extraction\n",
    "\n",
    "- Feature extraction describes the transformations from **data** to **vectors**\n",
    "\n",
    "   \n",
    "- Extracting good features is **more important** than choosing a ML model\n",
    "\n",
    "\n",
    "- We will cover some standard feature extractors, but there are many more\n",
    "\n",
    "\n",
    "- Often the best feature extractors include domain knowledge by human experts\n",
    "\n",
    "\n",
    "- Feature extractors have to be optimized along with all other model parameters\n",
    " "
   ]
  },
  {
   "cell_type": "markdown",
   "metadata": {
    "slideshow": {
     "slide_type": "slide"
    }
   },
   "source": [
    "# Feature Extraction\n",
    "   \n",
    "- Continuous Features\n",
    "- Categorical Features\n",
    "- Text\n",
    "- Images\n",
    "  "
   ]
  },
  {
   "cell_type": "markdown",
   "metadata": {
    "slideshow": {
     "slide_type": "slide"
    }
   },
   "source": [
    "## Continuous Features\n",
    "\n",
    "- Continuous features: $x \\in R^{d}$\n",
    "\n",
    "\n",
    "- For many models continuous features don't need to be transformed\n",
    "\n",
    "\n",
    "- For some models it is necessary or beneficial to **normalize** continuous features\n",
    "\n",
    "    - When optimizing with stochastic gradient descent\n",
    "    - When regularizing models: to control regularization"
   ]
  },
  {
   "cell_type": "markdown",
   "metadata": {
    "slideshow": {
     "slide_type": "slide"
    }
   },
   "source": [
    "## Normalization: z-scoring\n",
    "\n",
    "Given a feature $x\\in R^1$ (and for multivariate $x$ analogously) there are several standard normalization options:\n",
    "\n",
    "**Standard scaling / z-scoring**: compute mean $\\mu_x$ and standard deviation $\\sigma_x$ of $x$ and compute\n",
    "\n",
    "$$ x \\leftarrow \\frac{(x - \\mu_x) } {\\sigma_x} $$\n",
    "\n",
    "- Resulting variable has zero mean and unit variance\n",
    "- Sometimes this is not possible\n",
    "    - sparsity of data would be destroyed\n",
    "    - mean / variance is difficult to compute\n",
    "- See [sklearn.preprocessing.StandardScaler](https://scikit-learn.org/stable/modules/generated/sklearn.preprocessing.StandardScaler.html)\n",
    "     \n"
   ]
  },
  {
   "cell_type": "code",
   "execution_count": 3,
   "metadata": {
    "slideshow": {
     "slide_type": "slide"
    }
   },
   "outputs": [
    {
     "name": "stdout",
     "output_type": "stream",
     "text": [
      "Estimated Mean: [0.5 0.5]\n"
     ]
    },
    {
     "data": {
      "text/plain": [
       "array([[0., 0.],\n",
       "       [3., 3.]])"
      ]
     },
     "execution_count": 3,
     "metadata": {},
     "output_type": "execute_result"
    }
   ],
   "source": [
    "from sklearn.preprocessing import StandardScaler\n",
    "data = [[0, 0], [0, 0], [1, 1], [1, 1]]\n",
    "scaler = StandardScaler()\n",
    "scaler.fit(data)\n",
    "print(\"Estimated Mean: {}\".format(scaler.mean_))\n",
    "scaler.transform([[.5, .5], [2,2]])"
   ]
  },
  {
   "cell_type": "markdown",
   "metadata": {
    "slideshow": {
     "slide_type": "slide"
    }
   },
   "source": [
    "## Normalization: Min-Max Scaling   \n",
    "\n",
    "**Min-max scaling**: compute min $\\text{min}_x$ and max $\\text{max}_x$ of $x$\n",
    "\n",
    "$$ x \\leftarrow \\frac{(x - \\text{min}_x) } {\\text{max}_x - \\text{min}_x} $$\n",
    "\n",
    "- Resulting variable is in range [0,1] (or any other range)\n",
    "- See [sklearn.preprocessing.MinMaxScaler](https://scikit-learn.org/stable/modules/generated/sklearn.preprocessing.MinMaxScaler.html)\n",
    "\n"
   ]
  },
  {
   "cell_type": "markdown",
   "metadata": {
    "slideshow": {
     "slide_type": "slide"
    }
   },
   "source": [
    "## Categorical Features\n",
    "\n",
    "Categorical features are variables $x \\in \\{ 0,1,2,\\dots, N\\}$ taking one value of a set of cardinality $N$ without an implicit ordering e.g.:\n",
    "- colors (red, green, blue)\n",
    "- user ids\n",
    "- Movie ids\n",
    "\n",
    "Often used feature transformations are \n",
    "\n",
    "- One-hot encoding\n",
    "\n",
    "- More recently for neural networks: low dimensional embeddings\n"
   ]
  },
  {
   "cell_type": "markdown",
   "metadata": {
    "slideshow": {
     "slide_type": "slide"
    }
   },
   "source": [
    "## One-hot encoding\n",
    "\n",
    "Given a set of values [red, green, blue], we transform the data into \n",
    "\n",
    "- red $\\leftarrow [1,0,0]$\n",
    "- green $\\leftarrow [0,1,0]$\n",
    "- blue $\\leftarrow [0,0,1]$\n",
    "\n",
    "Sets of categorical variables can be represented as sum over single value vectors.\n",
    "\n",
    "Examples: bag-of-words vectors\n"
   ]
  },
  {
   "cell_type": "code",
   "execution_count": 4,
   "metadata": {
    "slideshow": {
     "slide_type": "slide"
    }
   },
   "outputs": [
    {
     "data": {
      "text/plain": [
       "array([[0., 0., 1.],\n",
       "       [0., 1., 0.],\n",
       "       [1., 0., 0.]])"
      ]
     },
     "execution_count": 4,
     "metadata": {},
     "output_type": "execute_result"
    }
   ],
   "source": [
    "from sklearn.preprocessing import OneHotEncoder\n",
    "enc = OneHotEncoder()\n",
    "X = [['red'], ['green'], ['blue'], ['red']]\n",
    "enc.fit(X)\n",
    "enc.transform([['red'], ['green'], ['blue']]).toarray()"
   ]
  },
  {
   "cell_type": "markdown",
   "metadata": {
    "slideshow": {
     "slide_type": "slide"
    }
   },
   "source": [
    "## One-hot encoding: Problems\n",
    "\n",
    "- Cardinality needs to be estimated upfront\n",
    "- New items / categories cannot be represented\n",
    "- Similarity information is lost (light-blue and blue as different as black and white)"
   ]
  },
  {
   "cell_type": "markdown",
   "metadata": {
    "slideshow": {
     "slide_type": "slide"
    }
   },
   "source": [
    "# Feature Extraction for Text\n",
    "\n",
    "- Bag-of-Words\n",
    "- Hashed Bag-of-Words\n",
    "- (Continuous Bag-of-words)\n"
   ]
  },
  {
   "cell_type": "markdown",
   "metadata": {
    "slideshow": {
     "slide_type": "slide"
    }
   },
   "source": [
    "## Bag-of-Words Features\n",
    "\n",
    "Count word (=token) occurrences\n",
    "\n",
    "<center>\n",
    "\"if you pay peanuts , you get monkeys .\"\n",
    "</center>\n",
    "\n",
    "|get|if |monkeys | pay | peanuts| you |...|\n",
    "|---|---|--------|-----|--------|-----|---|\n",
    "|1  |1  | 1      |1    |   1    |  2  |...|\n",
    " "
   ]
  },
  {
   "cell_type": "markdown",
   "metadata": {
    "slideshow": {
     "slide_type": "fragment"
    }
   },
   "source": [
    "- Only accounts for word histogram\n",
    "- Most of language structure lost\n",
    "- Very efficient "
   ]
  },
  {
   "cell_type": "markdown",
   "metadata": {
    "slideshow": {
     "slide_type": "slide"
    }
   },
   "source": [
    "## Bag-of-Words Model with N-Grams\n",
    "\n",
    "Count n-gram occurrences can account for some language structure\n",
    "\n",
    "\n",
    "<center>\n",
    "\"if you pay peanuts , you get monkeys .\"\n",
    "</center>\n",
    "\n",
    "|get monkeys|if you |you pay | pay peanuts | ...|\n",
    "|---|---|--------|-----|---|\n",
    "|1  |1  | 1      |1    |   ...|"
   ]
  },
  {
   "cell_type": "code",
   "execution_count": 6,
   "metadata": {
    "slideshow": {
     "slide_type": "slide"
    }
   },
   "outputs": [
    {
     "name": "stdout",
     "output_type": "stream",
     "text": [
      "Vocabulary: ['and' 'document' 'first' 'is' 'one' 'second' 'the' 'third' 'this']\n"
     ]
    },
    {
     "data": {
      "text/plain": [
       "array([[0, 1, 1, 1, 0, 0, 1, 0, 1],\n",
       "       [0, 2, 0, 1, 0, 1, 1, 0, 1],\n",
       "       [1, 0, 0, 1, 1, 0, 1, 1, 1],\n",
       "       [0, 1, 1, 1, 0, 0, 1, 0, 1]])"
      ]
     },
     "execution_count": 6,
     "metadata": {},
     "output_type": "execute_result"
    }
   ],
   "source": [
    "from sklearn.feature_extraction.text import CountVectorizer\n",
    "corpus = [\n",
    "     'This is the first document.',\n",
    "     'This document is the second document.',\n",
    "     'And this is the third one.',\n",
    "     'Is this the first document?']\n",
    "vectorizer = CountVectorizer()\n",
    "X = vectorizer.fit_transform(corpus)\n",
    "print(\"Vocabulary: {}\".format(vectorizer.get_feature_names_out()))\n",
    "X.toarray()"
   ]
  },
  {
   "cell_type": "markdown",
   "metadata": {
    "slideshow": {
     "slide_type": "slide"
    }
   },
   "source": [
    "## Character N-Grams\n",
    "\n",
    "Instead of words as tokens you can take characters as tokens\n",
    "\n",
    "\n",
    "<center>\n",
    "\"if you pay peanuts , you get monkeys .\"\n",
    "</center>\n",
    "\n",
    "|g  | e | t | ge | et|...|\n",
    "|---|---|---|----|---|---|\n",
    "|1  |1  | 1 |1   | 1 |...|\n",
    "\n",
    "Very powerful for language-independent models!"
   ]
  },
  {
   "cell_type": "markdown",
   "metadata": {
    "slideshow": {
     "slide_type": "slide"
    }
   },
   "source": [
    "## Term Frequency / Inverse Document Frequency\n",
    "\n",
    "\n",
    "Frequently occurring words (like ``the``) are often not very meaningful and are often weighted down by the **inverse document frequency**:\n",
    "\n",
    "\n",
    "- Term frequency:\n",
    "\n",
    "    $ \\text{tf}(t,d) $: Frequency of a term $t$ in document $d$\n",
    "    \n",
    "\n",
    "- Inverse document frequency:\n",
    "\n",
    "    $\\text{idf} (t,d)=\\log {\\frac {|\\text{Number of documents}|}{|\\text{Number of Documents containing }t|}}$\n",
    "    "
   ]
  },
  {
   "cell_type": "markdown",
   "metadata": {
    "slideshow": {
     "slide_type": "slide"
    }
   },
   "source": [
    "## Alternatively: Stopwords\n",
    "\n",
    "Just exclude some frequent meaningless words from the text. "
   ]
  },
  {
   "cell_type": "markdown",
   "metadata": {
    "slideshow": {
     "slide_type": "slide"
    }
   },
   "source": [
    "## N-Grams are expensive\n",
    "\n",
    "$V=$ number of tokens in your vocabulary (usually 1e4 to 1e6 for good models)\n",
    "- unigrams: all tokens\n",
    "\n",
    "    Memory requirement for n-gram counts: $V$\n",
    "\n",
    "\n",
    "- bigrams: all ordered pairs of **two** tokens\n",
    "\n",
    "    Memory requirement for n-gram counts: $V^2$\n",
    "\n",
    "\n",
    "- trigrams: all ordered pairs of **three** tokens\n",
    "\n",
    "    Memory requirement for n-gram counts: $V^3$\n",
    "\n",
    "\n",
    "- ...\n",
    "\n",
    "\n",
    "See [Google's n-gram corpus](http://storage.googleapis.com/books/ngrams/books/datasetsv2.html) (up to 5-grams for many languages)."
   ]
  },
  {
   "cell_type": "markdown",
   "metadata": {
    "slideshow": {
     "slide_type": "slide"
    }
   },
   "source": [
    "## Example: String Matching for Spelling Correction\n",
    "\n",
    "Imagine you have a dictionary of correctly spelled words and list of misspelled words. \n",
    "\n",
    "**Character n-grams** can help you to efficiently find the correct spelling. "
   ]
  },
  {
   "cell_type": "code",
   "execution_count": 7,
   "metadata": {
    "slideshow": {
     "slide_type": "fragment"
    }
   },
   "outputs": [],
   "source": [
    "from sklearn.feature_extraction.text import CountVectorizer\n",
    "\n",
    "animals = [\n",
    "     'Alpaka',\n",
    "     'Elefant',\n",
    "     'Dog',\n",
    "     'Cat']\n",
    "\n",
    "vect = CountVectorizer(analyzer='char',ngram_range=(1,3)).fit(animals)"
   ]
  },
  {
   "cell_type": "markdown",
   "metadata": {
    "slideshow": {
     "slide_type": "slide"
    }
   },
   "source": [
    "## The Learned Vocabulary of Character N-Grams"
   ]
  },
  {
   "cell_type": "code",
   "execution_count": 8,
   "metadata": {
    "slideshow": {
     "slide_type": "fragment"
    }
   },
   "outputs": [
    {
     "data": {
      "text/plain": [
       "{'a': 0,\n",
       " 'l': 25,\n",
       " 'p': 34,\n",
       " 'k': 23,\n",
       " 'al': 3,\n",
       " 'lp': 28,\n",
       " 'pa': 35,\n",
       " 'ak': 1,\n",
       " 'ka': 24,\n",
       " 'alp': 4,\n",
       " 'lpa': 29,\n",
       " 'pak': 36,\n",
       " 'aka': 2,\n",
       " 'e': 14,\n",
       " 'f': 19,\n",
       " 'n': 30,\n",
       " 't': 37,\n",
       " 'el': 17,\n",
       " 'le': 26,\n",
       " 'ef': 15,\n",
       " 'fa': 20,\n",
       " 'an': 5,\n",
       " 'nt': 31,\n",
       " 'ele': 18,\n",
       " 'lef': 27,\n",
       " 'efa': 16,\n",
       " 'fan': 21,\n",
       " 'ant': 6,\n",
       " 'd': 11,\n",
       " 'o': 32,\n",
       " 'g': 22,\n",
       " 'do': 12,\n",
       " 'og': 33,\n",
       " 'dog': 13,\n",
       " 'c': 8,\n",
       " 'ca': 9,\n",
       " 'at': 7,\n",
       " 'cat': 10}"
      ]
     },
     "execution_count": 8,
     "metadata": {},
     "output_type": "execute_result"
    }
   ],
   "source": [
    "vect.vocabulary_"
   ]
  },
  {
   "cell_type": "markdown",
   "metadata": {
    "slideshow": {
     "slide_type": "slide"
    }
   },
   "source": [
    "## The Transformed Correctly Spelled Words"
   ]
  },
  {
   "cell_type": "code",
   "execution_count": 9,
   "metadata": {
    "slideshow": {
     "slide_type": "fragment"
    }
   },
   "outputs": [
    {
     "data": {
      "text/plain": [
       "array([[3, 1, 1, 1, 1, 0, 0, 0, 0, 0, 0, 0, 0, 0, 0, 0, 0, 0, 0, 0, 0, 0,\n",
       "        0, 1, 1, 1, 0, 0, 1, 1, 0, 0, 0, 0, 1, 1, 1, 0],\n",
       "       [1, 0, 0, 0, 0, 1, 1, 0, 0, 0, 0, 0, 0, 0, 2, 1, 1, 1, 1, 1, 1, 1,\n",
       "        0, 0, 0, 1, 1, 1, 0, 0, 1, 1, 0, 0, 0, 0, 0, 1],\n",
       "       [0, 0, 0, 0, 0, 0, 0, 0, 0, 0, 0, 1, 1, 1, 0, 0, 0, 0, 0, 0, 0, 0,\n",
       "        1, 0, 0, 0, 0, 0, 0, 0, 0, 0, 1, 1, 0, 0, 0, 0],\n",
       "       [1, 0, 0, 0, 0, 0, 0, 1, 1, 1, 1, 0, 0, 0, 0, 0, 0, 0, 0, 0, 0, 0,\n",
       "        0, 0, 0, 0, 0, 0, 0, 0, 0, 0, 0, 0, 0, 0, 0, 1]])"
      ]
     },
     "execution_count": 9,
     "metadata": {},
     "output_type": "execute_result"
    }
   ],
   "source": [
    "correct_spelling = vect.transform(animals)\n",
    "correct_spelling.toarray()"
   ]
  },
  {
   "cell_type": "markdown",
   "metadata": {
    "slideshow": {
     "slide_type": "slide"
    }
   },
   "source": [
    "## Computing String Similarity is a Matrix-Vector Multiplication"
   ]
  },
  {
   "cell_type": "code",
   "execution_count": 10,
   "metadata": {
    "slideshow": {
     "slide_type": "fragment"
    }
   },
   "outputs": [
    {
     "data": {
      "text/plain": [
       "array([[ 4],\n",
       "       [10],\n",
       "       [ 1],\n",
       "       [ 2]])"
      ]
     },
     "execution_count": 10,
     "metadata": {},
     "output_type": "execute_result"
    }
   ],
   "source": [
    "typo = 'olifant'\n",
    "string_similarity = correct_spelling @ vect.transform([typo]).T.toarray()\n",
    "string_similarity"
   ]
  },
  {
   "cell_type": "code",
   "execution_count": 11,
   "metadata": {
    "slideshow": {
     "slide_type": "fragment"
    }
   },
   "outputs": [
    {
     "data": {
      "text/plain": [
       "'Elefant'"
      ]
     },
     "execution_count": 11,
     "metadata": {},
     "output_type": "execute_result"
    }
   ],
   "source": [
    "animals[string_similarity.argmax()]"
   ]
  },
  {
   "cell_type": "markdown",
   "metadata": {
    "slideshow": {
     "slide_type": "slide"
    }
   },
   "source": [
    "## Hashed N-Grams\n",
    "\n",
    "- Instead of counting all n-grams: Use a HashMap\n",
    "\n",
    "- Each token gets hashed, count of hash-bucket incremented\n",
    "\n",
    "- Advantages:\n",
    "    - Full control over memory footprint (often small HashMaps work surprisingly well)\n",
    "    - No need to compute a dictionary\n",
    "    \n",
    "    \n",
    "- Disadvantages:\n",
    "    - Hash collisions: multiple n-gram map to the same bucket\n",
    "    - No Tf-Idf weighting: \n",
    "\n",
    "\n",
    "\n",
    "See [Scikit-Learn's HashingVectorizer](http://scikit-learn.org/stable/modules/generated/sklearn.feature_extraction.text.HashingVectorizer.html)"
   ]
  },
  {
   "cell_type": "markdown",
   "metadata": {
    "slideshow": {
     "slide_type": "slide"
    }
   },
   "source": [
    "## Feature Extraction for Images\n",
    "\n",
    "- Classical features (e.g. HOG)\n",
    "\n",
    "- CNN features\n",
    "  "
   ]
  },
  {
   "cell_type": "markdown",
   "metadata": {
    "slideshow": {
     "slide_type": "slide"
    }
   },
   "source": [
    "## Classical Computer Vision Feature Extractors\n",
    "\n",
    "Histograms of Oriented Edges (HOG) descriptors capture shape very well. \n",
    "\n",
    "HOG features, just like most other oldschool vision feature descriptors, perform poorly compared to neural networks\n",
    "\n",
    "Still, they could be helpful if shape on standardized images is the only relevant feature\n",
    "  "
   ]
  },
  {
   "cell_type": "code",
   "execution_count": 22,
   "metadata": {
    "slideshow": {
     "slide_type": "slide"
    }
   },
   "outputs": [],
   "source": [
    "from skimage.feature import hog\n",
    "from skimage import data, exposure, io\n",
    "\n",
    "# image = data.astronaut()\n",
    "image = io.imread(\"figures/turing.png\")\n",
    "\n",
    "fd, hog_image = hog(image, orientations=8, pixels_per_cell=(16, 16),\n",
    "                    cells_per_block=(1, 1), visualize=True, channel_axis=-1)\n"
   ]
  },
  {
   "cell_type": "code",
   "execution_count": 23,
   "metadata": {
    "scrolled": true,
    "slideshow": {
     "slide_type": "slide"
    }
   },
   "outputs": [
    {
     "data": {
      "image/png": "[encoded data removed]",
      "text/plain": [
       "<Figure size 576x288 with 2 Axes>"
      ]
     },
     "metadata": {
      "needs_background": "light"
     },
     "output_type": "display_data"
    }
   ],
   "source": [
    "import matplotlib.pyplot as plt\n",
    "%matplotlib inline\n",
    "\n",
    "fig, (ax1, ax2) = plt.subplots(1, 2, figsize=(8, 4), sharex=True, sharey=True)\n",
    "\n",
    "ax1.axis('off')\n",
    "ax1.imshow(image, cmap=plt.cm.gray)\n",
    "ax1.set_title('Input image')\n",
    "\n",
    "# Rescale histogram for better display\n",
    "hog_image_rescaled = exposure.rescale_intensity(hog_image, in_range=(0, 10))\n",
    "\n",
    "ax2.axis('off')\n",
    "ax2.imshow(hog_image_rescaled, cmap=plt.cm.gray)\n",
    "ax2.set_title('Histogram of Oriented Gradients')\n",
    "plt.show()"
   ]
  },
  {
   "cell_type": "markdown",
   "metadata": {
    "slideshow": {
     "slide_type": "slide"
    }
   },
   "source": [
    "## Convolutional Neural Networks\n",
    "\n",
    "State of the art in computer vision are convolutional neural networks\n",
    "\n",
    "We don't have time in this lecture to go into detail (see e.g. Kristian Hildebrand's lecture)\n",
    "\n",
    "And most people don't have the compute to train those models from scratch\n",
    "\n",
    "But pretrained models are good feature extractors and don't require training"
   ]
  },
  {
   "cell_type": "code",
   "execution_count": 24,
   "metadata": {
    "slideshow": {
     "slide_type": "slide"
    }
   },
   "outputs": [
    {
     "name": "stderr",
     "output_type": "stream",
     "text": [
      "2021-12-29 11:04:07.089699: I tensorflow/core/platform/cpu_feature_guard.cc:151] This TensorFlow binary is optimized with oneAPI Deep Neural Network Library (oneDNN) to use the following CPU instructions in performance-critical operations:  AVX2 FMA\n",
      "To enable them in other operations, rebuild TensorFlow with the appropriate compiler flags.\n"
     ]
    },
    {
     "name": "stdout",
     "output_type": "stream",
     "text": [
      "image dimensions: (1, 224, 224, 3)\n",
      "image feature dimensions: (1, 14, 14, 512)\n"
     ]
    }
   ],
   "source": [
    "from tensorflow.keras.applications.vgg19 import VGG19\n",
    "from tensorflow.keras.preprocessing import image\n",
    "from tensorflow.keras.applications.vgg19 import preprocess_input\n",
    "from tensorflow.keras.models import Model\n",
    "import numpy as np\n",
    "\n",
    "base_model = VGG19(weights='imagenet')\n",
    "model = Model(inputs=base_model.input, outputs=base_model.get_layer('block4_pool').output)\n",
    "\n",
    "img_path = 'figures/turing.png'\n",
    "img = image.load_img(img_path, target_size=(224, 224))\n",
    "x = image.img_to_array(img)\n",
    "x = np.expand_dims(x, axis=0)\n",
    "x = preprocess_input(x)\n",
    "\n",
    "block4_pool_features = model.predict(x)\n",
    "print(\"image dimensions: {}\".format(x.shape))\n",
    "print(\"image feature dimensions: {}\".format(block4_pool_features.shape))"
   ]
  },
  {
   "cell_type": "code",
   "execution_count": 25,
   "metadata": {
    "slideshow": {
     "slide_type": "slide"
    }
   },
   "outputs": [
    {
     "data": {
      "image/png": "[encoded data removed]",
      "text/plain": [
       "<Figure size 864x288 with 3 Axes>"
      ]
     },
     "metadata": {
      "needs_background": "light"
     },
     "output_type": "display_data"
    }
   ],
   "source": [
    "def plot_channel(img, channel, ax):\n",
    "    ax.axis('off')\n",
    "    ax.imshow(img, cmap=plt.cm.gray)\n",
    "    ax.set_title('Channel {}'.format(channel))\n",
    "\n",
    "channels = [3, 56, 170]\n",
    "\n",
    "_, axs = plt.subplots(1, len(channels), figsize=(12, 4), sharex=True, sharey=True)\n",
    "\n",
    "for channel, ax in zip(channels, axs):\n",
    "    plot_channel(block4_pool_features[0,:,:,channel], channel, ax)"
   ]
  }
 ],
 "metadata": {
  "celltoolbar": "Slideshow",
  "kernelspec": {
   "display_name": "Python 3 (ipykernel)",
   "language": "python",
   "name": "python3"
  },
  "language_info": {
   "codemirror_mode": {
    "name": "ipython",
    "version": 3
   },
   "file_extension": ".py",
   "mimetype": "text/x-python",
   "name": "python",
   "nbconvert_exporter": "python",
   "pygments_lexer": "ipython3",
   "version": "3.9.6"
  }
 },
 "nbformat": 4,
 "nbformat_minor": 1
}
