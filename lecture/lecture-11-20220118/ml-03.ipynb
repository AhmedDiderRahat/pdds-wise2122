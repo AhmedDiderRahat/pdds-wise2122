{
 "cells": [
  {
   "cell_type": "markdown",
   "metadata": {
    "slideshow": {
     "slide_type": "slide"
    }
   },
   "source": [
    "# Python for Data Science\n",
    "\n",
    "Machine Learning 3 - Scikit Learn API, ML Pipelines, Cross-Validation"
   ]
  },
  {
   "cell_type": "code",
   "execution_count": 1,
   "metadata": {
    "slideshow": {
     "slide_type": "skip"
    }
   },
   "outputs": [
    {
     "name": "stdout",
     "output_type": "stream",
     "text": [
      "Requirement already satisfied: pandas==1.3.5 in /Users/felix/anaconda3/envs/pdds-2021/lib/python3.9/site-packages (from -r requirements.txt (line 1)) (1.3.5)\n",
      "Requirement already satisfied: scikit-learn[alldeps]==1.0.2 in /Users/felix/anaconda3/envs/pdds-2021/lib/python3.9/site-packages (from -r requirements.txt (line 2)) (1.0.2)\n",
      "Requirement already satisfied: jupyter in /Users/felix/anaconda3/envs/pdds-2021/lib/python3.9/site-packages (from -r requirements.txt (line 3)) (1.0.0)\n",
      "Requirement already satisfied: newspaper3k in /Users/felix/anaconda3/envs/pdds-2021/lib/python3.9/site-packages (from -r requirements.txt (line 4)) (0.2.8)\n",
      "Requirement already satisfied: numpy>=1.17.3 in /Users/felix/anaconda3/envs/pdds-2021/lib/python3.9/site-packages (from pandas==1.3.5->-r requirements.txt (line 1)) (1.20.3)\n",
      "Requirement already satisfied: pytz>=2017.3 in /Users/felix/anaconda3/envs/pdds-2021/lib/python3.9/site-packages (from pandas==1.3.5->-r requirements.txt (line 1)) (2021.3)\n",
      "Requirement already satisfied: python-dateutil>=2.7.3 in /Users/felix/anaconda3/envs/pdds-2021/lib/python3.9/site-packages (from pandas==1.3.5->-r requirements.txt (line 1)) (2.8.2)\n",
      "\u001b[33mWARNING: scikit-learn 1.0.2 does not provide the extra 'alldeps'\u001b[0m\n",
      "Requirement already satisfied: joblib>=0.11 in /Users/felix/anaconda3/envs/pdds-2021/lib/python3.9/site-packages (from scikit-learn[alldeps]==1.0.2->-r requirements.txt (line 2)) (1.1.0)\n",
      "Requirement already satisfied: scipy>=1.1.0 in /Users/felix/anaconda3/envs/pdds-2021/lib/python3.9/site-packages (from scikit-learn[alldeps]==1.0.2->-r requirements.txt (line 2)) (1.7.3)\n",
      "Requirement already satisfied: threadpoolctl>=2.0.0 in /Users/felix/anaconda3/envs/pdds-2021/lib/python3.9/site-packages (from scikit-learn[alldeps]==1.0.2->-r requirements.txt (line 2)) (3.0.0)\n",
      "Requirement already satisfied: notebook in /Users/felix/anaconda3/envs/pdds-2021/lib/python3.9/site-packages (from jupyter->-r requirements.txt (line 3)) (6.4.4)\n",
      "Requirement already satisfied: ipykernel in /Users/felix/anaconda3/envs/pdds-2021/lib/python3.9/site-packages (from jupyter->-r requirements.txt (line 3)) (6.4.1)\n",
      "Requirement already satisfied: qtconsole in /Users/felix/anaconda3/envs/pdds-2021/lib/python3.9/site-packages (from jupyter->-r requirements.txt (line 3)) (5.1.1)\n",
      "Requirement already satisfied: jupyter-console in /Users/felix/anaconda3/envs/pdds-2021/lib/python3.9/site-packages (from jupyter->-r requirements.txt (line 3)) (6.4.0)\n",
      "Requirement already satisfied: ipywidgets in /Users/felix/anaconda3/envs/pdds-2021/lib/python3.9/site-packages (from jupyter->-r requirements.txt (line 3)) (7.6.5)\n",
      "Requirement already satisfied: nbconvert in /Users/felix/anaconda3/envs/pdds-2021/lib/python3.9/site-packages (from jupyter->-r requirements.txt (line 3)) (6.2.0)\n",
      "Requirement already satisfied: jieba3k>=0.35.1 in /Users/felix/anaconda3/envs/pdds-2021/lib/python3.9/site-packages (from newspaper3k->-r requirements.txt (line 4)) (0.35.1)\n",
      "Requirement already satisfied: cssselect>=0.9.2 in /Users/felix/anaconda3/envs/pdds-2021/lib/python3.9/site-packages (from newspaper3k->-r requirements.txt (line 4)) (1.1.0)\n",
      "Requirement already satisfied: Pillow>=3.3.0 in /Users/felix/anaconda3/envs/pdds-2021/lib/python3.9/site-packages (from newspaper3k->-r requirements.txt (line 4)) (8.3.2)\n",
      "Requirement already satisfied: PyYAML>=3.11 in /Users/felix/anaconda3/envs/pdds-2021/lib/python3.9/site-packages (from newspaper3k->-r requirements.txt (line 4)) (6.0)\n",
      "Requirement already satisfied: requests>=2.10.0 in /Users/felix/anaconda3/envs/pdds-2021/lib/python3.9/site-packages (from newspaper3k->-r requirements.txt (line 4)) (2.26.0)\n",
      "Requirement already satisfied: beautifulsoup4>=4.4.1 in /Users/felix/anaconda3/envs/pdds-2021/lib/python3.9/site-packages (from newspaper3k->-r requirements.txt (line 4)) (4.10.0)\n",
      "Requirement already satisfied: nltk>=3.2.1 in /Users/felix/anaconda3/envs/pdds-2021/lib/python3.9/site-packages (from newspaper3k->-r requirements.txt (line 4)) (3.6.7)\n",
      "Requirement already satisfied: feedparser>=5.2.1 in /Users/felix/anaconda3/envs/pdds-2021/lib/python3.9/site-packages (from newspaper3k->-r requirements.txt (line 4)) (6.0.8)\n",
      "Requirement already satisfied: tinysegmenter==0.3 in /Users/felix/anaconda3/envs/pdds-2021/lib/python3.9/site-packages (from newspaper3k->-r requirements.txt (line 4)) (0.3)\n",
      "Requirement already satisfied: lxml>=3.6.0 in /Users/felix/anaconda3/envs/pdds-2021/lib/python3.9/site-packages (from newspaper3k->-r requirements.txt (line 4)) (4.6.4)\n",
      "Requirement already satisfied: feedfinder2>=0.0.4 in /Users/felix/anaconda3/envs/pdds-2021/lib/python3.9/site-packages (from newspaper3k->-r requirements.txt (line 4)) (0.0.4)\n",
      "Requirement already satisfied: tldextract>=2.0.1 in /Users/felix/anaconda3/envs/pdds-2021/lib/python3.9/site-packages (from newspaper3k->-r requirements.txt (line 4)) (3.1.2)\n",
      "Requirement already satisfied: soupsieve>1.2 in /Users/felix/anaconda3/envs/pdds-2021/lib/python3.9/site-packages (from beautifulsoup4>=4.4.1->newspaper3k->-r requirements.txt (line 4)) (2.3.1)\n",
      "Requirement already satisfied: six in /Users/felix/anaconda3/envs/pdds-2021/lib/python3.9/site-packages (from feedfinder2>=0.0.4->newspaper3k->-r requirements.txt (line 4)) (1.16.0)\n",
      "Requirement already satisfied: sgmllib3k in /Users/felix/anaconda3/envs/pdds-2021/lib/python3.9/site-packages (from feedparser>=5.2.1->newspaper3k->-r requirements.txt (line 4)) (1.0.0)\n",
      "Requirement already satisfied: click in /Users/felix/anaconda3/envs/pdds-2021/lib/python3.9/site-packages (from nltk>=3.2.1->newspaper3k->-r requirements.txt (line 4)) (8.0.3)\n",
      "Requirement already satisfied: regex>=2021.8.3 in /Users/felix/anaconda3/envs/pdds-2021/lib/python3.9/site-packages (from nltk>=3.2.1->newspaper3k->-r requirements.txt (line 4)) (2021.11.10)\n",
      "Requirement already satisfied: tqdm in /Users/felix/anaconda3/envs/pdds-2021/lib/python3.9/site-packages (from nltk>=3.2.1->newspaper3k->-r requirements.txt (line 4)) (4.62.3)\n",
      "Requirement already satisfied: urllib3<1.27,>=1.21.1 in /Users/felix/anaconda3/envs/pdds-2021/lib/python3.9/site-packages (from requests>=2.10.0->newspaper3k->-r requirements.txt (line 4)) (1.26.7)\n",
      "Requirement already satisfied: idna<4,>=2.5 in /Users/felix/anaconda3/envs/pdds-2021/lib/python3.9/site-packages (from requests>=2.10.0->newspaper3k->-r requirements.txt (line 4)) (3.3)\n",
      "Requirement already satisfied: charset-normalizer~=2.0.0 in /Users/felix/anaconda3/envs/pdds-2021/lib/python3.9/site-packages (from requests>=2.10.0->newspaper3k->-r requirements.txt (line 4)) (2.0.8)\n",
      "Requirement already satisfied: certifi>=2017.4.17 in /Users/felix/anaconda3/envs/pdds-2021/lib/python3.9/site-packages (from requests>=2.10.0->newspaper3k->-r requirements.txt (line 4)) (2021.5.30)\n",
      "Requirement already satisfied: requests-file>=1.4 in /Users/felix/anaconda3/envs/pdds-2021/lib/python3.9/site-packages (from tldextract>=2.0.1->newspaper3k->-r requirements.txt (line 4)) (1.5.1)\n",
      "Requirement already satisfied: filelock>=3.0.8 in /Users/felix/anaconda3/envs/pdds-2021/lib/python3.9/site-packages (from tldextract>=2.0.1->newspaper3k->-r requirements.txt (line 4)) (3.4.2)\n",
      "Requirement already satisfied: ipython-genutils in /Users/felix/anaconda3/envs/pdds-2021/lib/python3.9/site-packages (from ipykernel->jupyter->-r requirements.txt (line 3)) (0.2.0)\n",
      "Requirement already satisfied: appnope in /Users/felix/anaconda3/envs/pdds-2021/lib/python3.9/site-packages (from ipykernel->jupyter->-r requirements.txt (line 3)) (0.1.2)\n",
      "Requirement already satisfied: jupyter-client<8.0 in /Users/felix/anaconda3/envs/pdds-2021/lib/python3.9/site-packages (from ipykernel->jupyter->-r requirements.txt (line 3)) (7.0.5)\n",
      "Requirement already satisfied: debugpy<2.0,>=1.0.0 in /Users/felix/anaconda3/envs/pdds-2021/lib/python3.9/site-packages (from ipykernel->jupyter->-r requirements.txt (line 3)) (1.4.3)\n",
      "Requirement already satisfied: traitlets<6.0,>=4.1.0 in /Users/felix/anaconda3/envs/pdds-2021/lib/python3.9/site-packages (from ipykernel->jupyter->-r requirements.txt (line 3)) (5.1.0)\n",
      "Requirement already satisfied: tornado<7.0,>=4.2 in /Users/felix/anaconda3/envs/pdds-2021/lib/python3.9/site-packages (from ipykernel->jupyter->-r requirements.txt (line 3)) (6.1)\n",
      "Requirement already satisfied: matplotlib-inline<0.2.0,>=0.1.0 in /Users/felix/anaconda3/envs/pdds-2021/lib/python3.9/site-packages (from ipykernel->jupyter->-r requirements.txt (line 3)) (0.1.3)\n",
      "Requirement already satisfied: ipython<8.0,>=7.23.1 in /Users/felix/anaconda3/envs/pdds-2021/lib/python3.9/site-packages (from ipykernel->jupyter->-r requirements.txt (line 3)) (7.28.0)\n"
     ]
    },
    {
     "name": "stdout",
     "output_type": "stream",
     "text": [
      "Requirement already satisfied: pickleshare in /Users/felix/anaconda3/envs/pdds-2021/lib/python3.9/site-packages (from ipython<8.0,>=7.23.1->ipykernel->jupyter->-r requirements.txt (line 3)) (0.7.5)\n",
      "Requirement already satisfied: decorator in /Users/felix/anaconda3/envs/pdds-2021/lib/python3.9/site-packages (from ipython<8.0,>=7.23.1->ipykernel->jupyter->-r requirements.txt (line 3)) (5.1.0)\n",
      "Requirement already satisfied: prompt-toolkit!=3.0.0,!=3.0.1,<3.1.0,>=2.0.0 in /Users/felix/anaconda3/envs/pdds-2021/lib/python3.9/site-packages (from ipython<8.0,>=7.23.1->ipykernel->jupyter->-r requirements.txt (line 3)) (3.0.20)\n",
      "Requirement already satisfied: backcall in /Users/felix/anaconda3/envs/pdds-2021/lib/python3.9/site-packages (from ipython<8.0,>=7.23.1->ipykernel->jupyter->-r requirements.txt (line 3)) (0.2.0)\n",
      "Requirement already satisfied: jedi>=0.16 in /Users/felix/anaconda3/envs/pdds-2021/lib/python3.9/site-packages (from ipython<8.0,>=7.23.1->ipykernel->jupyter->-r requirements.txt (line 3)) (0.18.0)\n",
      "Requirement already satisfied: pexpect>4.3 in /Users/felix/anaconda3/envs/pdds-2021/lib/python3.9/site-packages (from ipython<8.0,>=7.23.1->ipykernel->jupyter->-r requirements.txt (line 3)) (4.8.0)\n",
      "Requirement already satisfied: setuptools>=18.5 in /Users/felix/anaconda3/envs/pdds-2021/lib/python3.9/site-packages (from ipython<8.0,>=7.23.1->ipykernel->jupyter->-r requirements.txt (line 3)) (58.0.4)\n",
      "Requirement already satisfied: pygments in /Users/felix/anaconda3/envs/pdds-2021/lib/python3.9/site-packages (from ipython<8.0,>=7.23.1->ipykernel->jupyter->-r requirements.txt (line 3)) (2.10.0)\n",
      "Requirement already satisfied: parso<0.9.0,>=0.8.0 in /Users/felix/anaconda3/envs/pdds-2021/lib/python3.9/site-packages (from jedi>=0.16->ipython<8.0,>=7.23.1->ipykernel->jupyter->-r requirements.txt (line 3)) (0.8.2)\n",
      "Requirement already satisfied: pyzmq>=13 in /Users/felix/anaconda3/envs/pdds-2021/lib/python3.9/site-packages (from jupyter-client<8.0->ipykernel->jupyter->-r requirements.txt (line 3)) (22.3.0)\n",
      "Requirement already satisfied: jupyter-core>=4.6.0 in /Users/felix/anaconda3/envs/pdds-2021/lib/python3.9/site-packages (from jupyter-client<8.0->ipykernel->jupyter->-r requirements.txt (line 3)) (4.8.1)\n",
      "Requirement already satisfied: nest-asyncio>=1.5 in /Users/felix/anaconda3/envs/pdds-2021/lib/python3.9/site-packages (from jupyter-client<8.0->ipykernel->jupyter->-r requirements.txt (line 3)) (1.5.1)\n",
      "Requirement already satisfied: entrypoints in /Users/felix/anaconda3/envs/pdds-2021/lib/python3.9/site-packages (from jupyter-client<8.0->ipykernel->jupyter->-r requirements.txt (line 3)) (0.3)\n",
      "Requirement already satisfied: ptyprocess>=0.5 in /Users/felix/anaconda3/envs/pdds-2021/lib/python3.9/site-packages (from pexpect>4.3->ipython<8.0,>=7.23.1->ipykernel->jupyter->-r requirements.txt (line 3)) (0.7.0)\n",
      "Requirement already satisfied: wcwidth in /Users/felix/anaconda3/envs/pdds-2021/lib/python3.9/site-packages (from prompt-toolkit!=3.0.0,!=3.0.1,<3.1.0,>=2.0.0->ipython<8.0,>=7.23.1->ipykernel->jupyter->-r requirements.txt (line 3)) (0.2.5)\n",
      "Requirement already satisfied: widgetsnbextension~=3.5.0 in /Users/felix/anaconda3/envs/pdds-2021/lib/python3.9/site-packages (from ipywidgets->jupyter->-r requirements.txt (line 3)) (3.5.1)\n",
      "Requirement already satisfied: nbformat>=4.2.0 in /Users/felix/anaconda3/envs/pdds-2021/lib/python3.9/site-packages (from ipywidgets->jupyter->-r requirements.txt (line 3)) (5.1.3)\n",
      "Requirement already satisfied: jupyterlab-widgets>=1.0.0 in /Users/felix/anaconda3/envs/pdds-2021/lib/python3.9/site-packages (from ipywidgets->jupyter->-r requirements.txt (line 3)) (1.0.2)\n",
      "Requirement already satisfied: jsonschema!=2.5.0,>=2.4 in /Users/felix/anaconda3/envs/pdds-2021/lib/python3.9/site-packages (from nbformat>=4.2.0->ipywidgets->jupyter->-r requirements.txt (line 3)) (4.0.1)\n",
      "Requirement already satisfied: pyrsistent!=0.17.0,!=0.17.1,!=0.17.2,>=0.14.0 in /Users/felix/anaconda3/envs/pdds-2021/lib/python3.9/site-packages (from jsonschema!=2.5.0,>=2.4->nbformat>=4.2.0->ipywidgets->jupyter->-r requirements.txt (line 3)) (0.18.0)\n",
      "Requirement already satisfied: attrs>=17.4.0 in /Users/felix/anaconda3/envs/pdds-2021/lib/python3.9/site-packages (from jsonschema!=2.5.0,>=2.4->nbformat>=4.2.0->ipywidgets->jupyter->-r requirements.txt (line 3)) (21.2.0)\n",
      "Requirement already satisfied: prometheus-client in /Users/felix/anaconda3/envs/pdds-2021/lib/python3.9/site-packages (from notebook->jupyter->-r requirements.txt (line 3)) (0.11.0)\n",
      "Requirement already satisfied: Send2Trash>=1.5.0 in /Users/felix/anaconda3/envs/pdds-2021/lib/python3.9/site-packages (from notebook->jupyter->-r requirements.txt (line 3)) (1.8.0)\n",
      "Requirement already satisfied: jinja2 in /Users/felix/anaconda3/envs/pdds-2021/lib/python3.9/site-packages (from notebook->jupyter->-r requirements.txt (line 3)) (3.0.1)\n",
      "Requirement already satisfied: terminado>=0.8.3 in /Users/felix/anaconda3/envs/pdds-2021/lib/python3.9/site-packages (from notebook->jupyter->-r requirements.txt (line 3)) (0.12.1)\n",
      "Requirement already satisfied: argon2-cffi in /Users/felix/anaconda3/envs/pdds-2021/lib/python3.9/site-packages (from notebook->jupyter->-r requirements.txt (line 3)) (21.1.0)\n",
      "Requirement already satisfied: cffi>=1.0.0 in /Users/felix/anaconda3/envs/pdds-2021/lib/python3.9/site-packages (from argon2-cffi->notebook->jupyter->-r requirements.txt (line 3)) (1.14.6)\n",
      "Requirement already satisfied: pycparser in /Users/felix/anaconda3/envs/pdds-2021/lib/python3.9/site-packages (from cffi>=1.0.0->argon2-cffi->notebook->jupyter->-r requirements.txt (line 3)) (2.20)\n",
      "Requirement already satisfied: MarkupSafe>=2.0 in /Users/felix/anaconda3/envs/pdds-2021/lib/python3.9/site-packages (from jinja2->notebook->jupyter->-r requirements.txt (line 3)) (2.0.1)\n",
      "Requirement already satisfied: defusedxml in /Users/felix/anaconda3/envs/pdds-2021/lib/python3.9/site-packages (from nbconvert->jupyter->-r requirements.txt (line 3)) (0.7.1)\n",
      "Requirement already satisfied: bleach in /Users/felix/anaconda3/envs/pdds-2021/lib/python3.9/site-packages (from nbconvert->jupyter->-r requirements.txt (line 3)) (4.1.0)\n",
      "Requirement already satisfied: pandocfilters>=1.4.1 in /Users/felix/anaconda3/envs/pdds-2021/lib/python3.9/site-packages (from nbconvert->jupyter->-r requirements.txt (line 3)) (1.5.0)\n",
      "Requirement already satisfied: nbclient<0.6.0,>=0.5.0 in /Users/felix/anaconda3/envs/pdds-2021/lib/python3.9/site-packages (from nbconvert->jupyter->-r requirements.txt (line 3)) (0.5.4)\n",
      "Requirement already satisfied: jupyterlab-pygments in /Users/felix/anaconda3/envs/pdds-2021/lib/python3.9/site-packages (from nbconvert->jupyter->-r requirements.txt (line 3)) (0.1.2)\n",
      "Requirement already satisfied: testpath in /Users/felix/anaconda3/envs/pdds-2021/lib/python3.9/site-packages (from nbconvert->jupyter->-r requirements.txt (line 3)) (0.5.0)\n",
      "Requirement already satisfied: mistune<2,>=0.8.1 in /Users/felix/anaconda3/envs/pdds-2021/lib/python3.9/site-packages (from nbconvert->jupyter->-r requirements.txt (line 3)) (0.8.4)\n",
      "Requirement already satisfied: packaging in /Users/felix/anaconda3/envs/pdds-2021/lib/python3.9/site-packages (from bleach->nbconvert->jupyter->-r requirements.txt (line 3)) (21.0)\n",
      "Requirement already satisfied: webencodings in /Users/felix/anaconda3/envs/pdds-2021/lib/python3.9/site-packages (from bleach->nbconvert->jupyter->-r requirements.txt (line 3)) (0.5.1)\n",
      "Requirement already satisfied: pyparsing>=2.0.2 in /Users/felix/anaconda3/envs/pdds-2021/lib/python3.9/site-packages (from packaging->bleach->nbconvert->jupyter->-r requirements.txt (line 3)) (2.4.7)\n",
      "Requirement already satisfied: qtpy in /Users/felix/anaconda3/envs/pdds-2021/lib/python3.9/site-packages (from qtconsole->jupyter->-r requirements.txt (line 3)) (1.11.2)\n"
     ]
    }
   ],
   "source": [
    "!pip install -r requirements.txt"
   ]
  },
  {
   "cell_type": "markdown",
   "metadata": {
    "slideshow": {
     "slide_type": "slide"
    }
   },
   "source": [
    "# Overview\n",
    "\n",
    "- Combinations of heterogeneous features\n",
    "\n",
    "- Model Evaluation\n",
    "\n",
    "- Scikit Learn API: Estimators, Pipelines\n",
    "\n",
    "- Application Example: A Text Classification Pipeline\n",
    "\n",
    "- Hyperparameter Optimization"
   ]
  },
  {
   "cell_type": "markdown",
   "metadata": {
    "slideshow": {
     "slide_type": "slide"
    }
   },
   "source": [
    "# Feature Extraction\n",
    "   \n",
    "- Continuous Features:\n",
    " * Normalization:\n",
    "     * Standardization (z-scoring)\n",
    "     * MinMaxScaling\n",
    "- Categorical Features\n",
    " * One-Hot-Encoding\n",
    "- Text:\n",
    " * Bag-of-N-Gram Features\n",
    "- Images\n",
    " * Classical Computer Vision (HOG features)\n",
    " * Activations of higher layers of Convolutional Neural Network\n",
    "  "
   ]
  },
  {
   "cell_type": "markdown",
   "metadata": {
    "slideshow": {
     "slide_type": "slide"
    }
   },
   "source": [
    "# Machine Learning Pipelines\n",
    "\n",
    "![ml-pipeline-2.png](figures/ml-pipeline.png)"
   ]
  },
  {
   "cell_type": "markdown",
   "metadata": {
    "slideshow": {
     "slide_type": "slide"
    }
   },
   "source": [
    "# Scikit Learn API\n",
    "\n",
    "[Scikit Learn](https://scikit-learn.org) is a popular machine learning library. \n",
    "\n",
    "\n",
    "Its API was copied in many other libraries (e.g. spark.ml). \n",
    "\n",
    "\n",
    "It offers most feature transformations, ML models, metrics and many useful tools. \n",
    "\n",
    "Two types of objects:\n",
    "\n",
    "* [Transformers](https://scikit-learn.org/stable/modules/generated/sklearn.base.TransformerMixin.html)\n",
    " * **Do not learn from data** (do not have data dependent state)\n",
    "\n",
    "* [Estimators](https://scikit-learn.org/stable/modules/generated/sklearn.base.BaseEstimator.html)\n",
    " * **Learn from data** (have data dependent state)\n",
    " * Do not work until you called `fit` on them\n",
    " * Once fitted, Estimators become Transformers\n"
   ]
  },
  {
   "cell_type": "markdown",
   "metadata": {
    "slideshow": {
     "slide_type": "slide"
    }
   },
   "source": [
    "## Estimators\n",
    "\n",
    "- implement ``set_params()`` and ``get_params()``\n",
    "- implement ``fit`` method\n",
    "- Examples for what ``fit`` does: \n",
    "    - [sklearn.feature_extraction.text.CountVectorizer](https://scikit-learn.org/stable/modules/generated/sklearn.feature_extraction.text.CountVectorizer.html): learns dictionary\n",
    "    - [sklearn.linear_model.Perceptron](https://scikit-learn.org/stable/modules/generated/sklearn.linear_model.Perceptron.html): learns weight vector\n",
    "    and Pipelines\n",
    "\n",
    "- implement ``transform`` method\n",
    "- Examples for what ``transform`` does: \n",
    "    - [sklearn.feature_extraction.text.CountVectorizer](https://scikit-learn.org/stable/modules/generated/sklearn.feature_extraction.text.CountVectorizer.html): extracts n-gram counts\n",
    "    - [sklearn.linear_model.Perceptron](https://scikit-learn.org/stable/modules/generated/sklearn.linear_model.Perceptron.html): projects data onto weight vector"
   ]
  },
  {
   "cell_type": "markdown",
   "metadata": {
    "slideshow": {
     "slide_type": "slide"
    }
   },
   "source": [
    "## Pipelines\n",
    "\n",
    "Estimators with standardized API can be chained in a Pipeline. \n",
    "\n",
    "This allows to chain all feature extraction and classification into one object\n",
    "\n",
    "Pipelines behave like Estimators themselves, with ``fit`` and ``transform`` methods\n",
    "\n",
    "All parameters of a Pipeline can be optimized jointly"
   ]
  },
  {
   "cell_type": "markdown",
   "metadata": {
    "slideshow": {
     "slide_type": "slide"
    }
   },
   "source": [
    "### A Toy Data Example Pipelines for Text Classification\n"
   ]
  },
  {
   "cell_type": "code",
   "execution_count": 2,
   "metadata": {
    "slideshow": {
     "slide_type": "fragment"
    }
   },
   "outputs": [
    {
     "data": {
      "text/plain": [
       "array([-1,  1,  1])"
      ]
     },
     "execution_count": 2,
     "metadata": {},
     "output_type": "execute_result"
    }
   ],
   "source": [
    "from sklearn.pipeline import Pipeline\n",
    "from sklearn.feature_extraction.text import CountVectorizer\n",
    "from sklearn.linear_model import Perceptron\n",
    "\n",
    "reviews = [ \n",
    "        \"This is a horrible movie\", \n",
    "        \"a great movie\",\n",
    "        \"a fantastic movie\",\n",
    "    ]\n",
    "sentiment = [-1, 1, 1]\n",
    "\n",
    "text_clf = Pipeline([('vect', CountVectorizer()),\n",
    "                     ('clf', Perceptron())])\n",
    "\n",
    "text_clf.fit(reviews, sentiment)\n",
    "\n",
    "text_clf.predict(reviews)"
   ]
  },
  {
   "cell_type": "markdown",
   "metadata": {
    "slideshow": {
     "slide_type": "slide"
    }
   },
   "source": [
    "# Pipelines With Heterogeneous Features\n",
    "\n",
    "- For best maintainability and clarity ML Pipelines contain **all feature preprocessing steps**\n",
    "\n",
    "- The ColumnTransformer extracts features from pandas DataFrames into sklearn pipelines\n",
    "\n",
    "- This allows to optimize **all hyperparameters** end-to-end\n",
    "\n",
    "- We look at an example from the [sklearn documentation](https://scikit-learn.org/stable/auto_examples/compose/plot_column_transformer_mixed_types.html)"
   ]
  },
  {
   "cell_type": "code",
   "execution_count": 3,
   "metadata": {
    "slideshow": {
     "slide_type": "slide"
    }
   },
   "outputs": [
    {
     "data": {
      "text/html": [
       "<div>\n",
       "<style scoped>\n",
       "    .dataframe tbody tr th:only-of-type {\n",
       "        vertical-align: middle;\n",
       "    }\n",
       "\n",
       "    .dataframe tbody tr th {\n",
       "        vertical-align: top;\n",
       "    }\n",
       "\n",
       "    .dataframe thead th {\n",
       "        text-align: right;\n",
       "    }\n",
       "</style>\n",
       "<table border=\"1\" class=\"dataframe\">\n",
       "  <thead>\n",
       "    <tr style=\"text-align: right;\">\n",
       "      <th></th>\n",
       "      <th>pclass</th>\n",
       "      <th>name</th>\n",
       "      <th>sex</th>\n",
       "      <th>age</th>\n",
       "      <th>sibsp</th>\n",
       "      <th>parch</th>\n",
       "      <th>ticket</th>\n",
       "      <th>fare</th>\n",
       "      <th>cabin</th>\n",
       "      <th>embarked</th>\n",
       "      <th>boat</th>\n",
       "      <th>body</th>\n",
       "      <th>home.dest</th>\n",
       "    </tr>\n",
       "  </thead>\n",
       "  <tbody>\n",
       "    <tr>\n",
       "      <th>0</th>\n",
       "      <td>1.0</td>\n",
       "      <td>Allen, Miss. Elisabeth Walton</td>\n",
       "      <td>female</td>\n",
       "      <td>29.0000</td>\n",
       "      <td>0.0</td>\n",
       "      <td>0.0</td>\n",
       "      <td>24160</td>\n",
       "      <td>211.3375</td>\n",
       "      <td>B5</td>\n",
       "      <td>S</td>\n",
       "      <td>2</td>\n",
       "      <td>NaN</td>\n",
       "      <td>St Louis, MO</td>\n",
       "    </tr>\n",
       "    <tr>\n",
       "      <th>1</th>\n",
       "      <td>1.0</td>\n",
       "      <td>Allison, Master. Hudson Trevor</td>\n",
       "      <td>male</td>\n",
       "      <td>0.9167</td>\n",
       "      <td>1.0</td>\n",
       "      <td>2.0</td>\n",
       "      <td>113781</td>\n",
       "      <td>151.5500</td>\n",
       "      <td>C22 C26</td>\n",
       "      <td>S</td>\n",
       "      <td>11</td>\n",
       "      <td>NaN</td>\n",
       "      <td>Montreal, PQ / Chesterville, ON</td>\n",
       "    </tr>\n",
       "    <tr>\n",
       "      <th>2</th>\n",
       "      <td>1.0</td>\n",
       "      <td>Allison, Miss. Helen Loraine</td>\n",
       "      <td>female</td>\n",
       "      <td>2.0000</td>\n",
       "      <td>1.0</td>\n",
       "      <td>2.0</td>\n",
       "      <td>113781</td>\n",
       "      <td>151.5500</td>\n",
       "      <td>C22 C26</td>\n",
       "      <td>S</td>\n",
       "      <td>None</td>\n",
       "      <td>NaN</td>\n",
       "      <td>Montreal, PQ / Chesterville, ON</td>\n",
       "    </tr>\n",
       "    <tr>\n",
       "      <th>3</th>\n",
       "      <td>1.0</td>\n",
       "      <td>Allison, Mr. Hudson Joshua Creighton</td>\n",
       "      <td>male</td>\n",
       "      <td>30.0000</td>\n",
       "      <td>1.0</td>\n",
       "      <td>2.0</td>\n",
       "      <td>113781</td>\n",
       "      <td>151.5500</td>\n",
       "      <td>C22 C26</td>\n",
       "      <td>S</td>\n",
       "      <td>None</td>\n",
       "      <td>135.0</td>\n",
       "      <td>Montreal, PQ / Chesterville, ON</td>\n",
       "    </tr>\n",
       "    <tr>\n",
       "      <th>4</th>\n",
       "      <td>1.0</td>\n",
       "      <td>Allison, Mrs. Hudson J C (Bessie Waldo Daniels)</td>\n",
       "      <td>female</td>\n",
       "      <td>25.0000</td>\n",
       "      <td>1.0</td>\n",
       "      <td>2.0</td>\n",
       "      <td>113781</td>\n",
       "      <td>151.5500</td>\n",
       "      <td>C22 C26</td>\n",
       "      <td>S</td>\n",
       "      <td>None</td>\n",
       "      <td>NaN</td>\n",
       "      <td>Montreal, PQ / Chesterville, ON</td>\n",
       "    </tr>\n",
       "  </tbody>\n",
       "</table>\n",
       "</div>"
      ],
      "text/plain": [
       "   pclass                                             name     sex      age  \\\n",
       "0     1.0                    Allen, Miss. Elisabeth Walton  female  29.0000   \n",
       "1     1.0                   Allison, Master. Hudson Trevor    male   0.9167   \n",
       "2     1.0                     Allison, Miss. Helen Loraine  female   2.0000   \n",
       "3     1.0             Allison, Mr. Hudson Joshua Creighton    male  30.0000   \n",
       "4     1.0  Allison, Mrs. Hudson J C (Bessie Waldo Daniels)  female  25.0000   \n",
       "\n",
       "   sibsp  parch  ticket      fare    cabin embarked  boat   body  \\\n",
       "0    0.0    0.0   24160  211.3375       B5        S     2    NaN   \n",
       "1    1.0    2.0  113781  151.5500  C22 C26        S    11    NaN   \n",
       "2    1.0    2.0  113781  151.5500  C22 C26        S  None    NaN   \n",
       "3    1.0    2.0  113781  151.5500  C22 C26        S  None  135.0   \n",
       "4    1.0    2.0  113781  151.5500  C22 C26        S  None    NaN   \n",
       "\n",
       "                         home.dest  \n",
       "0                     St Louis, MO  \n",
       "1  Montreal, PQ / Chesterville, ON  \n",
       "2  Montreal, PQ / Chesterville, ON  \n",
       "3  Montreal, PQ / Chesterville, ON  \n",
       "4  Montreal, PQ / Chesterville, ON  "
      ]
     },
     "execution_count": 3,
     "metadata": {},
     "output_type": "execute_result"
    }
   ],
   "source": [
    "import numpy as np\n",
    "\n",
    "from sklearn.compose import ColumnTransformer\n",
    "from sklearn.datasets import fetch_openml\n",
    "from sklearn.pipeline import Pipeline\n",
    "from sklearn.impute import SimpleImputer\n",
    "from sklearn.preprocessing import StandardScaler, OneHotEncoder\n",
    "from sklearn.linear_model import LogisticRegression\n",
    "from sklearn.model_selection import train_test_split, GridSearchCV\n",
    "\n",
    "np.random.seed(0)\n",
    "\n",
    "# Load data from https://www.openml.org/d/40945\n",
    "X_df, y_series = fetch_openml(\"titanic\", version=1, as_frame=True, return_X_y=True)\n",
    "X_df.head()"
   ]
  },
  {
   "cell_type": "code",
   "execution_count": 4,
   "metadata": {
    "slideshow": {
     "slide_type": "slide"
    }
   },
   "outputs": [
    {
     "data": {
      "text/plain": [
       "0    1\n",
       "1    1\n",
       "2    0\n",
       "3    0\n",
       "4    0\n",
       "Name: survived, dtype: category\n",
       "Categories (2, object): ['0', '1']"
      ]
     },
     "execution_count": 4,
     "metadata": {},
     "output_type": "execute_result"
    }
   ],
   "source": [
    "y_series.head()"
   ]
  },
  {
   "cell_type": "markdown",
   "metadata": {
    "slideshow": {
     "slide_type": "slide"
    }
   },
   "source": [
    "### Numeric Features\n",
    "\n",
    "* age: float.\n",
    "* fare: float."
   ]
  },
  {
   "cell_type": "code",
   "execution_count": 5,
   "metadata": {
    "slideshow": {
     "slide_type": "fragment"
    }
   },
   "outputs": [],
   "source": [
    "# We create the preprocessing pipelines for both numeric and categorical data.\n",
    "numeric_features = ['age', 'fare']\n",
    "numeric_transformer = Pipeline(steps=[\n",
    "    ('imputer', SimpleImputer(strategy='median')),\n",
    "    ('scaler', StandardScaler())])"
   ]
  },
  {
   "cell_type": "markdown",
   "metadata": {
    "slideshow": {
     "slide_type": "slide"
    }
   },
   "source": [
    "### Categoric Features\n",
    "\n",
    "* embarked: categories encoded as strings {'C', 'S', 'Q'}.\n",
    "* sex: categories encoded as strings {'female', 'male'}.\n",
    "* pclass: ordinal integers {1, 2, 3}."
   ]
  },
  {
   "cell_type": "code",
   "execution_count": 6,
   "metadata": {
    "slideshow": {
     "slide_type": "fragment"
    }
   },
   "outputs": [],
   "source": [
    "categorical_features = ['embarked', 'sex', 'pclass']\n",
    "categorical_transformer = Pipeline(steps=[\n",
    "    ('imputer', SimpleImputer(strategy='constant', fill_value='missing')),\n",
    "    ('onehot', OneHotEncoder(handle_unknown='ignore'))])"
   ]
  },
  {
   "cell_type": "markdown",
   "metadata": {
    "slideshow": {
     "slide_type": "slide"
    }
   },
   "source": [
    "### Constructing the Pipeline\n",
    "\n",
    "* ColumnTransformer extracts features and concatenates them"
   ]
  },
  {
   "cell_type": "code",
   "execution_count": 7,
   "metadata": {
    "slideshow": {
     "slide_type": "fragment"
    }
   },
   "outputs": [],
   "source": [
    "preprocessor = ColumnTransformer(\n",
    "    transformers=[\n",
    "        ('num', numeric_transformer, numeric_features),\n",
    "        ('cat', categorical_transformer, categorical_features)])\n",
    "\n",
    "clf = Pipeline(steps=[('preprocessor', preprocessor),\n",
    "                      ('classifier', LogisticRegression())])"
   ]
  },
  {
   "cell_type": "markdown",
   "metadata": {
    "slideshow": {
     "slide_type": "slide"
    }
   },
   "source": [
    "### Training the Pipeline\n",
    "\n",
    "* ColumnTransformer extracts features and concatenates them"
   ]
  },
  {
   "cell_type": "code",
   "execution_count": 8,
   "metadata": {
    "slideshow": {
     "slide_type": "fragment"
    }
   },
   "outputs": [
    {
     "name": "stdout",
     "output_type": "stream",
     "text": [
      "model score: 0.790\n"
     ]
    }
   ],
   "source": [
    "X_train, X_test, y_train, y_test = train_test_split(X_df, y_series, test_size=0.2)\n",
    "\n",
    "clf.fit(X_train, y_train)\n",
    "print(\"model score: %.3f\" % clf.score(X_test, y_test))"
   ]
  },
  {
   "cell_type": "markdown",
   "metadata": {
    "slideshow": {
     "slide_type": "slide"
    }
   },
   "source": [
    "# Model Evaluation\n",
    "    \n",
    "- Machine Learning models are evaluated by comparing the predictions $f(x)=\\hat{y}$ and the target values $y$\n",
    "\n",
    "- As ML models can memorize any training data set, **all metrics must always be computed using cross-validation**"
   ]
  },
  {
   "cell_type": "markdown",
   "metadata": {
    "slideshow": {
     "slide_type": "slide"
    }
   },
   "source": [
    "## Classification Metrics\n",
    "\n",
    "- Accuracy\n",
    "- Precision\n",
    "- Recall\n",
    "- F1"
   ]
  },
  {
   "cell_type": "markdown",
   "metadata": {
    "slideshow": {
     "slide_type": "slide"
    }
   },
   "source": [
    "## Accuracy\n",
    "\n",
    "Defined as \n",
    "\n",
    "$\\frac{\\text{number of correct assignments}}{\\text{number of data points}}$\n",
    "\n",
    "Problem: Imbalanced classes"
   ]
  },
  {
   "cell_type": "code",
   "execution_count": 9,
   "metadata": {
    "slideshow": {
     "slide_type": "fragment"
    }
   },
   "outputs": [
    {
     "data": {
      "text/plain": [
       "0.75"
      ]
     },
     "execution_count": 9,
     "metadata": {},
     "output_type": "execute_result"
    }
   ],
   "source": [
    "from sklearn.metrics import accuracy_score\n",
    "y_true = [1,0,1,1]\n",
    "y_predicted = [1,1,1,1]\n",
    "accuracy_score(y_true,y_predicted)"
   ]
  },
  {
   "cell_type": "markdown",
   "metadata": {
    "slideshow": {
     "slide_type": "slide"
    }
   },
   "source": [
    "## Precision\n",
    "\n",
    "$${\\text{precision}}={\\frac {|\\{{\\text{relevant instances}}\\}\\cap \\{{\\text{predicted instances}}\\}|}{|\\{{\\text{predicted instances}}\\}|}}$$\n"
   ]
  },
  {
   "cell_type": "code",
   "execution_count": 10,
   "metadata": {
    "slideshow": {
     "slide_type": "fragment"
    }
   },
   "outputs": [
    {
     "data": {
      "text/plain": [
       "0.5"
      ]
     },
     "execution_count": 10,
     "metadata": {},
     "output_type": "execute_result"
    }
   ],
   "source": [
    "from sklearn.metrics import precision_score\n",
    "y_true = [1,0,1,1]\n",
    "y_predicted = [1,1,0,0]\n",
    "precision_score(y_true,y_predicted)"
   ]
  },
  {
   "cell_type": "markdown",
   "metadata": {
    "slideshow": {
     "slide_type": "slide"
    }
   },
   "source": [
    "### Precision for Multiclass Problems\n",
    "\n",
    "* Precision is only defined for **binary classification**\n",
    "\n",
    "* For multiclass problems, the binary precision scores need to be averaged:\n",
    " * *micro* average: Count TP and FN across all classes, then compute precision\n",
    " * *macro* average: Compute precision for each class, then average\n",
    " * *class-frequency weighted* average: Compute precision weight single class precision by the class frequency, them average them"
   ]
  },
  {
   "cell_type": "code",
   "execution_count": 11,
   "metadata": {
    "slideshow": {
     "slide_type": "fragment"
    }
   },
   "outputs": [
    {
     "name": "stdout",
     "output_type": "stream",
     "text": [
      "Micro-Average: 0.4\n",
      "Macro-Average: 0.125\n",
      "Class-frequency weighted: 0.2\n"
     ]
    }
   ],
   "source": [
    "y_true = [1,0,1,2,3]\n",
    "y_predicted = [1,1,1,0,1]\n",
    "print(f\"Micro-Average: {precision_score(y_true,y_predicted, average='micro', zero_division=0)}\")\n",
    "print(f\"Macro-Average: {precision_score(y_true,y_predicted, average='macro', zero_division=0)}\")\n",
    "print(f\"Class-frequency weighted: {precision_score(y_true,y_predicted,average='weighted', zero_division=0)}\")"
   ]
  },
  {
   "cell_type": "markdown",
   "metadata": {
    "slideshow": {
     "slide_type": "slide"
    }
   },
   "source": [
    "## Recall\n",
    "\n",
    "\n",
    "$${\\text{recall}}={\\frac {|\\{{\\text{relevant instances}}\\}\\cap \\{{\\text{predicted instances}}\\}|}{|\\{{\\text{relevant instances}}\\}|}}$$\n"
   ]
  },
  {
   "cell_type": "code",
   "execution_count": 12,
   "metadata": {
    "slideshow": {
     "slide_type": "fragment"
    }
   },
   "outputs": [
    {
     "data": {
      "text/plain": [
       "0.3333333333333333"
      ]
     },
     "execution_count": 12,
     "metadata": {},
     "output_type": "execute_result"
    }
   ],
   "source": [
    "from sklearn.metrics import recall_score\n",
    "y_true = [1,0,1,1]\n",
    "y_predicted = [1,1,0,0]\n",
    "recall_score(y_true,y_predicted)"
   ]
  },
  {
   "cell_type": "markdown",
   "metadata": {
    "slideshow": {
     "slide_type": "slide"
    }
   },
   "source": [
    "## F1 Score\n",
    "\n",
    "$$F=2\\cdot {\\frac {\\mathrm {precision} \\cdot \\mathrm {recall} }{\\mathrm {precision} +\\mathrm {recall} }}$$"
   ]
  },
  {
   "cell_type": "code",
   "execution_count": 13,
   "metadata": {
    "slideshow": {
     "slide_type": "fragment"
    }
   },
   "outputs": [
    {
     "data": {
      "text/plain": [
       "0.4"
      ]
     },
     "execution_count": 13,
     "metadata": {},
     "output_type": "execute_result"
    }
   ],
   "source": [
    "from sklearn.metrics import f1_score\n",
    "y_true = [1,0,1,1]\n",
    "y_predicted = [1,1,0,0]\n",
    "f1_score(y_true,y_predicted)"
   ]
  },
  {
   "cell_type": "markdown",
   "metadata": {
    "slideshow": {
     "slide_type": "slide"
    }
   },
   "source": [
    "## Precision and Recall\n",
    "<center>\n",
    "<img src=\"figures/Precisionrecall.png\" width=300px>\n",
    "</center>\n",
    "\n",
    "Source Wikipedia page on [Precision and Recall](https://en.wikipedia.org/wiki/Precision_and_recall)"
   ]
  },
  {
   "cell_type": "markdown",
   "metadata": {
    "slideshow": {
     "slide_type": "slide"
    }
   },
   "source": [
    "# Machine Learning Pipelines\n",
    "\n",
    "![ml-pipeline-2.png](figures/ml-pipeline-2.png)"
   ]
  },
  {
   "cell_type": "markdown",
   "metadata": {
    "slideshow": {
     "slide_type": "slide"
    }
   },
   "source": [
    "# Application Example:\n",
    "\n",
    "Political bias prediction from text data"
   ]
  },
  {
   "cell_type": "markdown",
   "metadata": {
    "slideshow": {
     "slide_type": "slide"
    }
   },
   "source": [
    "# Example Application: Classifying Parliament Speeches\n",
    "\n",
    "- Data: [parliament speeches in German Bundestag](https://github.com/Datenschule/plpr-scraper)\n",
    "- Big thanks to Knut Perseke and Friedrich Lindenberg!"
   ]
  },
  {
   "cell_type": "code",
   "execution_count": 14,
   "metadata": {
    "slideshow": {
     "slide_type": "slide"
    }
   },
   "outputs": [],
   "source": [
    "import os, gzip\n",
    "import pandas as pd\n",
    "import numpy as np\n",
    "import urllib.request\n",
    "\n",
    "import warnings\n",
    "warnings.filterwarnings('ignore')\n",
    "\n",
    "DATADIR = \"data\"\n",
    "\n",
    "if not os.path.exists(DATADIR): \n",
    "    os.mkdir(DATADIR)\n",
    "\n",
    "file_name = os.path.join(DATADIR, 'bundestags_parlamentsprotokolle.csv.gzip')\n",
    "if not os.path.exists(file_name):\n",
    "    url_data = 'https://www.dropbox.com/s/1nlbfehnrwwa2zj/bundestags_parlamentsprotokolle.csv.gzip?dl=1'\n",
    "    urllib.request.urlretrieve(url_data, file_name)\n",
    "\n",
    "df = pd.read_csv(gzip.open(file_name), index_col=0).sample(frac=1)\n",
    "\n",
    "\n",
    "alle_sprecher = df.sprecher.unique()\n",
    "parteien = df.partei.unique()\n",
    "partei_farben = {'cducsu':'black', 'linke':'purple', 'spd':'red', 'gruene':'green', 'fdp':'yellow'}"
   ]
  },
  {
   "cell_type": "code",
   "execution_count": 15,
   "metadata": {
    "slideshow": {
     "slide_type": "slide"
    }
   },
   "outputs": [
    {
     "data": {
      "text/html": [
       "<div>\n",
       "<style scoped>\n",
       "    .dataframe tbody tr th:only-of-type {\n",
       "        vertical-align: middle;\n",
       "    }\n",
       "\n",
       "    .dataframe tbody tr th {\n",
       "        vertical-align: top;\n",
       "    }\n",
       "\n",
       "    .dataframe thead th {\n",
       "        text-align: right;\n",
       "    }\n",
       "</style>\n",
       "<table border=\"1\" class=\"dataframe\">\n",
       "  <thead>\n",
       "    <tr style=\"text-align: right;\">\n",
       "      <th></th>\n",
       "      <th>sitzung</th>\n",
       "      <th>wahlperiode</th>\n",
       "      <th>sprecher</th>\n",
       "      <th>text</th>\n",
       "      <th>partei</th>\n",
       "    </tr>\n",
       "  </thead>\n",
       "  <tbody>\n",
       "    <tr>\n",
       "      <th>23090</th>\n",
       "      <td>247</td>\n",
       "      <td>17</td>\n",
       "      <td>Erich G. Fritz</td>\n",
       "      <td>Wir haben jetzt die Chance, an dieser Stelle B...</td>\n",
       "      <td>cducsu</td>\n",
       "    </tr>\n",
       "    <tr>\n",
       "      <th>24770</th>\n",
       "      <td>17</td>\n",
       "      <td>18</td>\n",
       "      <td>Dr. Roy Kühne</td>\n",
       "      <td>Vielen Dank, Frau Präsidentin. – Sehr geehrte ...</td>\n",
       "      <td>cducsu</td>\n",
       "    </tr>\n",
       "    <tr>\n",
       "      <th>21628</th>\n",
       "      <td>237</td>\n",
       "      <td>17</td>\n",
       "      <td>Markus Kurth</td>\n",
       "      <td>Es zählt zu den Grundsätzen des Sozialstaats, ...</td>\n",
       "      <td>gruene</td>\n",
       "    </tr>\n",
       "    <tr>\n",
       "      <th>4313</th>\n",
       "      <td>58</td>\n",
       "      <td>17</td>\n",
       "      <td>Klaus-Peter Willsch</td>\n",
       "      <td>Jeder muss wissen, dass das, was an Zahlengerü...</td>\n",
       "      <td>cducsu</td>\n",
       "    </tr>\n",
       "    <tr>\n",
       "      <th>42321</th>\n",
       "      <td>229</td>\n",
       "      <td>18</td>\n",
       "      <td>Peter Stein</td>\n",
       "      <td>Dafür brauchen wir eine Definition. Wir haben ...</td>\n",
       "      <td>cducsu</td>\n",
       "    </tr>\n",
       "  </tbody>\n",
       "</table>\n",
       "</div>"
      ],
      "text/plain": [
       "       sitzung  wahlperiode             sprecher  \\\n",
       "23090      247           17       Erich G. Fritz   \n",
       "24770       17           18        Dr. Roy Kühne   \n",
       "21628      237           17         Markus Kurth   \n",
       "4313        58           17  Klaus-Peter Willsch   \n",
       "42321      229           18          Peter Stein   \n",
       "\n",
       "                                                    text  partei  \n",
       "23090  Wir haben jetzt die Chance, an dieser Stelle B...  cducsu  \n",
       "24770  Vielen Dank, Frau Präsidentin. – Sehr geehrte ...  cducsu  \n",
       "21628  Es zählt zu den Grundsätzen des Sozialstaats, ...  gruene  \n",
       "4313   Jeder muss wissen, dass das, was an Zahlengerü...  cducsu  \n",
       "42321  Dafür brauchen wir eine Definition. Wir haben ...  cducsu  "
      ]
     },
     "execution_count": 15,
     "metadata": {},
     "output_type": "execute_result"
    }
   ],
   "source": [
    "df[:5]"
   ]
  },
  {
   "cell_type": "markdown",
   "metadata": {
    "slideshow": {
     "slide_type": "slide"
    }
   },
   "source": [
    "## Imports for BoW + Linear Classifier ML Pipeline"
   ]
  },
  {
   "cell_type": "code",
   "execution_count": 16,
   "metadata": {
    "slideshow": {
     "slide_type": "fragment"
    }
   },
   "outputs": [],
   "source": [
    "from sklearn.feature_extraction.text import TfidfVectorizer\n",
    "from sklearn.model_selection import train_test_split, GridSearchCV\n",
    "from sklearn.linear_model import SGDClassifier\n",
    "from sklearn.pipeline import Pipeline"
   ]
  },
  {
   "cell_type": "markdown",
   "metadata": {
    "slideshow": {
     "slide_type": "slide"
    }
   },
   "source": [
    "## Setting up a BoW + Linear Classifier ML Pipeline"
   ]
  },
  {
   "cell_type": "code",
   "execution_count": 17,
   "metadata": {
    "slideshow": {
     "slide_type": "slide"
    }
   },
   "outputs": [],
   "source": [
    "def train(texts, party, num_words=1e5):\n",
    "    '''\n",
    "    A function that takes trains a simple NLP text classification pipeline\n",
    "\n",
    "    Input: \n",
    "        texts and labels and number of features\n",
    "\n",
    "    Output: \n",
    "        trained pipeline\n",
    "    \n",
    "    '''\n",
    "    stopwords = [w.strip() for w in open(\"data/stopwords.txt\").readlines()]\n",
    "    \n",
    "    clf = Pipeline([('vect', TfidfVectorizer(stop_words=stopwords, \n",
    "                                             max_features=int(num_words),\n",
    "                                             ngram_range=(1,1))),\n",
    "                            ('clf', SGDClassifier(loss='log', alpha=1e-5))])\n",
    "    clf.fit(texts, party)\n",
    "\n",
    "    return clf\n",
    "\n"
   ]
  },
  {
   "cell_type": "markdown",
   "metadata": {
    "slideshow": {
     "slide_type": "slide"
    }
   },
   "source": [
    "## Training a Linear Classifier"
   ]
  },
  {
   "cell_type": "code",
   "execution_count": 18,
   "metadata": {
    "scrolled": true,
    "slideshow": {
     "slide_type": "fragment"
    }
   },
   "outputs": [],
   "source": [
    "# Put some data aside for model evaluation\n",
    "speeches, party = df.loc[df.wahlperiode==17,'text'], df.loc[df.wahlperiode==17,'partei']\n",
    "train_data, test_data, train_labels, test_labels = train_test_split(speeches,party, test_size=0.2)\n",
    "\n",
    "# Now we train on the training split\n",
    "clf = train(train_data, train_labels)"
   ]
  },
  {
   "cell_type": "markdown",
   "metadata": {
    "slideshow": {
     "slide_type": "slide"
    }
   },
   "source": [
    "## Evaluation on Training Data"
   ]
  },
  {
   "cell_type": "code",
   "execution_count": 19,
   "metadata": {
    "slideshow": {
     "slide_type": "fragment"
    }
   },
   "outputs": [
    {
     "name": "stdout",
     "output_type": "stream",
     "text": [
      "              precision    recall  f1-score   support\n",
      "\n",
      "      cducsu       1.00      0.97      0.98      6312\n",
      "         fdp       0.96      1.00      0.98      2600\n",
      "      gruene       0.98      1.00      0.99      2451\n",
      "       linke       0.99      1.00      0.99      2549\n",
      "         spd       0.99      0.99      0.99      5004\n",
      "\n",
      "    accuracy                           0.99     18916\n",
      "   macro avg       0.98      0.99      0.99     18916\n",
      "weighted avg       0.99      0.99      0.99     18916\n",
      "\n"
     ]
    }
   ],
   "source": [
    "from sklearn.metrics import classification_report, accuracy_score, precision_recall_curve\n",
    "train_predictions = clf.predict(train_data)\n",
    "print(classification_report(train_predictions, train_labels))"
   ]
  },
  {
   "cell_type": "markdown",
   "metadata": {
    "slideshow": {
     "slide_type": "slide"
    }
   },
   "source": [
    "## Precision Recall Curves\n",
    "\n",
    "You can set the threshold of a classifier high to achieve high precision.\n",
    "\n",
    "This means that your classifier in some cases will not make a prediction.\n",
    "\n",
    "So the tradeoff is that you will have low recall. \n",
    "\n",
    "Finding the right trade off is easy when you look at the precision-recall curve."
   ]
  },
  {
   "cell_type": "code",
   "execution_count": 20,
   "metadata": {
    "slideshow": {
     "slide_type": "fragment"
    }
   },
   "outputs": [],
   "source": [
    "from sklearn.preprocessing import label_binarize\n",
    "import matplotlib.pyplot as plt\n",
    "%matplotlib inline\n",
    "\n",
    "def plot_pr(data, labels, clf):\n",
    "\n",
    "    scores = clf.predict_proba(data)\n",
    "    parties = clf.steps[1][1].classes_\n",
    "    labels_binarized = label_binarize(labels, classes=parties)\n",
    "\n",
    "    for idx, party in enumerate(parties):\n",
    "        precision, recall, _ = precision_recall_curve(labels_binarized[:, idx], scores[:,idx])\n",
    "        plt.plot(recall, precision)\n",
    "    plt.xlabel('Recall')\n",
    "    plt.ylabel('Precision')\n",
    "    plt.legend(parties)"
   ]
  },
  {
   "cell_type": "code",
   "execution_count": 21,
   "metadata": {
    "slideshow": {
     "slide_type": "slide"
    }
   },
   "outputs": [
    {
     "data": {
      "image/png": "[encoded data removed]",
      "text/plain": [
       "<Figure size 432x288 with 1 Axes>"
      ]
     },
     "metadata": {
      "needs_background": "light"
     },
     "output_type": "display_data"
    }
   ],
   "source": [
    "plot_pr(train_data, train_labels, clf)\n"
   ]
  },
  {
   "cell_type": "markdown",
   "metadata": {
    "slideshow": {
     "slide_type": "slide"
    }
   },
   "source": [
    "## Evaluation on Test Data: Overfitting!"
   ]
  },
  {
   "cell_type": "code",
   "execution_count": 22,
   "metadata": {
    "slideshow": {
     "slide_type": "fragment"
    }
   },
   "outputs": [
    {
     "name": "stdout",
     "output_type": "stream",
     "text": [
      "              precision    recall  f1-score   support\n",
      "\n",
      "      cducsu       0.77      0.54      0.64      2137\n",
      "         fdp       0.27      0.54      0.36       339\n",
      "      gruene       0.30      0.45      0.36       424\n",
      "       linke       0.49      0.60      0.54       538\n",
      "         spd       0.53      0.52      0.52      1291\n",
      "\n",
      "    accuracy                           0.53      4729\n",
      "   macro avg       0.47      0.53      0.48      4729\n",
      "weighted avg       0.59      0.53      0.55      4729\n",
      "\n"
     ]
    }
   ],
   "source": [
    "test_predictions = clf.predict(test_data)\n",
    "print(classification_report(test_predictions, test_labels))"
   ]
  },
  {
   "cell_type": "code",
   "execution_count": 23,
   "metadata": {
    "slideshow": {
     "slide_type": "slide"
    }
   },
   "outputs": [
    {
     "data": {
      "image/png": "[encoded data removed]",
      "text/plain": [
       "<Figure size 432x288 with 1 Axes>"
      ]
     },
     "metadata": {
      "needs_background": "light"
     },
     "output_type": "display_data"
    }
   ],
   "source": [
    "plot_pr(test_data, test_labels, clf)"
   ]
  },
  {
   "cell_type": "markdown",
   "metadata": {
    "slideshow": {
     "slide_type": "slide"
    }
   },
   "source": [
    "## Confusion Matrix\n",
    "\n",
    "Useful to understand what the model gets wrong. \n",
    "\n",
    "Shows the occurrences of predicted labels (rows) vs true-labels (columns)"
   ]
  },
  {
   "cell_type": "code",
   "execution_count": 24,
   "metadata": {
    "slideshow": {
     "slide_type": "fragment"
    }
   },
   "outputs": [
    {
     "data": {
      "image/png": "[encoded data removed]",
      "text/plain": [
       "<Figure size 432x288 with 2 Axes>"
      ]
     },
     "metadata": {
      "needs_background": "light"
     },
     "output_type": "display_data"
    }
   ],
   "source": [
    "from sklearn.metrics import confusion_matrix, ConfusionMatrixDisplay\n",
    "cm = confusion_matrix(test_labels, test_predictions)\n",
    "disp = ConfusionMatrixDisplay(confusion_matrix=cm,\n",
    "                               display_labels=clf.classes_)\n",
    "disp.plot();\n"
   ]
  },
  {
   "cell_type": "markdown",
   "metadata": {
    "slideshow": {
     "slide_type": "slide"
    }
   },
   "source": [
    "## What Has the Model Learned?\n",
    "\n",
    "You can check the covariance of the data $X\\in R^{D\\times N}$ with the model's predictions $\\hat{Y}\\in R^{C\\times N}$\n",
    "\n",
    "$X\\hat{Y}^\\top$\n",
    "\n",
    "where $D$ is the data dimensionality (here: number of words), $N$ is the number of data points , $C$ is the number of classes (here: parties) and $X$ and $\\hat{Y}$ are normalized along the data axis.\n",
    "\n",
    "[Haufe et al., *On the interpretation of weight vectors of linear models in multivariate neuroimaging.*, Neuroimage, 2014](https://www.ncbi.nlm.nih.gov/pubmed/24239590)"
   ]
  },
  {
   "cell_type": "code",
   "execution_count": 25,
   "metadata": {
    "scrolled": true,
    "slideshow": {
     "slide_type": "slide"
    }
   },
   "outputs": [
    {
     "data": {
      "text/plain": [
       "{'cducsu': ['diskussion', 'glaube', 'richtig', 'zukunft', 'christlich'],\n",
       " 'fdp': ['freizügigkeit', 'christlich', 'liberalen', 'fdp', 'liberale'],\n",
       " 'gruene': ['biologischen',\n",
       "  'ökologisch',\n",
       "  'steigende',\n",
       "  'vertreterinnen',\n",
       "  'bundesregierung'],\n",
       " 'linke': ['skandal', 'sozialversicherungen', 'ausgrenzung', 'hartz', 'armut'],\n",
       " 'spd': ['niebel', 'gemeint', 'finde', 'kanzlerin', 'fehlanzeige']}"
      ]
     },
     "execution_count": 25,
     "metadata": {},
     "output_type": "execute_result"
    }
   ],
   "source": [
    "from sklearn.preprocessing import StandardScaler\n",
    "\n",
    "def list_top_words_per_party(data, clf, top_words=5):\n",
    "    idx_to_word = {idx:word for word, idx in clf.steps[0][1].vocabulary_.items()}\n",
    "    ngram_features = StandardScaler().fit_transform(clf.steps[0][1].transform(data).toarray())\n",
    "    scores = StandardScaler().fit_transform(clf.predict_proba(data))\n",
    "    parties = clf.steps[1][1].classes_\n",
    "    top_words_per_party = dict()\n",
    "    for idx, party in enumerate(parties):\n",
    "        covar = ngram_features.T @ scores[:,idx]\n",
    "        top_word_idx = covar.argsort()[-top_words:]\n",
    "        top_words_per_party[party] = [idx_to_word[idx] for idx in top_word_idx]\n",
    "    return top_words_per_party\n",
    "        \n",
    "list_top_words_per_party(test_data[:1000], clf)"
   ]
  },
  {
   "cell_type": "markdown",
   "metadata": {
    "slideshow": {
     "slide_type": "slide"
    }
   },
   "source": [
    "## Cross-Validation (just for evaluation)\n",
    "\n",
    "- ML models can memorize any data set (**overfitting**)\n",
    "    \n",
    "- But we want our models to perform well on new data (**generalization of learned rules**)\n",
    "\n",
    "- Cross-validation emulates the setting of new unseen data:\n",
    "\n",
    "    - Split data in training and test\n",
    "    - Train model on training set\n",
    "    - Test model on test set\n",
    "    \n",
    "- K-Fold Cross-validation:\n",
    "\n",
    "    - Split data in k non-overlapping folds\n",
    "    - K Times:\n",
    "        - Train on k-1 folds\n",
    "        - Test on 1 remaining fold\n",
    "        "
   ]
  },
  {
   "cell_type": "markdown",
   "metadata": {
    "slideshow": {
     "slide_type": "slide"
    }
   },
   "source": [
    "### Most important ML lesson:\n",
    "\n",
    "**Never evaluate your ML model on the data used for training*!**\n",
    "\n",
    "\n",
    "*(and model selection Hyperparameter Optimization counts as training, so you need another data set for that, which is called validation set)"
   ]
  },
  {
   "cell_type": "markdown",
   "metadata": {
    "slideshow": {
     "slide_type": "slide"
    }
   },
   "source": [
    "# Model Evaluation\n",
    "\n",
    "![model_complexity](figures/overfitting_underfitting_cartoon.png)"
   ]
  },
  {
   "cell_type": "markdown",
   "metadata": {
    "slideshow": {
     "slide_type": "slide"
    }
   },
   "source": [
    "## Controlling Model Complexity\n",
    "\n",
    "- Penalization of model complexity in Machine Learning is called **Regularization**\n",
    "- Regularization can be achieved by:\n",
    " - Adapting the objective function of a ML model\n",
    " - Changing preprocessing parameters"
   ]
  },
  {
   "cell_type": "code",
   "execution_count": 26,
   "metadata": {
    "slideshow": {
     "slide_type": "slide"
    }
   },
   "outputs": [],
   "source": [
    "num_word_params = [10, 100, 1000, 1e4, 1e5, 1e6]\n",
    "acc_scores_train = []\n",
    "acc_scores_test = []\n",
    "for idx, n_words in enumerate(num_word_params):\n",
    "    clf_tmp = train(train_data, train_labels, num_words=n_words)\n",
    "    acc_scores_test.append(accuracy_score(test_labels, clf_tmp.predict(test_data)))\n",
    "    acc_scores_train.append(accuracy_score(train_labels, clf_tmp.predict(train_data)))"
   ]
  },
  {
   "cell_type": "code",
   "execution_count": 27,
   "metadata": {
    "slideshow": {
     "slide_type": "slide"
    }
   },
   "outputs": [
    {
     "data": {
      "text/plain": [
       "Text(0, 0.5, 'Accuracy')"
      ]
     },
     "execution_count": 27,
     "metadata": {},
     "output_type": "execute_result"
    },
    {
     "data": {
      "image/png": "[encoded data removed]",
      "text/plain": [
       "<Figure size 432x288 with 1 Axes>"
      ]
     },
     "metadata": {
      "needs_background": "light"
     },
     "output_type": "display_data"
    }
   ],
   "source": [
    "plt.plot(num_word_params, acc_scores_train)\n",
    "plt.plot(num_word_params, acc_scores_test)\n",
    "plt.xscale('log')\n",
    "plt.legend(['train','test'])\n",
    "plt.xlabel('Number of Words')\n",
    "plt.ylabel('Accuracy')"
   ]
  },
  {
   "cell_type": "markdown",
   "metadata": {
    "slideshow": {
     "slide_type": "slide"
    }
   },
   "source": [
    "# Model Evaluation\n",
    "\n",
    "![model_complexity](figures/overfitting_underfitting_cartoon.png)"
   ]
  },
  {
   "cell_type": "markdown",
   "metadata": {
    "slideshow": {
     "slide_type": "slide"
    }
   },
   "source": [
    "# Hyperparameters\n",
    "\n",
    "- For an end-to-end (raw data to final prediction) ML system, many hyperparameters need to be set\n",
    "\n",
    "\n",
    "- Selecting the right hyperparameters is often crucial for successful predictions\n",
    "\n",
    "\n",
    "- A hyperparameter (HP) is often defined as a parameter that cannot be estimated using gradient descent. \n",
    "\n",
    "\n",
    "- Examples:\n",
    "    - number of words in a bag-of-words representation\n",
    "    - number of categories (assuming that there are many rare ones)\n",
    "    - $n$ in n-grams\n",
    "    - normalization or not\n",
    "    - learning rate in stochastic gradient descent\n",
    "    - ...\n",
    "    \n",
    "\n",
    "    "
   ]
  },
  {
   "cell_type": "markdown",
   "metadata": {
    "slideshow": {
     "slide_type": "slide"
    }
   },
   "source": [
    "## Hyperparameter Optimization\n",
    "\n",
    " \n",
    "Hyperparameter optimization (HPO) requires yet another data split:\n",
    "    \n",
    " - Either just train (for training) / validation  (for HPO) / test (for evaluation)\n",
    " - Or k-fold nested Cross-validation\n",
    "     - Split data into k folds\n",
    "     - K times:\n",
    "         - Keep one fold aside for evaluation (**outer** cross-validation)\n",
    "         - Run HPO with cross-validation on remaining k-1 folds using (**inner** cross-validation)\n",
    "         \n",
    " - Nested Cross-validation is more expensive but gives you better hyperparameters as well as better generalization error estimates\n"
   ]
  },
  {
   "cell_type": "markdown",
   "metadata": {
    "slideshow": {
     "slide_type": "slide"
    }
   },
   "source": [
    "## Hyperparameter Optimization\n",
    "\n",
    "- Grid Search: Try all possible hyperparameter sets using nested cross validation\n",
    "\n",
    "\n",
    "- Random Search: Try a number of random hyperparameter sets (works surprisingly well)\n",
    "\n",
    "\n",
    "- Bayesian Global Optimization: Train a probabilistic model (e.g. Gaussian Processes) to predict model performance given hyperparameter settings"
   ]
  },
  {
   "cell_type": "code",
   "execution_count": 28,
   "metadata": {
    "slideshow": {
     "slide_type": "slide"
    }
   },
   "outputs": [],
   "source": [
    "\n",
    "def train_hpo(texts, party, num_words=1e5):\n",
    "    '''\n",
    "    A function that takes trains a simple NLP text classification pipeline\n",
    "\n",
    "    Input: \n",
    "        texts and labels and number of features\n",
    "\n",
    "    Output: \n",
    "        trained pipeline\n",
    "    \n",
    "    '''\n",
    "    \n",
    "    text_clf = Pipeline([('vect', TfidfVectorizer(max_features=int(num_words))),\n",
    "                            ('clf', SGDClassifier(loss='log'))])\n",
    "\n",
    "    # some hyperparameters\n",
    "    parameters = {\n",
    "        'vect__ngram_range': [(1, 1), (1, 2), (1, 3)],\n",
    "        'clf__alpha': (np.logspace(-5, 2, 5)).tolist()\n",
    "    }\n",
    "    # perform gridsearch to get the best regularizer\n",
    "    clf = GridSearchCV(text_clf, parameters, cv=2, n_jobs=-1,verbose=0)\n",
    "    clf.fit(texts, party)\n",
    "\n",
    "    return clf"
   ]
  },
  {
   "cell_type": "code",
   "execution_count": 29,
   "metadata": {
    "scrolled": true,
    "slideshow": {
     "slide_type": "slide"
    }
   },
   "outputs": [
    {
     "name": "stdout",
     "output_type": "stream",
     "text": [
      "              precision    recall  f1-score   support\n",
      "\n",
      "      cducsu       0.63      0.82      0.71      1512\n",
      "         fdp       0.59      0.33      0.42       675\n",
      "      gruene       0.55      0.36      0.43       627\n",
      "       linke       0.65      0.62      0.64       653\n",
      "         spd       0.61      0.65      0.63      1262\n",
      "\n",
      "    accuracy                           0.62      4729\n",
      "   macro avg       0.61      0.56      0.57      4729\n",
      "weighted avg       0.61      0.62      0.60      4729\n",
      "\n"
     ]
    }
   ],
   "source": [
    "clf = train_hpo(train_data, train_labels)\n",
    "print(classification_report(test_labels, clf.predict(test_data)))"
   ]
  },
  {
   "cell_type": "markdown",
   "metadata": {
    "slideshow": {
     "slide_type": "slide"
    }
   },
   "source": [
    "# Recap: Cross-Validation\n",
    "\n",
    "- Split dataset in training and test set\n",
    "- Used for:\n",
    "    - Model Evaluation\n",
    "        - Requires **at least two** different folds / partitions / data sets (train and test)\n",
    "    - Hyperparameter Optimization\n",
    "        - Requires **at least three** different folds (train, validation and test)\n",
    "- Fast Cross-validation:\n",
    "    - Make two (or three) partitions, train (or validate and train) and test\n",
    "- Cross-validation with best generalization performance estimates:\n",
    "    - k-fold"
   ]
  },
  {
   "cell_type": "markdown",
   "metadata": {
    "slideshow": {
     "slide_type": "slide"
    }
   },
   "source": [
    "## Simplest Cross-Validation for Model Evaluation\n",
    "\n",
    "Split data into **two folds** and train / test **just once**\n",
    "\n",
    "|$~$ |$~$|\n",
    "|--|--|\n",
    "|Fold 1|Test|\n",
    "|Fold 2|Train|"
   ]
  },
  {
   "cell_type": "markdown",
   "metadata": {
    "slideshow": {
     "slide_type": "slide"
    }
   },
   "source": [
    "## Example 3-Fold Cross-Validation for Model Evaluation:\n",
    "\n",
    "Split data into three folds:\n",
    "\n",
    "|$~$ |\n",
    "|--|\n",
    "|Fold 1|\n",
    "|Fold 2|\n",
    "|Fold 3|"
   ]
  },
  {
   "cell_type": "markdown",
   "metadata": {
    "slideshow": {
     "slide_type": "slide"
    }
   },
   "source": [
    "### Iteration 1\n",
    "\n",
    "|$~$ |$~$|\n",
    "|--|--|\n",
    "|Fold 1|Test|\n",
    "|Fold 2|Train|\n",
    "|Fold 3|Train|"
   ]
  },
  {
   "cell_type": "markdown",
   "metadata": {
    "slideshow": {
     "slide_type": "slide"
    }
   },
   "source": [
    "###  Iteration 2\n",
    "\n",
    "|$~$ |$~$|\n",
    "|--|--|\n",
    "|Fold 1|Train|\n",
    "|Fold 2|Test|\n",
    "|Fold 3|Train|"
   ]
  },
  {
   "cell_type": "markdown",
   "metadata": {
    "slideshow": {
     "slide_type": "slide"
    }
   },
   "source": [
    "###  Iteration 3\n",
    "\n",
    "|$~$ |$~$|\n",
    "|--|--|\n",
    "|Fold 1|Train|\n",
    "|Fold 2|Train|\n",
    "|Fold 3|Test|"
   ]
  },
  {
   "cell_type": "markdown",
   "metadata": {
    "slideshow": {
     "slide_type": "slide"
    }
   },
   "source": [
    "## Simplest Cross-Validation for Model Evaluation and Model Selection\n",
    "\n",
    "Split data into **three folds** and perform model selection on the train set using the validation set for computing the generalization performance. After best hyperparameters are found, train on the training (and the validation) set and test the model on the test set. \n",
    "\n",
    "|$~$ |$~$|\n",
    "|--|--|\n",
    "|Fold 1|Test|\n",
    "|Fold 2|Validation|\n",
    "|Fold 3|Train|"
   ]
  },
  {
   "cell_type": "markdown",
   "metadata": {
    "slideshow": {
     "slide_type": "slide"
    }
   },
   "source": [
    "## Example 3-Fold Nested Cross-Validation:\n",
    "\n",
    "This performs an \n",
    "\n",
    "- **inner** cross-validation for **model selection** / hyperparameter optimization \n",
    "\n",
    "nested in an \n",
    "\n",
    "- **outer** cross-validation loop for **model evaluation**\n",
    "\n",
    "Split data into three folds:\n",
    "\n",
    "|$~$ |\n",
    "|--|\n",
    "|Fold 1|\n",
    "|Fold 2|\n",
    "|Fold 3|"
   ]
  },
  {
   "cell_type": "markdown",
   "metadata": {
    "slideshow": {
     "slide_type": "slide"
    }
   },
   "source": [
    "### Outer (Evaluation)  Iteration 1\n",
    "\n",
    "Perform model selection on the train set using the validation set for computing the generalization performance.\n",
    "\n",
    "#### Inner (Model Selection)  Iteration 1\n",
    "\n",
    "|$~$|$~$|\n",
    "|--|--|\n",
    "|Fold 1|Test|\n",
    "|Fold 2|Validation|\n",
    "|Fold 3|Train|"
   ]
  },
  {
   "cell_type": "markdown",
   "metadata": {
    "slideshow": {
     "slide_type": "slide"
    }
   },
   "source": [
    "#### Inner (Model Selection)  Iteration 2\n",
    "\n",
    "|$~$|$~$|\n",
    "|--|--|\n",
    "|Fold 1|Test|\n",
    "|Fold 2|Train|\n",
    "|Fold 3|Validation|"
   ]
  },
  {
   "cell_type": "markdown",
   "metadata": {
    "slideshow": {
     "slide_type": "slide"
    }
   },
   "source": [
    "### Outer (Evaluation)  Iteration 2\n",
    "\n",
    "Perform model selection on the train set using the validation set for computing the generalization performance.\n",
    "\n",
    "#### Inner (Model Selection)  Iteration 1\n",
    "\n",
    "|$~$|$~$|\n",
    "|--|--|\n",
    "|Fold 1|Validation|\n",
    "|Fold 2|Test|\n",
    "|Fold 3|Train|"
   ]
  },
  {
   "cell_type": "markdown",
   "metadata": {
    "slideshow": {
     "slide_type": "slide"
    }
   },
   "source": [
    "#### Inner (Model Selection) Iteration 2\n",
    "\n",
    "|$~$|$~$|\n",
    "|--|--|\n",
    "|Fold 1|Train|\n",
    "|Fold 2|Test|\n",
    "|Fold 3|Validation|"
   ]
  },
  {
   "cell_type": "markdown",
   "metadata": {
    "slideshow": {
     "slide_type": "slide"
    }
   },
   "source": [
    "### Iteration 3\n",
    "\n",
    "Perform model selection on the train set using the validation set for computing the generalization performance.\n",
    "\n",
    "#### Inner (Model Selection) Iteration 1\n",
    "\n",
    "|$~$|$~$|\n",
    "|--|--|\n",
    "|Fold 1|Train|\n",
    "|Fold 2|Validation|\n",
    "|Fold 3|Test|"
   ]
  },
  {
   "cell_type": "markdown",
   "metadata": {
    "slideshow": {
     "slide_type": "slide"
    }
   },
   "source": [
    "#### Inner (Model Selection) Iteration 2\n",
    "\n",
    "|$~$|$~$|\n",
    "|--|--|\n",
    "|Fold 1|Validation|\n",
    "|Fold 2|Train|\n",
    "|Fold 3|Test|"
   ]
  },
  {
   "cell_type": "code",
   "execution_count": 30,
   "metadata": {
    "slideshow": {
     "slide_type": "slide"
    }
   },
   "outputs": [],
   "source": [
    "def train_and_test(train_folds, test_fold, hpo_candidate):\n",
    "    \"\"\"\n",
    "    This function emulates a model training and testing \n",
    "    with a fixed hyperparameter set candidate\n",
    "    Instead of really training a model and testing it, \n",
    "    this function returns a random number\n",
    "    \"\"\"\n",
    "    print(f\"Training with hyperparameter {hpo_candidate} on \" +  \n",
    "                  f\"folds {training_folds}, testing on {test_fold}\")\n",
    "    return np.random.randint(0,10)"
   ]
  },
  {
   "cell_type": "code",
   "execution_count": 31,
   "metadata": {
    "slideshow": {
     "slide_type": "slide"
    }
   },
   "outputs": [
    {
     "name": "stdout",
     "output_type": "stream",
     "text": [
      "********************************************************************************\n",
      "Hyperparameter Optimization on fold [1, 2]\n",
      "********************************************************************************\n",
      "Training with hyperparameter 1e-05 on folds [1, 2], testing on 1\n",
      "Training with hyperparameter 1 on folds [1, 2], testing on 1\n",
      "Training with hyperparameter 1e-05 on folds [1, 2], testing on 2\n",
      "Training with hyperparameter 1 on folds [1, 2], testing on 2\n",
      "********************************************************************************\n",
      "Best Hyperparameter: 1\n",
      "Training with hyperparameter 1 on folds [1, 2], testing on 0\n",
      "\n",
      "\n",
      "********************************************************************************\n",
      "Hyperparameter Optimization on fold [0, 2]\n",
      "********************************************************************************\n",
      "Training with hyperparameter 1e-05 on folds [0, 2], testing on 0\n",
      "Training with hyperparameter 1 on folds [0, 2], testing on 0\n",
      "Training with hyperparameter 1e-05 on folds [0, 2], testing on 2\n",
      "Training with hyperparameter 1 on folds [0, 2], testing on 2\n",
      "********************************************************************************\n",
      "Best Hyperparameter: 1e-05\n",
      "Training with hyperparameter 1e-05 on folds [0, 2], testing on 1\n",
      "\n",
      "\n",
      "********************************************************************************\n",
      "Hyperparameter Optimization on fold [0, 1]\n",
      "********************************************************************************\n",
      "Training with hyperparameter 1e-05 on folds [0, 1], testing on 0\n",
      "Training with hyperparameter 1 on folds [0, 1], testing on 0\n",
      "Training with hyperparameter 1e-05 on folds [0, 1], testing on 1\n",
      "Training with hyperparameter 1 on folds [0, 1], testing on 1\n",
      "********************************************************************************\n",
      "Best Hyperparameter: 1e-05\n",
      "Training with hyperparameter 1e-05 on folds [0, 1], testing on 2\n",
      "\n",
      "\n"
     ]
    }
   ],
   "source": [
    "import numpy as np\n",
    "folds = [0,1,2]\n",
    "\n",
    "hyperparameters = [1e-5, 1]\n",
    "\n",
    "evaluation_scores = np.zeros(len(folds))\n",
    "for outer_idx, evaluation_fold in enumerate(folds):\n",
    "    training_folds = [f for f in folds if f != evaluation_fold]\n",
    "    hpo_results = np.zeros((len(folds), len(hyperparameters)))\n",
    "    print(\"*\"*80)\n",
    "    print(f\"Hyperparameter Optimization on fold {training_folds}\")\n",
    "    print(\"*\"*80)\n",
    "    for inner_idx, hpo_evaluation_fold in enumerate(training_folds):\n",
    "        hpo_training_folds = [f for f in training_folds if f != hpo_evaluation_fold]\n",
    "        for hpo_idx, hpo_candidate in enumerate(hyperparameters):\n",
    "            hpo_results[inner_idx, hpo_idx] = train_and_test(hpo_training_folds, hpo_evaluation_fold, hpo_candidate)\n",
    "    best_hyperparameter = hyperparameters[hpo_results.mean(axis=0).argmax()]\n",
    "    print(\"*\"*80)\n",
    "    print(f\"Best Hyperparameter: {best_hyperparameter}\")\n",
    "    train_and_test(training_folds, \n",
    "                   evaluation_fold, \n",
    "                   best_hyperparameter)\n",
    "    print(\"\\n\")\n"
   ]
  },
  {
   "cell_type": "markdown",
   "metadata": {
    "slideshow": {
     "slide_type": "slide"
    }
   },
   "source": [
    "## Testing Model with User Input"
   ]
  },
  {
   "cell_type": "code",
   "execution_count": 32,
   "metadata": {
    "slideshow": {
     "slide_type": "fragment"
    }
   },
   "outputs": [
    {
     "data": {
      "text/plain": [
       "array(['linke'], dtype='<U6')"
      ]
     },
     "execution_count": 32,
     "metadata": {},
     "output_type": "execute_result"
    }
   ],
   "source": [
    "text = \"Neoliberale Heuschrecken Banker sind schlecht für den Sozialstaat.\"\n",
    "clf.predict([text])"
   ]
  },
  {
   "cell_type": "code",
   "execution_count": 33,
   "metadata": {
    "slideshow": {
     "slide_type": "fragment"
    }
   },
   "outputs": [
    {
     "data": {
      "text/plain": [
       "array(['cducsu'], dtype='<U6')"
      ]
     },
     "execution_count": 33,
     "metadata": {},
     "output_type": "execute_result"
    }
   ],
   "source": [
    "text = \"Wachstum und Sicherheit sind wichtig für glückliche Familien\"\n",
    "clf.predict([text])"
   ]
  },
  {
   "cell_type": "markdown",
   "metadata": {
    "slideshow": {
     "slide_type": "slide"
    }
   },
   "source": [
    "## Classification of Newspaper Articles"
   ]
  },
  {
   "cell_type": "code",
   "execution_count": 38,
   "metadata": {
    "slideshow": {
     "slide_type": "fragment"
    }
   },
   "outputs": [],
   "source": [
    "import newspaper\n",
    "\n",
    "news_with_predictions = []\n",
    "articles = newspaper.build(\"https://www.sueddeutsche.de/\").articles"
   ]
  },
  {
   "cell_type": "code",
   "execution_count": null,
   "metadata": {
    "slideshow": {
     "slide_type": "slide"
    }
   },
   "outputs": [],
   "source": [
    "for article in articles:\n",
    "    article.download()\n",
    "    article.parse()\n",
    "    news_with_predictions.append(\n",
    "        {\n",
    "            'title': article.title,\n",
    "            'url': article.url,\n",
    "            'text': article.text,\n",
    "            'party_prediction': clf.predict([article.text]) \n",
    "        })"
   ]
  },
  {
   "cell_type": "code",
   "execution_count": 43,
   "metadata": {
    "slideshow": {
     "slide_type": "fragment"
    }
   },
   "outputs": [
    {
     "data": {
      "text/html": [
       "<div>\n",
       "<style scoped>\n",
       "    .dataframe tbody tr th:only-of-type {\n",
       "        vertical-align: middle;\n",
       "    }\n",
       "\n",
       "    .dataframe tbody tr th {\n",
       "        vertical-align: top;\n",
       "    }\n",
       "\n",
       "    .dataframe thead th {\n",
       "        text-align: right;\n",
       "    }\n",
       "</style>\n",
       "<table border=\"1\" class=\"dataframe\">\n",
       "  <thead>\n",
       "    <tr style=\"text-align: right;\">\n",
       "      <th></th>\n",
       "      <th>title</th>\n",
       "      <th>url</th>\n",
       "      <th>text</th>\n",
       "      <th>party_prediction</th>\n",
       "    </tr>\n",
       "  </thead>\n",
       "  <tbody>\n",
       "    <tr>\n",
       "      <th>0</th>\n",
       "      <td>Corona-Soforthilfen: Nun kommt die große Rechnung</td>\n",
       "      <td>https://www.sueddeutsche.de/wirtschaft/corona-...</td>\n",
       "      <td>Schnell und unbürokratisch wurden Corona-Sofor...</td>\n",
       "      <td>[linke]</td>\n",
       "    </tr>\n",
       "    <tr>\n",
       "      <th>1</th>\n",
       "      <td>Corona aktuell: Viele Corona-Tote in Polen</td>\n",
       "      <td>https://www.sueddeutsche.de/politik/corona-akt...</td>\n",
       "      <td>In Polen ist die höchste Zahl an Corona-Toten ...</td>\n",
       "      <td>[linke]</td>\n",
       "    </tr>\n",
       "    <tr>\n",
       "      <th>2</th>\n",
       "      <td>Omikron in New York: 22 000 Neuinfizierte am T...</td>\n",
       "      <td>https://www.sueddeutsche.de/politik/corona-usa...</td>\n",
       "      <td>Die Zahl der positiven Tests hat sich in der v...</td>\n",
       "      <td>[linke]</td>\n",
       "    </tr>\n",
       "    <tr>\n",
       "      <th>3</th>\n",
       "      <td>Wie man Neujahrsvorsätze in die Tat umsetzt</td>\n",
       "      <td>https://sz-magazin.sueddeutsche.de/gesundheit/...</td>\n",
       "      <td>SZ-Magazin: Herr Gollwitzer, können Sie mir er...</td>\n",
       "      <td>[linke]</td>\n",
       "    </tr>\n",
       "    <tr>\n",
       "      <th>4</th>\n",
       "      <td>Der rechte Wahlkampf in Frankreich gleicht imm...</td>\n",
       "      <td>https://www.sueddeutsche.de/kultur/emily-in-pa...</td>\n",
       "      <td>Von Nadia Pantel\\n\\nWenn es in Paris regnet, d...</td>\n",
       "      <td>[linke]</td>\n",
       "    </tr>\n",
       "    <tr>\n",
       "      <th>...</th>\n",
       "      <td>...</td>\n",
       "      <td>...</td>\n",
       "      <td>...</td>\n",
       "      <td>...</td>\n",
       "    </tr>\n",
       "    <tr>\n",
       "      <th>296</th>\n",
       "      <td>Der rechte Wahlkampf in Frankreich gleicht imm...</td>\n",
       "      <td>https://www.sueddeutsche.de/kultur/emily-in-pa...</td>\n",
       "      <td>Von Nadia Pantel\\n\\nWenn es in Paris regnet, d...</td>\n",
       "      <td>[linke]</td>\n",
       "    </tr>\n",
       "    <tr>\n",
       "      <th>297</th>\n",
       "      <td>Wie die Finanzindustrie junge Menschen ködert</td>\n",
       "      <td>https://www.sueddeutsche.de/wirtschaft/banken-...</td>\n",
       "      <td>Von Harald Freiberger und Claus Hulverscheidt\\...</td>\n",
       "      <td>[spd]</td>\n",
       "    </tr>\n",
       "    <tr>\n",
       "      <th>298</th>\n",
       "      <td>Denkmalschutz in München: Prachtvolles Haus in...</td>\n",
       "      <td>https://www.sueddeutsche.de/muenchen/denkmalsc...</td>\n",
       "      <td>Von Lea Kramer\\n\\nSobald der Wind weht, ist vo...</td>\n",
       "      <td>[linke]</td>\n",
       "    </tr>\n",
       "    <tr>\n",
       "      <th>299</th>\n",
       "      <td>Friedrich Merz: Der künftige CDU-Chef trifft d...</td>\n",
       "      <td>https://www.sueddeutsche.de/meinung/friedrich-...</td>\n",
       "      <td>Kommentar von Detlef Esslinger\\n\\nFriedrich Me...</td>\n",
       "      <td>[gruene]</td>\n",
       "    </tr>\n",
       "    <tr>\n",
       "      <th>300</th>\n",
       "      <td>Wird Merz die Erneuerung der CDU gelingen?</td>\n",
       "      <td>https://www.sueddeutsche.de/politik/leserdisku...</td>\n",
       "      <td>Friedrich Merz ist neuer Parteivorsitzender de...</td>\n",
       "      <td>[gruene]</td>\n",
       "    </tr>\n",
       "  </tbody>\n",
       "</table>\n",
       "<p>301 rows × 4 columns</p>\n",
       "</div>"
      ],
      "text/plain": [
       "                                                 title  \\\n",
       "0    Corona-Soforthilfen: Nun kommt die große Rechnung   \n",
       "1           Corona aktuell: Viele Corona-Tote in Polen   \n",
       "2    Omikron in New York: 22 000 Neuinfizierte am T...   \n",
       "3          Wie man Neujahrsvorsätze in die Tat umsetzt   \n",
       "4    Der rechte Wahlkampf in Frankreich gleicht imm...   \n",
       "..                                                 ...   \n",
       "296  Der rechte Wahlkampf in Frankreich gleicht imm...   \n",
       "297      Wie die Finanzindustrie junge Menschen ködert   \n",
       "298  Denkmalschutz in München: Prachtvolles Haus in...   \n",
       "299  Friedrich Merz: Der künftige CDU-Chef trifft d...   \n",
       "300         Wird Merz die Erneuerung der CDU gelingen?   \n",
       "\n",
       "                                                   url  \\\n",
       "0    https://www.sueddeutsche.de/wirtschaft/corona-...   \n",
       "1    https://www.sueddeutsche.de/politik/corona-akt...   \n",
       "2    https://www.sueddeutsche.de/politik/corona-usa...   \n",
       "3    https://sz-magazin.sueddeutsche.de/gesundheit/...   \n",
       "4    https://www.sueddeutsche.de/kultur/emily-in-pa...   \n",
       "..                                                 ...   \n",
       "296  https://www.sueddeutsche.de/kultur/emily-in-pa...   \n",
       "297  https://www.sueddeutsche.de/wirtschaft/banken-...   \n",
       "298  https://www.sueddeutsche.de/muenchen/denkmalsc...   \n",
       "299  https://www.sueddeutsche.de/meinung/friedrich-...   \n",
       "300  https://www.sueddeutsche.de/politik/leserdisku...   \n",
       "\n",
       "                                                  text party_prediction  \n",
       "0    Schnell und unbürokratisch wurden Corona-Sofor...          [linke]  \n",
       "1    In Polen ist die höchste Zahl an Corona-Toten ...          [linke]  \n",
       "2    Die Zahl der positiven Tests hat sich in der v...          [linke]  \n",
       "3    SZ-Magazin: Herr Gollwitzer, können Sie mir er...          [linke]  \n",
       "4    Von Nadia Pantel\\n\\nWenn es in Paris regnet, d...          [linke]  \n",
       "..                                                 ...              ...  \n",
       "296  Von Nadia Pantel\\n\\nWenn es in Paris regnet, d...          [linke]  \n",
       "297  Von Harald Freiberger und Claus Hulverscheidt\\...            [spd]  \n",
       "298  Von Lea Kramer\\n\\nSobald der Wind weht, ist vo...          [linke]  \n",
       "299  Kommentar von Detlef Esslinger\\n\\nFriedrich Me...         [gruene]  \n",
       "300  Friedrich Merz ist neuer Parteivorsitzender de...         [gruene]  \n",
       "\n",
       "[301 rows x 4 columns]"
      ]
     },
     "execution_count": 43,
     "metadata": {},
     "output_type": "execute_result"
    }
   ],
   "source": [
    "df_news = pd.DataFrame(news_with_predictions)\n",
    "df_news"
   ]
  },
  {
   "cell_type": "code",
   "execution_count": 44,
   "metadata": {
    "scrolled": true,
    "slideshow": {
     "slide_type": "slide"
    }
   },
   "outputs": [
    {
     "name": "stdout",
     "output_type": "stream",
     "text": [
      "Zeitungsartikel: Corona aktuell: Viele Corona-Tote in Polen\n"
     ]
    },
    {
     "data": {
      "image/png": "[encoded data removed]",
      "text/plain": [
       "<Figure size 432x288 with 1 Axes>"
      ]
     },
     "metadata": {
      "needs_background": "light"
     },
     "output_type": "display_data"
    }
   ],
   "source": [
    "prediction = clf.predict_proba([df_news.loc[1,'text']])  \n",
    "\n",
    "\n",
    "print(\"Zeitungsartikel: {}\".format(df_news.loc[1,'title']))\n",
    "\n",
    "import seaborn as sns\n",
    "%matplotlib inline\n",
    "sns.barplot(clf.best_estimator_.steps[1][1].classes_, prediction.flatten(), palette=[partei_farben[p] for p in clf.classes_]);"
   ]
  },
  {
   "cell_type": "markdown",
   "metadata": {
    "slideshow": {
     "slide_type": "slide"
    }
   },
   "source": [
    "# How Bad is the ML Model vs Human Performance"
   ]
  },
  {
   "cell_type": "code",
   "execution_count": null,
   "metadata": {
    "slideshow": {
     "slide_type": "fragment"
    }
   },
   "outputs": [],
   "source": [
    "# We draw 5 random speeches with less than 2000 characters, so it's still readable\n",
    "samples = df[df.text.apply(len) < 1002].sample(5)\n",
    "prediction_human = []\n",
    "prediction_machine = clf.predict(samples.text)\n",
    "true_party = samples.partei.tolist()\n",
    "\n",
    "for idx, text in enumerate(samples.text):\n",
    "    print(\"================================\")\n",
    "    print(text)\n",
    "    print('------------------------------------')\n",
    "    print(\"Which party does this speech belong to? Choose from {}\".format(clf.classes_))\n",
    "    prediction_human.append(input())\n",
    "    print(\"*****************************\")\n",
    "    print(\"Your prediction: {}\".format(prediction_human[-1]))\n",
    "    print(\"ML prediction: {}\".format(prediction_machine[idx]))\n",
    "    print(\"True party: {}\".format(true_party[idx]))\n",
    "    print(\"================================\")"
   ]
  },
  {
   "cell_type": "code",
   "execution_count": null,
   "metadata": {
    "slideshow": {
     "slide_type": "slide"
    }
   },
   "outputs": [],
   "source": [
    "print(\"Your performance:\")\n",
    "print(classification_report(prediction_human, true_party))\n",
    "\n",
    "print(\"ML model performance:\")\n",
    "print(classification_report(prediction_machine, true_party))"
   ]
  }
 ],
 "metadata": {
  "celltoolbar": "Slideshow",
  "kernelspec": {
   "display_name": "Python 3 (ipykernel)",
   "language": "python",
   "name": "python3"
  },
  "language_info": {
   "codemirror_mode": {
    "name": "ipython",
    "version": 3
   },
   "file_extension": ".py",
   "mimetype": "text/x-python",
   "name": "python",
   "nbconvert_exporter": "python",
   "pygments_lexer": "ipython3",
   "version": "3.9.6"
  }
 },
 "nbformat": 4,
 "nbformat_minor": 1
}
