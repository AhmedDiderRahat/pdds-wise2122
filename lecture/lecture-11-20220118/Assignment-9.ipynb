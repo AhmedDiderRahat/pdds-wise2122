{
 "cells": [
  {
   "cell_type": "markdown",
   "metadata": {
    "slideshow": {
     "slide_type": "slide"
    }
   },
   "source": [
    "# Assignment 9\n",
    "\n",
    "In this assigment you will implement\n",
    "\n",
    " * a one hot encoding for categorical variables\n",
    " * the precision score\n",
    " * a text classifier for german parliament speeches"
   ]
  },
  {
   "cell_type": "markdown",
   "metadata": {
    "slideshow": {
     "slide_type": "slide"
    }
   },
   "source": [
    "## Assignment 09.01\n",
    "\n",
    "Implement a function assignment_09_01 that computes the one hot encoded representation of a list of strings. \n",
    "\n",
    "Return the result as a numpy array with the rows referring to data points and the columns to unique categories. The order of the columns is irrelevant. \n",
    "\n",
    "Test the implementation with the list ``['apple','banana','apple','lemon']``."
   ]
  },
  {
   "cell_type": "code",
   "execution_count": 9,
   "metadata": {},
   "outputs": [],
   "source": [
    "import numpy as np\n",
    "\n",
    "def assignment_09_01(x):\n",
    "    unique_items = list(set(x))\n",
    "    one_hot = []\n",
    "    # your code \n",
    "    return np.array(one_hot)\n",
    "\n",
    "ohe = assignment_09_01(['apple','banana','apple','lemon'])\n",
    "ohe\n",
    "\n",
    "assert np.array_equal(ohe.sum(axis=1),np.array([1.,1.,1.,1.]))\n",
    "assert np.array_equal(ohe[0,:],ohe[2,:])"
   ]
  },
  {
   "cell_type": "markdown",
   "metadata": {
    "slideshow": {
     "slide_type": "slide"
    }
   },
   "source": [
    "## Assignment 09.02\n",
    "\n",
    "Implement a function assignment_09_02 that computes the precision of binary predictions:\n",
    "\n",
    "$${\\text{precision}}={\\frac {|\\{{\\text{relevant instances}}\\}\\cap \\{{\\text{predicted instances}}\\}|}{|\\{{\\text{predicted instances}}\\}|}}$$\n",
    "\n",
    "\n",
    "The function should expect the true and predicted binary categories as numpy vectors, meaning numpy arrays with only one axis as e.g. ``np.array([1,0])`` where 1 stands for positive prediction and 0 for negative prediction. Make sure that always a number is returned and not a NaN."
   ]
  },
  {
   "cell_type": "code",
   "execution_count": 31,
   "metadata": {},
   "outputs": [],
   "source": [
    "def assignment_09_02(y_true, y_predicted):\n",
    "    # your code\n",
    "    return \n",
    "\n",
    "assert assignment_09_02(np.array([1,1,0]),np.array([0,0,0])) == 0\n",
    "assert assignment_09_02(np.array([1,1,0]),np.array([1,1,0])) == 1\n",
    "assert assignment_09_02(np.array([1,1,0]),np.array([1,0,0])) == 1\n",
    "assert assignment_09_02(np.array([1,1,0]),np.array([0,1,1])) == .5"
   ]
  },
  {
   "cell_type": "markdown",
   "metadata": {
    "slideshow": {
     "slide_type": "slide"
    }
   },
   "source": [
    "## Assignment 09.03\n",
    "\n",
    "In the 17th Bundestag elected in 2009, the ruling parties were CDU/CSU and FDP, in the 18th Bundestag elected in 2013 the ruling parties were CDU/CSU and SPD. Download the [parliament speeches](https://www.dropbox.com/s/1nlbfehnrwwa2zj/bundestags_parlamentsprotokolle.csv.gzip?dl=1) and compute a new target variable 'government' that is true if the respective party was in the ruling coalition at the time. \n",
    "\n",
    "Write a function ``assignment_09_03`` that preprocesses the data and trains a text classification pipeline that predicts whether a speech was made by the governing party. Train the pipeline on the speeches of the 17th Bundestag and test them on (heldout) data from the 17th Bundestag as well as on data from the 18th Bundestag. "
   ]
  },
  {
   "cell_type": "code",
   "execution_count": 34,
   "metadata": {},
   "outputs": [
    {
     "name": "stdout",
     "output_type": "stream",
     "text": [
      "********************************************************************************\n",
      "Evaluation on 17th Bundestag held-out data\n",
      "              precision    recall  f1-score   support\n",
      "\n",
      "       False       0.84      0.84      0.84      3169\n",
      "        True       0.81      0.82      0.82      2743\n",
      "\n",
      "    accuracy                           0.83      5912\n",
      "   macro avg       0.83      0.83      0.83      5912\n",
      "weighted avg       0.83      0.83      0.83      5912\n",
      "\n",
      "********************************************************************************\n",
      "Evaluation on 18th Bundestag held-out data\n",
      "              precision    recall  f1-score   support\n",
      "\n",
      "       False       0.57      0.87      0.69      6009\n",
      "        True       0.93      0.71      0.81     14025\n",
      "\n",
      "    accuracy                           0.76     20034\n",
      "   macro avg       0.75      0.79      0.75     20034\n",
      "weighted avg       0.82      0.76      0.77     20034\n",
      "\n"
     ]
    }
   ],
   "source": [
    "import os, gzip\n",
    "import pandas as pd\n",
    "import numpy as np\n",
    "from sklearn.feature_extraction.text import TfidfVectorizer\n",
    "from sklearn.model_selection import train_test_split, GridSearchCV\n",
    "from sklearn.linear_model import SGDClassifier\n",
    "from sklearn.pipeline import Pipeline\n",
    "import urllib.request\n",
    "from sklearn.metrics import classification_report\n",
    "\n",
    "DATADIR = \"data\"\n",
    "\n",
    "def load_data():\n",
    "    if not os.path.exists(DATADIR): \n",
    "        os.mkdir(DATADIR)\n",
    "\n",
    "    file_name = os.path.join(DATADIR, 'bundestags_parlamentsprotokolle.csv.gzip')\n",
    "    if not os.path.exists(file_name):\n",
    "        url_data = 'https://www.dropbox.com/s/1nlbfehnrwwa2zj/bundestags_parlamentsprotokolle.csv.gzip?dl=1'\n",
    "        urllib.request.urlretrieve(url_data, file_name)\n",
    "\n",
    "    df = pd.read_csv(gzip.open(file_name), index_col=0).sample(frac=1)\n",
    "    df.loc[df.wahlperiode==17,'government'] = df[df.wahlperiode==17].partei.isin(['cducsu','fdp'])\n",
    "    df.loc[df.wahlperiode==18,'government'] = df[df.wahlperiode==18].partei.isin(['cducsu','spd'])\n",
    "    \n",
    "    return df\n",
    "\n",
    "\n",
    "def assignment_09_03():\n",
    "    df = load_data()\n",
    "\n",
    "    ...\n",
    "    \n",
    "    print(\"*\"*80 + \"\\nEvaluation on 17th Bundestag held-out data\")\n",
    "    print(classification_report(...))\n",
    "\n",
    "    print(\"*\"*80 + \"\\nEvaluation on 18th Bundestag held-out data\")\n",
    "    print(classification_report(...))\n",
    "\n",
    "assignment_09_03()"
   ]
  },
  {
   "cell_type": "code",
   "execution_count": null,
   "metadata": {},
   "outputs": [],
   "source": []
  }
 ],
 "metadata": {
  "kernelspec": {
   "display_name": "Python 3",
   "language": "python",
   "name": "python3"
  },
  "language_info": {
   "codemirror_mode": {
    "name": "ipython",
    "version": 3
   },
   "file_extension": ".py",
   "mimetype": "text/x-python",
   "name": "python",
   "nbconvert_exporter": "python",
   "pygments_lexer": "ipython3",
   "version": "3.7.4"
  }
 },
 "nbformat": 4,
 "nbformat_minor": 2
}
