{
 "cells": [
  {
   "cell_type": "markdown",
   "metadata": {
    "slideshow": {
     "slide_type": "slide"
    }
   },
   "source": [
    "# Python for Data Science\n",
    "\n",
    "``pandas``\n"
   ]
  },
  {
   "cell_type": "markdown",
   "metadata": {
    "slideshow": {
     "slide_type": "slide"
    }
   },
   "source": [
    "# Pandas\n",
    "\n",
    "- Etymology: **pan**el **da**ta\n",
    "- Written by [Wes McKinney](http://wesmckinney.com/)\n",
    "- DataFrames for Python\n",
    "- Read/Write for many formats\n",
    "- Very efficient operations (much more efficient than plain python)\n",
    "- Database-like API\n",
    "- Very popular amongst Data Scientists\n"
   ]
  },
  {
   "cell_type": "markdown",
   "metadata": {
    "slideshow": {
     "slide_type": "slide"
    }
   },
   "source": [
    "## Pandas - Why Python is booming\n",
    "\n",
    "<img src=\"figures/pandas_popularity.png\" width=500px/>\n",
    "\n",
    "[Stackoverflow Blog: Why is Python Growing So Quickly?](https://stackoverflow.blog/2017/09/14/python-growing-quickly/)"
   ]
  },
  {
   "cell_type": "markdown",
   "metadata": {
    "slideshow": {
     "slide_type": "slide"
    }
   },
   "source": [
    "# Pandas Data Structures\n",
    "\n",
    "\n",
    "- ``Series``: \n",
    "    one-dimensional array of indexed data (*think: column of a table/database*)\n",
    "- ``DataFrame``: \n",
    "    table (*think: data base*)\n"
   ]
  },
  {
   "cell_type": "markdown",
   "metadata": {
    "slideshow": {
     "slide_type": "slide"
    }
   },
   "source": [
    "# The Pandas Series Object\n",
    "\n",
    "Pandas ``Series``: one-dimensional array of indexed data\n"
   ]
  },
  {
   "cell_type": "code",
   "execution_count": 1,
   "metadata": {
    "slideshow": {
     "slide_type": "slide"
    }
   },
   "outputs": [
    {
     "data": {
      "text/plain": [
       "0    0.25\n",
       "1    0.50\n",
       "2    0.75\n",
       "3    1.00\n",
       "dtype: float64"
      ]
     },
     "execution_count": 1,
     "metadata": {},
     "output_type": "execute_result"
    }
   ],
   "source": [
    "import numpy as np\n",
    "import pandas as pd\n",
    "import warnings\n",
    "warnings.filterwarnings(\"ignore\", message=\"numpy.dtype size changed\")\n",
    "warnings.filterwarnings(\"ignore\", message=\"numpy.ufunc size changed\")\n",
    " \n",
    "# create a pandas Series\n",
    "series_a = pd.Series([0.25, 0.5, 0.75, 1.0])\n",
    "series_a"
   ]
  },
  {
   "cell_type": "code",
   "execution_count": 2,
   "metadata": {
    "slideshow": {
     "slide_type": "fragment"
    }
   },
   "outputs": [
    {
     "data": {
      "text/plain": [
       "RangeIndex(start=0, stop=4, step=1)"
      ]
     },
     "execution_count": 2,
     "metadata": {},
     "output_type": "execute_result"
    }
   ],
   "source": [
    "series_a.index"
   ]
  },
  {
   "cell_type": "code",
   "execution_count": 3,
   "metadata": {
    "slideshow": {
     "slide_type": "fragment"
    }
   },
   "outputs": [
    {
     "data": {
      "text/plain": [
       "array([0.25, 0.5 , 0.75, 1.  ])"
      ]
     },
     "execution_count": 3,
     "metadata": {},
     "output_type": "execute_result"
    }
   ],
   "source": [
    "series_a.values"
   ]
  },
  {
   "cell_type": "markdown",
   "metadata": {
    "slideshow": {
     "slide_type": "slide"
    }
   },
   "source": [
    "## Generating Pandas Series\n",
    "\n",
    "Pandas ``Series`` can be created from most python collections.\n",
    "\n",
    "This also means that they support all content types that python collections support.\n"
   ]
  },
  {
   "cell_type": "code",
   "execution_count": 4,
   "metadata": {
    "slideshow": {
     "slide_type": "slide"
    }
   },
   "outputs": [
    {
     "data": {
      "text/plain": [
       "0      one\n",
       "1      two\n",
       "2    three\n",
       "dtype: object"
      ]
     },
     "execution_count": 4,
     "metadata": {},
     "output_type": "execute_result"
    }
   ],
   "source": [
    "# a list\n",
    "list_a = ['one','two','three']\n",
    "\n",
    "series_b = pd.Series(list_a)\n",
    "series_b"
   ]
  },
  {
   "cell_type": "code",
   "execution_count": 5,
   "metadata": {
    "slideshow": {
     "slide_type": "slide"
    }
   },
   "outputs": [
    {
     "data": {
      "text/plain": [
       "index_one        one\n",
       "index_two        two\n",
       "index_three    three\n",
       "dtype: object"
      ]
     },
     "execution_count": 5,
     "metadata": {},
     "output_type": "execute_result"
    }
   ],
   "source": [
    "# a list with indices\n",
    "list_a = ['one','two','three']\n",
    "list_b = ['index_one','index_two','index_three']\n",
    "\n",
    "series_c = pd.Series(data=list_a, index=list_b)\n",
    "series_c"
   ]
  },
  {
   "cell_type": "code",
   "execution_count": 6,
   "metadata": {
    "slideshow": {
     "slide_type": "slide"
    }
   },
   "outputs": [
    {
     "data": {
      "text/plain": [
       "100    5\n",
       "200    5\n",
       "300    5\n",
       "dtype: int64"
      ]
     },
     "execution_count": 6,
     "metadata": {},
     "output_type": "execute_result"
    }
   ],
   "source": [
    "# creating Series with same value\n",
    "pd.Series(5, index=[100, 200, 300])"
   ]
  },
  {
   "cell_type": "markdown",
   "metadata": {
    "slideshow": {
     "slide_type": "slide"
    }
   },
   "source": [
    "## Why is this helpful? \n",
    "\n",
    "There are many reasons why these indexed structures are helpful. Most of them are related to speed. But many are related to convenience:\n"
   ]
  },
  {
   "cell_type": "code",
   "execution_count": 7,
   "metadata": {
    "slideshow": {
     "slide_type": "fragment"
    }
   },
   "outputs": [
    {
     "data": {
      "text/plain": [
       "apples     2\n",
       "bananas    7\n",
       "lemons     3\n",
       "oranges    0\n",
       "dtype: int64"
      ]
     },
     "execution_count": 7,
     "metadata": {},
     "output_type": "execute_result"
    }
   ],
   "source": [
    "fruits = pd.Series([1,0,2,2], index=['apples','oranges','bananas','lemons'])\n",
    "more_fruits = pd.Series([1,0,1,5], index=['lemons','oranges','apples','bananas'])\n",
    "\n",
    "fruits + more_fruits"
   ]
  },
  {
   "cell_type": "markdown",
   "metadata": {
    "slideshow": {
     "slide_type": "slide"
    }
   },
   "source": [
    "## Some More Examples\n"
   ]
  },
  {
   "cell_type": "code",
   "execution_count": 8,
   "metadata": {
    "slideshow": {
     "slide_type": "fragment"
    }
   },
   "outputs": [],
   "source": [
    "berlin_population_dict = {\n",
    " '1917': 1681916,\n",
    " '1919': 1902509,\n",
    " '1925': 4024286,\n",
    " '1933': 4242501,\n",
    " '1939': 4338756,\n",
    " '1945': 2807405,\n",
    " '1946': 3170832,\n",
    " '1950': 3336026,\n",
    " '1960': 3274016,\n",
    " '1970': 3208719,\n",
    " '1980': 3048759,\n",
    " '1990': 3433695,\n",
    " '2000': 3382169,\n",
    " '2005': 3394000,\n",
    " '2010': 3460725}\n",
    "\n",
    "population = pd.Series(berlin_population_dict)"
   ]
  },
  {
   "cell_type": "code",
   "execution_count": 9,
   "metadata": {
    "slideshow": {
     "slide_type": "slide"
    }
   },
   "outputs": [
    {
     "data": {
      "text/plain": [
       "Text(0.5, 0, 'Year')"
      ]
     },
     "execution_count": 9,
     "metadata": {},
     "output_type": "execute_result"
    },
    {
     "data": {
      "image/png": "[encoded data removed]",
      "text/plain": [
       "<Figure size 864x288 with 1 Axes>"
      ]
     },
     "metadata": {},
     "output_type": "display_data"
    }
   ],
   "source": [
    "%matplotlib inline\n",
    "import matplotlib.pyplot as plt\n",
    "import seaborn; seaborn.set()  # set plot style\n",
    "plt.figure(figsize=[12,4])\n",
    "plt.plot(population)\n",
    "plt.ylabel(\"Population\")\n",
    "plt.xlabel(\"Year\")"
   ]
  },
  {
   "cell_type": "markdown",
   "metadata": {
    "slideshow": {
     "slide_type": "slide"
    }
   },
   "source": [
    "## Indexing Pandas Series\n"
   ]
  },
  {
   "cell_type": "code",
   "execution_count": 10,
   "metadata": {
    "slideshow": {
     "slide_type": "fragment"
    }
   },
   "outputs": [
    {
     "data": {
      "text/plain": [
       "Year\n",
       "1917    1681916\n",
       "1919    1902509\n",
       "1925    4024286\n",
       "1933    4242501\n",
       "1939    4338756\n",
       "1945    2807405\n",
       "1946    3170832\n",
       "1950    3336026\n",
       "1960    3274016\n",
       "1970    3208719\n",
       "1980    3048759\n",
       "1990    3433695\n",
       "2000    3382169\n",
       "2005    3394000\n",
       "2010    3460725\n",
       "Name: Population, dtype: int64"
      ]
     },
     "execution_count": 10,
     "metadata": {},
     "output_type": "execute_result"
    }
   ],
   "source": [
    "population.name = 'Population'\n",
    "population.index.name = 'Year'\n",
    "# note that the indices are strings\n",
    "population"
   ]
  },
  {
   "cell_type": "code",
   "execution_count": 11,
   "metadata": {
    "slideshow": {
     "slide_type": "slide"
    }
   },
   "outputs": [
    {
     "data": {
      "text/plain": [
       "1681916"
      ]
     },
     "execution_count": 11,
     "metadata": {},
     "output_type": "execute_result"
    }
   ],
   "source": [
    "population['1917']"
   ]
  },
  {
   "cell_type": "code",
   "execution_count": 12,
   "metadata": {
    "slideshow": {
     "slide_type": "fragment"
    }
   },
   "outputs": [
    {
     "data": {
      "text/plain": [
       "Year\n",
       "1917    1681916\n",
       "1925    4024286\n",
       "1945    2807405\n",
       "2010    3460725\n",
       "Name: Population, dtype: int64"
      ]
     },
     "execution_count": 12,
     "metadata": {},
     "output_type": "execute_result"
    }
   ],
   "source": [
    "population[['1917','1925','1945','2010']]"
   ]
  },
  {
   "cell_type": "code",
   "execution_count": 13,
   "metadata": {
    "slideshow": {
     "slide_type": "fragment"
    }
   },
   "outputs": [
    {
     "data": {
      "text/plain": [
       "Year\n",
       "1925    4024286\n",
       "1933    4242501\n",
       "1939    4338756\n",
       "1945    2807405\n",
       "1946    3170832\n",
       "1950    3336026\n",
       "Name: Population, dtype: int64"
      ]
     },
     "execution_count": 13,
     "metadata": {},
     "output_type": "execute_result"
    }
   ],
   "source": [
    "population['1925':'1950']"
   ]
  },
  {
   "cell_type": "code",
   "execution_count": 14,
   "metadata": {
    "slideshow": {
     "slide_type": "slide"
    }
   },
   "outputs": [
    {
     "data": {
      "text/plain": [
       "Year\n",
       "1917    False\n",
       "1919    False\n",
       "1925     True\n",
       "1933     True\n",
       "1939     True\n",
       "1945    False\n",
       "1946     True\n",
       "1950     True\n",
       "1960     True\n",
       "1970     True\n",
       "1980     True\n",
       "1990     True\n",
       "2000     True\n",
       "2005     True\n",
       "2010     True\n",
       "Name: Population, dtype: bool"
      ]
     },
     "execution_count": 14,
     "metadata": {},
     "output_type": "execute_result"
    }
   ],
   "source": [
    "population > 3e6"
   ]
  },
  {
   "cell_type": "code",
   "execution_count": 15,
   "metadata": {
    "slideshow": {
     "slide_type": "fragment"
    }
   },
   "outputs": [
    {
     "data": {
      "text/plain": [
       "Year\n",
       "1925    4024286\n",
       "1933    4242501\n",
       "1939    4338756\n",
       "1946    3170832\n",
       "1950    3336026\n",
       "1960    3274016\n",
       "1970    3208719\n",
       "1980    3048759\n",
       "1990    3433695\n",
       "2000    3382169\n",
       "2005    3394000\n",
       "2010    3460725\n",
       "Name: Population, dtype: int64"
      ]
     },
     "execution_count": 15,
     "metadata": {},
     "output_type": "execute_result"
    }
   ],
   "source": [
    "population[population > 3e6]"
   ]
  },
  {
   "cell_type": "code",
   "execution_count": 16,
   "metadata": {
    "slideshow": {
     "slide_type": "slide"
    }
   },
   "outputs": [
    {
     "data": {
      "text/plain": [
       "Year\n",
       "1917                    1681916\n",
       "1919                    1902509\n",
       "1925    more than three million\n",
       "1933    more than three million\n",
       "1939    more than three million\n",
       "1945                    2807405\n",
       "1946    more than three million\n",
       "1950    more than three million\n",
       "1960    more than three million\n",
       "1970    more than three million\n",
       "1980    more than three million\n",
       "1990    more than three million\n",
       "2000    more than three million\n",
       "2005    more than three million\n",
       "2010    more than three million\n",
       "Name: Population, dtype: object"
      ]
     },
     "execution_count": 16,
     "metadata": {},
     "output_type": "execute_result"
    }
   ],
   "source": [
    "population_ = population.copy() # copy is important here\n",
    "population_[population_ > 3e6] = \"more than three million\"\n",
    "population_"
   ]
  },
  {
   "cell_type": "code",
   "execution_count": 17,
   "metadata": {
    "slideshow": {
     "slide_type": "fragment"
    }
   },
   "outputs": [
    {
     "data": {
      "text/plain": [
       "Year\n",
       "1917    1681916\n",
       "Name: Population, dtype: int64"
      ]
     },
     "execution_count": 17,
     "metadata": {},
     "output_type": "execute_result"
    }
   ],
   "source": [
    "population[population==1681916]"
   ]
  },
  {
   "cell_type": "code",
   "execution_count": 18,
   "metadata": {
    "slideshow": {
     "slide_type": "fragment"
    }
   },
   "outputs": [
    {
     "data": {
      "text/plain": [
       "Year\n",
       "1917    1681916\n",
       "2010    3460725\n",
       "Name: Population, dtype: int64"
      ]
     },
     "execution_count": 18,
     "metadata": {},
     "output_type": "execute_result"
    }
   ],
   "source": [
    "population[(population==1681916) | (population==3460725)]"
   ]
  },
  {
   "cell_type": "markdown",
   "metadata": {
    "slideshow": {
     "slide_type": "slide"
    }
   },
   "source": [
    "## Explicit and Positional Indexing\n",
    "\n",
    "- Pandas objects can be indexed in different ways:\n",
    " - explicit indices: what you define as index\n",
    " - positional index: the row number\n",
    "- Depending on how you access values in a ``pandas`` object, explicit or positional indexing is used. \n",
    "- To avoid confusion, specify the type of indexing with ``loc`` (explicit indexing) or ``iloc`` (positional indexing)\n"
   ]
  },
  {
   "cell_type": "code",
   "execution_count": 19,
   "metadata": {
    "slideshow": {
     "slide_type": "fragment"
    }
   },
   "outputs": [
    {
     "data": {
      "text/plain": [
       "1    a\n",
       "3    b\n",
       "5    c\n",
       "dtype: object"
      ]
     },
     "execution_count": 19,
     "metadata": {},
     "output_type": "execute_result"
    }
   ],
   "source": [
    "data = pd.Series(['a', 'b', 'c'], index=[1, 3, 5])\n",
    "data"
   ]
  },
  {
   "cell_type": "code",
   "execution_count": 20,
   "metadata": {
    "slideshow": {
     "slide_type": "slide"
    }
   },
   "outputs": [
    {
     "data": {
      "text/plain": [
       "'a'"
      ]
     },
     "execution_count": 20,
     "metadata": {},
     "output_type": "execute_result"
    }
   ],
   "source": [
    "data = pd.Series(['a', 'b', 'c'], index=[1, 3, 5])\n",
    "# explicit index when indexing\n",
    "data[1]"
   ]
  },
  {
   "cell_type": "code",
   "execution_count": 21,
   "metadata": {
    "slideshow": {
     "slide_type": "fragment"
    }
   },
   "outputs": [
    {
     "data": {
      "text/plain": [
       "1    a\n",
       "3    b\n",
       "dtype: object"
      ]
     },
     "execution_count": 21,
     "metadata": {},
     "output_type": "execute_result"
    }
   ],
   "source": [
    "data = pd.Series(['a', 'b', 'c'], index=[1, 3, 5])\n",
    "# explicit index when fancy-indexing\n",
    "data[[1,3]]"
   ]
  },
  {
   "cell_type": "code",
   "execution_count": 22,
   "metadata": {
    "slideshow": {
     "slide_type": "fragment"
    }
   },
   "outputs": [
    {
     "data": {
      "text/plain": [
       "3    b\n",
       "5    c\n",
       "dtype: object"
      ]
     },
     "execution_count": 22,
     "metadata": {},
     "output_type": "execute_result"
    }
   ],
   "source": [
    "data = pd.Series(['a', 'b', 'c'], index=[1, 3, 5])\n",
    "# positional index when slicing\n",
    "data[1:3]"
   ]
  },
  {
   "cell_type": "code",
   "execution_count": 23,
   "metadata": {
    "slideshow": {
     "slide_type": "fragment"
    }
   },
   "outputs": [
    {
     "data": {
      "text/plain": [
       "'b'"
      ]
     },
     "execution_count": 23,
     "metadata": {},
     "output_type": "execute_result"
    }
   ],
   "source": [
    "data = pd.Series(['a', 'b', 'c'], index=['1', '3', '5'])\n",
    "# positional index when actual index is not integer valued\n",
    "data[1]"
   ]
  },
  {
   "cell_type": "markdown",
   "metadata": {
    "slideshow": {
     "slide_type": "slide"
    }
   },
   "source": [
    "### Explicit Indexing with ``loc``"
   ]
  },
  {
   "cell_type": "code",
   "execution_count": 24,
   "metadata": {
    "slideshow": {
     "slide_type": "fragment"
    }
   },
   "outputs": [
    {
     "data": {
      "text/plain": [
       "'a'"
      ]
     },
     "execution_count": 24,
     "metadata": {},
     "output_type": "execute_result"
    }
   ],
   "source": [
    "data = pd.Series(['a', 'b', 'c'], index=[1, 3, 5])\n",
    "data.loc[1]"
   ]
  },
  {
   "cell_type": "code",
   "execution_count": 25,
   "metadata": {
    "slideshow": {
     "slide_type": "fragment"
    }
   },
   "outputs": [
    {
     "data": {
      "text/plain": [
       "1    a\n",
       "3    b\n",
       "dtype: object"
      ]
     },
     "execution_count": 25,
     "metadata": {},
     "output_type": "execute_result"
    }
   ],
   "source": [
    "data = pd.Series(['a', 'b', 'c'], index=[1, 3, 5])\n",
    "#  loc for explicit indexing\n",
    "data.loc[1:3]"
   ]
  },
  {
   "cell_type": "markdown",
   "metadata": {
    "slideshow": {
     "slide_type": "slide"
    }
   },
   "source": [
    "### Positional Indexing with ``iloc``"
   ]
  },
  {
   "cell_type": "code",
   "execution_count": 26,
   "metadata": {
    "slideshow": {
     "slide_type": "fragment"
    }
   },
   "outputs": [
    {
     "data": {
      "text/plain": [
       "'b'"
      ]
     },
     "execution_count": 26,
     "metadata": {},
     "output_type": "execute_result"
    }
   ],
   "source": [
    "data = pd.Series(['a', 'b', 'c'], index=[1, 3, 5])\n",
    "data.iloc[1]"
   ]
  },
  {
   "cell_type": "code",
   "execution_count": 27,
   "metadata": {
    "slideshow": {
     "slide_type": "fragment"
    }
   },
   "outputs": [
    {
     "data": {
      "text/plain": [
       "3    b\n",
       "5    c\n",
       "dtype: object"
      ]
     },
     "execution_count": 27,
     "metadata": {},
     "output_type": "execute_result"
    }
   ],
   "source": [
    "data = pd.Series(['a', 'b', 'c'], index=[1, 3, 5])\n",
    "data.iloc[1:3]"
   ]
  },
  {
   "cell_type": "markdown",
   "metadata": {
    "slideshow": {
     "slide_type": "slide"
    }
   },
   "source": [
    "## Operations on Pandas Series\n",
    "\n",
    "- Efficient arithmetic and aggregation operations\n",
    "- Compatible with ``numpy``"
   ]
  },
  {
   "cell_type": "code",
   "execution_count": 28,
   "metadata": {
    "slideshow": {
     "slide_type": "fragment"
    }
   },
   "outputs": [
    {
     "data": {
      "text/plain": [
       "Year\n",
       "1917    1.681916\n",
       "1919    1.902509\n",
       "1925    4.024286\n",
       "1933    4.242501\n",
       "1939    4.338756\n",
       "1945    2.807405\n",
       "1946    3.170832\n",
       "1950    3.336026\n",
       "1960    3.274016\n",
       "1970    3.208719\n",
       "1980    3.048759\n",
       "1990    3.433695\n",
       "2000    3.382169\n",
       "2005    3.394000\n",
       "2010    3.460725\n",
       "Name: Population, dtype: float64"
      ]
     },
     "execution_count": 28,
     "metadata": {},
     "output_type": "execute_result"
    }
   ],
   "source": [
    "population_in_millions = population / 1e6\n",
    "population_in_millions"
   ]
  },
  {
   "cell_type": "code",
   "execution_count": 29,
   "metadata": {
    "slideshow": {
     "slide_type": "slide"
    }
   },
   "outputs": [
    {
     "data": {
      "text/plain": [
       "4.338756    1\n",
       "3.433695    1\n",
       "3.170832    1\n",
       "3.208719    1\n",
       "4.242501    1\n",
       "3.048759    1\n",
       "3.274016    1\n",
       "1.681916    1\n",
       "3.382169    1\n",
       "2.807405    1\n",
       "3.460725    1\n",
       "4.024286    1\n",
       "3.394000    1\n",
       "1.902509    1\n",
       "3.336026    1\n",
       "Name: Population, dtype: int64"
      ]
     },
     "execution_count": 29,
     "metadata": {},
     "output_type": "execute_result"
    }
   ],
   "source": [
    "# histograms\n",
    "population_in_millions.value_counts()"
   ]
  },
  {
   "cell_type": "code",
   "execution_count": 30,
   "metadata": {
    "slideshow": {
     "slide_type": "subslide"
    }
   },
   "outputs": [
    {
     "data": {
      "text/plain": [
       "Year\n",
       "1917    1681916\n",
       "1919    1902509\n",
       "1945    2807405\n",
       "1980    3048759\n",
       "1946    3170832\n",
       "1970    3208719\n",
       "1960    3274016\n",
       "1950    3336026\n",
       "2000    3382169\n",
       "2005    3394000\n",
       "1990    3433695\n",
       "2010    3460725\n",
       "1925    4024286\n",
       "1933    4242501\n",
       "1939    4338756\n",
       "Name: Population, dtype: int64"
      ]
     },
     "execution_count": 30,
     "metadata": {},
     "output_type": "execute_result"
    }
   ],
   "source": [
    "# sorting \n",
    "population.sort_values()"
   ]
  },
  {
   "cell_type": "code",
   "execution_count": 31,
   "metadata": {
    "slideshow": {
     "slide_type": "subslide"
    }
   },
   "outputs": [
    {
     "data": {
      "text/plain": [
       "count    1.500000e+01\n",
       "mean     3.247088e+06\n",
       "std      7.276748e+05\n",
       "min      1.681916e+06\n",
       "25%      3.109796e+06\n",
       "50%      3.336026e+06\n",
       "75%      3.447210e+06\n",
       "max      4.338756e+06\n",
       "Name: Population, dtype: float64"
      ]
     },
     "execution_count": 31,
     "metadata": {},
     "output_type": "execute_result"
    }
   ],
   "source": [
    "# basic stats\n",
    "population.describe()"
   ]
  },
  {
   "cell_type": "markdown",
   "metadata": {
    "slideshow": {
     "slide_type": "slide"
    }
   },
   "source": [
    "## Applying Arbitrary Functions"
   ]
  },
  {
   "cell_type": "code",
   "execution_count": 32,
   "metadata": {
    "slideshow": {
     "slide_type": "fragment"
    }
   },
   "outputs": [
    {
     "data": {
      "text/plain": [
       "35"
      ]
     },
     "execution_count": 32,
     "metadata": {},
     "output_type": "execute_result"
    }
   ],
   "source": [
    "# apply custom functions\n",
    "\n",
    "def some_function(v):\n",
    "    '''\n",
    "    Divides number by a million and returns its integer representation\n",
    "    '''\n",
    "    return int(v / 1e6)\n",
    "\n",
    "some_function(35 * 1e6)\n"
   ]
  },
  {
   "cell_type": "code",
   "execution_count": 33,
   "metadata": {
    "slideshow": {
     "slide_type": "slide"
    }
   },
   "outputs": [
    {
     "data": {
      "text/plain": [
       "Year\n",
       "1917    1\n",
       "1919    1\n",
       "1925    4\n",
       "1933    4\n",
       "1939    4\n",
       "1945    2\n",
       "1946    3\n",
       "1950    3\n",
       "1960    3\n",
       "1970    3\n",
       "1980    3\n",
       "1990    3\n",
       "2000    3\n",
       "2005    3\n",
       "2010    3\n",
       "Name: Population, dtype: int64"
      ]
     },
     "execution_count": 33,
     "metadata": {},
     "output_type": "execute_result"
    }
   ],
   "source": [
    "population.apply(some_function)"
   ]
  },
  {
   "cell_type": "code",
   "execution_count": 34,
   "metadata": {
    "slideshow": {
     "slide_type": "slide"
    }
   },
   "outputs": [
    {
     "name": "stdout",
     "output_type": "stream",
     "text": [
      "370 ms ± 5.05 ms per loop (mean ± std. dev. of 7 runs, 1 loop each)\n"
     ]
    }
   ],
   "source": [
    "s = pd.Series(range(int(1e6)))\n",
    "%timeit s.apply(some_function)"
   ]
  },
  {
   "cell_type": "code",
   "execution_count": 35,
   "metadata": {
    "slideshow": {
     "slide_type": "fragment"
    }
   },
   "outputs": [
    {
     "name": "stdout",
     "output_type": "stream",
     "text": [
      "3.72 ms ± 13.2 µs per loop (mean ± std. dev. of 7 runs, 100 loops each)\n"
     ]
    }
   ],
   "source": [
    "%timeit (s / 1e6).astype(int)"
   ]
  },
  {
   "cell_type": "markdown",
   "metadata": {
    "slideshow": {
     "slide_type": "slide"
    }
   },
   "source": [
    "# Missing Values\n",
    "\n"
   ]
  },
  {
   "cell_type": "markdown",
   "metadata": {
    "slideshow": {
     "slide_type": "fragment"
    }
   },
   "source": [
    "There are three main options how to deal with missing values:\n",
    "\n",
    "- drop rows with missing values\n",
    "- replace missing values with placeholder symbol\n",
    "- impute missing values with some ML model\n",
    "\n"
   ]
  },
  {
   "cell_type": "code",
   "execution_count": 36,
   "metadata": {
    "slideshow": {
     "slide_type": "slide"
    }
   },
   "outputs": [
    {
     "data": {
      "text/plain": [
       "1945    2807405.0\n",
       "1950    3336026.0\n",
       "1955          NaN\n",
       "1960    3274016.0\n",
       "1965          NaN\n",
       "1970    3208719.0\n",
       "dtype: float64"
      ]
     },
     "execution_count": 36,
     "metadata": {},
     "output_type": "execute_result"
    }
   ],
   "source": [
    "berlin_population_dict = {\n",
    " '1945': 2807405,\n",
    " '1950': 3336026,\n",
    " '1955': None,                         \n",
    " '1960': 3274016,\n",
    " '1965': np.nan,                         \n",
    " '1970': 3208719}\n",
    "\n",
    "population_w_nans = pd.Series(berlin_population_dict)\n",
    "population_w_nans"
   ]
  },
  {
   "cell_type": "markdown",
   "metadata": {
    "slideshow": {
     "slide_type": "slide"
    }
   },
   "source": [
    "## Dropping rows\n"
   ]
  },
  {
   "cell_type": "code",
   "execution_count": 37,
   "metadata": {
    "slideshow": {
     "slide_type": "fragment"
    }
   },
   "outputs": [
    {
     "data": {
      "text/plain": [
       "1945    False\n",
       "1950    False\n",
       "1955     True\n",
       "1960    False\n",
       "1965     True\n",
       "1970    False\n",
       "dtype: bool"
      ]
     },
     "execution_count": 37,
     "metadata": {},
     "output_type": "execute_result"
    }
   ],
   "source": [
    "population_w_nans.isnull()"
   ]
  },
  {
   "cell_type": "code",
   "execution_count": 38,
   "metadata": {
    "slideshow": {
     "slide_type": "fragment"
    }
   },
   "outputs": [
    {
     "data": {
      "text/plain": [
       "1945    2807405.0\n",
       "1950    3336026.0\n",
       "1960    3274016.0\n",
       "1970    3208719.0\n",
       "dtype: float64"
      ]
     },
     "execution_count": 38,
     "metadata": {},
     "output_type": "execute_result"
    }
   ],
   "source": [
    "population_w_nans[~population_w_nans.isnull()]"
   ]
  },
  {
   "cell_type": "code",
   "execution_count": 39,
   "metadata": {
    "slideshow": {
     "slide_type": "fragment"
    }
   },
   "outputs": [
    {
     "data": {
      "text/plain": [
       "1945    2807405.0\n",
       "1950    3336026.0\n",
       "1960    3274016.0\n",
       "1970    3208719.0\n",
       "dtype: float64"
      ]
     },
     "execution_count": 39,
     "metadata": {},
     "output_type": "execute_result"
    }
   ],
   "source": [
    "population_w_nans.dropna()"
   ]
  },
  {
   "cell_type": "markdown",
   "metadata": {
    "slideshow": {
     "slide_type": "slide"
    }
   },
   "source": [
    "## Filling with Placeholder\n"
   ]
  },
  {
   "cell_type": "code",
   "execution_count": 40,
   "metadata": {
    "slideshow": {
     "slide_type": "fragment"
    }
   },
   "outputs": [
    {
     "data": {
      "text/plain": [
       "1945    2807405.0\n",
       "1950    3336026.0\n",
       "1955    3336026.0\n",
       "1960    3274016.0\n",
       "1965    3274016.0\n",
       "1970    3208719.0\n",
       "dtype: float64"
      ]
     },
     "execution_count": 40,
     "metadata": {},
     "output_type": "execute_result"
    }
   ],
   "source": [
    "population_w_nans.fillna(method='ffill')"
   ]
  },
  {
   "cell_type": "code",
   "execution_count": 41,
   "metadata": {
    "slideshow": {
     "slide_type": "fragment"
    }
   },
   "outputs": [
    {
     "data": {
      "text/plain": [
       "1945    2807405.0\n",
       "1950    3336026.0\n",
       "1955    3241367.5\n",
       "1960    3274016.0\n",
       "1965    3241367.5\n",
       "1970    3208719.0\n",
       "dtype: float64"
      ]
     },
     "execution_count": 41,
     "metadata": {},
     "output_type": "execute_result"
    }
   ],
   "source": [
    "population_w_nans.fillna(value=population_w_nans.median())"
   ]
  },
  {
   "cell_type": "markdown",
   "metadata": {
    "slideshow": {
     "slide_type": "slide"
    }
   },
   "source": [
    "# The Pandas DataFrame Object\n",
    "\n",
    "Pandas ``Dataframe``: **a table** (or DataBase - i.e. one or more Series concatenated)\n"
   ]
  },
  {
   "cell_type": "markdown",
   "metadata": {
    "slideshow": {
     "slide_type": "slide"
    }
   },
   "source": [
    "## Generating Pandas DataFrames\n"
   ]
  },
  {
   "cell_type": "code",
   "execution_count": 42,
   "metadata": {
    "slideshow": {
     "slide_type": "fragment"
    }
   },
   "outputs": [
    {
     "data": {
      "text/plain": [
       "array([[0, 1, 2],\n",
       "       [3, 4, 5],\n",
       "       [6, 7, 8]])"
      ]
     },
     "execution_count": 42,
     "metadata": {},
     "output_type": "execute_result"
    }
   ],
   "source": [
    "some_numpy_array = np.arange(9).reshape((3, 3))\n",
    "some_numpy_array"
   ]
  },
  {
   "cell_type": "code",
   "execution_count": 43,
   "metadata": {
    "slideshow": {
     "slide_type": "fragment"
    }
   },
   "outputs": [
    {
     "data": {
      "text/html": [
       "<div>\n",
       "<style scoped>\n",
       "    .dataframe tbody tr th:only-of-type {\n",
       "        vertical-align: middle;\n",
       "    }\n",
       "\n",
       "    .dataframe tbody tr th {\n",
       "        vertical-align: top;\n",
       "    }\n",
       "\n",
       "    .dataframe thead th {\n",
       "        text-align: right;\n",
       "    }\n",
       "</style>\n",
       "<table border=\"1\" class=\"dataframe\">\n",
       "  <thead>\n",
       "    <tr style=\"text-align: right;\">\n",
       "      <th></th>\n",
       "      <th>Ohio</th>\n",
       "      <th>Texas</th>\n",
       "      <th>California</th>\n",
       "    </tr>\n",
       "  </thead>\n",
       "  <tbody>\n",
       "    <tr>\n",
       "      <td>a</td>\n",
       "      <td>0</td>\n",
       "      <td>1</td>\n",
       "      <td>2</td>\n",
       "    </tr>\n",
       "    <tr>\n",
       "      <td>c</td>\n",
       "      <td>3</td>\n",
       "      <td>4</td>\n",
       "      <td>5</td>\n",
       "    </tr>\n",
       "    <tr>\n",
       "      <td>d</td>\n",
       "      <td>6</td>\n",
       "      <td>7</td>\n",
       "      <td>8</td>\n",
       "    </tr>\n",
       "  </tbody>\n",
       "</table>\n",
       "</div>"
      ],
      "text/plain": [
       "   Ohio  Texas  California\n",
       "a     0      1           2\n",
       "c     3      4           5\n",
       "d     6      7           8"
      ]
     },
     "execution_count": 43,
     "metadata": {},
     "output_type": "execute_result"
    }
   ],
   "source": [
    "df = pd.DataFrame(some_numpy_array,\n",
    "                        index=['a', 'c', 'd'],\n",
    "                        columns=['Ohio', 'Texas', 'California'])\n",
    "df\n"
   ]
  },
  {
   "cell_type": "markdown",
   "metadata": {
    "slideshow": {
     "slide_type": "slide"
    }
   },
   "source": [
    "### Pandas DataFrame Constructors\n",
    "\n",
    "|Type | Notes|\n",
    "|-----|------|\n",
    "|2D ndarray|A matrix of data, passing optional row and column labels|\n",
    "|dict of arrays, lists, or tuples|Each sequence becomes a column in the DataFrame; all sequences must be the same length|\n",
    "|NumPy structured/record array|Treated as the “dict of arrays” case\n",
    "|dict of Series|Each value becomes a column|\n",
    "|dict of dicts|Each inner dict becomes a column|\n",
    "|List of dicts or Series|Each item becomes a row in the DataFrame|\n",
    "|List of lists or tuples|Treated as the “2D ndarray” case|\n",
    "|Another DataFrame|The DataFrame’s indexes are used unless different ones are passed|\n",
    "|NumPy MaskedArray|Like the “2D ndarray” case except masked values become NA/missing in the DataFrame result|\n",
    "\n"
   ]
  },
  {
   "cell_type": "code",
   "execution_count": 44,
   "metadata": {
    "slideshow": {
     "slide_type": "slide"
    }
   },
   "outputs": [],
   "source": [
    "# a DataFrame from a csv file\n",
    "import os\n",
    "df_from_csv = pd.read_csv(os.path.join(\"data\",\"berlin_population.csv\"))\n"
   ]
  },
  {
   "cell_type": "markdown",
   "metadata": {
    "slideshow": {
     "slide_type": "slide"
    }
   },
   "source": [
    "### Pandas DataFrame IO \n",
    "\n",
    "'<table border=\"1\" class=\"dataframe\">  <thead>    <tr style=\"text-align: right;\">      <th>Format Type</th>      <th>Data Description</th>      <th>Reader</th>      <th>Writer</th>    </tr>  </thead>  <tbody>    <tr>      <td>text</td>      <td>CSV</td>      <td>read_csv</td>      <td>to_csv</td>    </tr>    <tr>      <td>text</td>      <td>JSON</td>      <td>read_json</td>      <td>to_json</td>    </tr>    <tr>      <td>text</td>      <td>HTML</td>      <td>read_html</td>      <td>to_html</td>    </tr>    <tr>      <td>text</td>      <td>Local clipboard</td>      <td>read_clipboard</td>      <td>to_clipboard</td>    </tr>    <tr>      <td>binary</td>      <td>MS Excel</td>      <td>read_excel</td>      <td>to_excel</td>    </tr>    <tr>      <td>binary</td>      <td>HDF5 Format</td>      <td>read_hdf</td>      <td>to_hdf</td>    </tr>    <tr>      <td>binary</td>      <td>Feather Format</td>      <td>read_feather</td>      <td>to_feather</td>    </tr>    <tr>      <td>binary</td>      <td>Parquet Format</td>      <td>read_parquet</td>      <td>to_parquet</td>    </tr>    <tr>      <td>binary</td>      <td>Msgpack</td>      <td>read_msgpack</td>      <td>to_msgpack</td>    </tr>    <tr>      <td>binary</td>      <td>Stata</td>      <td>read_stata</td>      <td>to_stata</td>    </tr>    <tr>      <td>binary</td>      <td>SAS</td>      <td>read_sas</td>      <td></td>    </tr>    <tr>      <td>binary</td>      <td>Python Pickle Format</td>      <td>read_pickle</td>      <td>to_pickle</td>    </tr>    <tr>      <td>SQL</td>      <td>SQL</td>      <td>read_sql</td>      <td>to_sql</td>    </tr>    <tr>      <td>SQL</td>      <td>Google Big Query</td>      <td>read_gbq</td>      <td>to_gbq</td>    </tr>  </tbody></table>'"
   ]
  },
  {
   "cell_type": "markdown",
   "metadata": {
    "slideshow": {
     "slide_type": "slide"
    }
   },
   "source": [
    "### Example: Getting Berlin Population Statistics from Wikipedia\n",
    "\n",
    "see [\"https://en.wikipedia.org/wiki/Berlin_population_statistics\"](\"https://en.wikipedia.org/wiki/Berlin_population_statistics\")"
   ]
  },
  {
   "cell_type": "code",
   "execution_count": 45,
   "metadata": {
    "scrolled": true,
    "slideshow": {
     "slide_type": "slide"
    }
   },
   "outputs": [
    {
     "data": {
      "text/html": [
       "<div>\n",
       "<style scoped>\n",
       "    .dataframe tbody tr th:only-of-type {\n",
       "        vertical-align: middle;\n",
       "    }\n",
       "\n",
       "    .dataframe tbody tr th {\n",
       "        vertical-align: top;\n",
       "    }\n",
       "\n",
       "    .dataframe thead th {\n",
       "        text-align: right;\n",
       "    }\n",
       "</style>\n",
       "<table border=\"1\" class=\"dataframe\">\n",
       "  <thead>\n",
       "    <tr style=\"text-align: right;\">\n",
       "      <th></th>\n",
       "      <th>Borough</th>\n",
       "      <th>Population 30 September 2010</th>\n",
       "      <th>Area in km²</th>\n",
       "      <th>Largest Non-German ethnic groups</th>\n",
       "    </tr>\n",
       "  </thead>\n",
       "  <tbody>\n",
       "    <tr>\n",
       "      <td>0</td>\n",
       "      <td>Mitte</td>\n",
       "      <td>332100</td>\n",
       "      <td>39.47</td>\n",
       "      <td>Turks, Arabs, Kurds, many Asians, Africans and...</td>\n",
       "    </tr>\n",
       "    <tr>\n",
       "      <td>1</td>\n",
       "      <td>Friedrichshain-Kreuzberg</td>\n",
       "      <td>268831</td>\n",
       "      <td>20.16</td>\n",
       "      <td>Turks, Arabs, African, Kurds, Chinese</td>\n",
       "    </tr>\n",
       "    <tr>\n",
       "      <td>2</td>\n",
       "      <td>Pankow</td>\n",
       "      <td>368956</td>\n",
       "      <td>103.01</td>\n",
       "      <td>Poles, Italians, French, Americans, Vietnamese...</td>\n",
       "    </tr>\n",
       "    <tr>\n",
       "      <td>3</td>\n",
       "      <td>Charlottenburg-Wilmersdorf</td>\n",
       "      <td>320014</td>\n",
       "      <td>64.72</td>\n",
       "      <td>Turks, Africans, Russians, Arabs, others.</td>\n",
       "    </tr>\n",
       "    <tr>\n",
       "      <td>4</td>\n",
       "      <td>Spandau</td>\n",
       "      <td>225420</td>\n",
       "      <td>91.91</td>\n",
       "      <td>Turks, Africans, Russians, Arabs, others.</td>\n",
       "    </tr>\n",
       "    <tr>\n",
       "      <td>5</td>\n",
       "      <td>Steglitz-Zehlendorf</td>\n",
       "      <td>293989</td>\n",
       "      <td>102.50</td>\n",
       "      <td>Poles, Turks, Croats, Serbs, Koreans</td>\n",
       "    </tr>\n",
       "    <tr>\n",
       "      <td>6</td>\n",
       "      <td>Tempelhof-Schöneberg</td>\n",
       "      <td>335060</td>\n",
       "      <td>53.09</td>\n",
       "      <td>Turks, Croats, Serbs, Koreans, Africans</td>\n",
       "    </tr>\n",
       "    <tr>\n",
       "      <td>7</td>\n",
       "      <td>Neukölln</td>\n",
       "      <td>310283</td>\n",
       "      <td>44.93</td>\n",
       "      <td>Arabs, Turks, Kurds, Russians, Africans, Poles</td>\n",
       "    </tr>\n",
       "    <tr>\n",
       "      <td>8</td>\n",
       "      <td>Treptow-Köpenick</td>\n",
       "      <td>241335</td>\n",
       "      <td>168.42</td>\n",
       "      <td>Russians, Poles, Ukrainians, Vietnamese</td>\n",
       "    </tr>\n",
       "    <tr>\n",
       "      <td>9</td>\n",
       "      <td>Marzahn-Hellersdorf</td>\n",
       "      <td>248264</td>\n",
       "      <td>61.74</td>\n",
       "      <td>Russians, Vietnamese, several other Eastern Eu...</td>\n",
       "    </tr>\n",
       "    <tr>\n",
       "      <td>10</td>\n",
       "      <td>Lichtenberg</td>\n",
       "      <td>259881</td>\n",
       "      <td>52.29</td>\n",
       "      <td>Vietnamese, Russians, Ukrainians, Poles, Chinese</td>\n",
       "    </tr>\n",
       "    <tr>\n",
       "      <td>11</td>\n",
       "      <td>Reinickendorf</td>\n",
       "      <td>240454</td>\n",
       "      <td>89.46</td>\n",
       "      <td>Turks, Poles, Serbs, Croats, Arabs, Italians</td>\n",
       "    </tr>\n",
       "    <tr>\n",
       "      <td>12</td>\n",
       "      <td>Total Berlin</td>\n",
       "      <td>3450889</td>\n",
       "      <td>891.82</td>\n",
       "      <td>Turks, Arabs, Russians, Vietnamese, Poles, Afr...</td>\n",
       "    </tr>\n",
       "  </tbody>\n",
       "</table>\n",
       "</div>"
      ],
      "text/plain": [
       "                       Borough  Population 30 September 2010  Area in km²  \\\n",
       "0                        Mitte                        332100        39.47   \n",
       "1     Friedrichshain-Kreuzberg                        268831        20.16   \n",
       "2                       Pankow                        368956       103.01   \n",
       "3   Charlottenburg-Wilmersdorf                        320014        64.72   \n",
       "4                      Spandau                        225420        91.91   \n",
       "5          Steglitz-Zehlendorf                        293989       102.50   \n",
       "6         Tempelhof-Schöneberg                        335060        53.09   \n",
       "7                     Neukölln                        310283        44.93   \n",
       "8             Treptow-Köpenick                        241335       168.42   \n",
       "9          Marzahn-Hellersdorf                        248264        61.74   \n",
       "10                 Lichtenberg                        259881        52.29   \n",
       "11               Reinickendorf                        240454        89.46   \n",
       "12                Total Berlin                       3450889       891.82   \n",
       "\n",
       "                     Largest Non-German ethnic groups  \n",
       "0   Turks, Arabs, Kurds, many Asians, Africans and...  \n",
       "1               Turks, Arabs, African, Kurds, Chinese  \n",
       "2   Poles, Italians, French, Americans, Vietnamese...  \n",
       "3           Turks, Africans, Russians, Arabs, others.  \n",
       "4           Turks, Africans, Russians, Arabs, others.  \n",
       "5                Poles, Turks, Croats, Serbs, Koreans  \n",
       "6             Turks, Croats, Serbs, Koreans, Africans  \n",
       "7      Arabs, Turks, Kurds, Russians, Africans, Poles  \n",
       "8             Russians, Poles, Ukrainians, Vietnamese  \n",
       "9   Russians, Vietnamese, several other Eastern Eu...  \n",
       "10   Vietnamese, Russians, Ukrainians, Poles, Chinese  \n",
       "11       Turks, Poles, Serbs, Croats, Arabs, Italians  \n",
       "12  Turks, Arabs, Russians, Vietnamese, Poles, Afr...  "
      ]
     },
     "execution_count": 45,
     "metadata": {},
     "output_type": "execute_result"
    }
   ],
   "source": [
    "df_berlin_population = pd.read_html(\n",
    "    \"https://en.wikipedia.org/wiki/Berlin_population_statistics\",\n",
    "    header=0)\n",
    "\n",
    "df_berlin_population[0]"
   ]
  },
  {
   "cell_type": "code",
   "execution_count": 46,
   "metadata": {
    "slideshow": {
     "slide_type": "slide"
    }
   },
   "outputs": [
    {
     "data": {
      "text/html": [
       "<div>\n",
       "<style scoped>\n",
       "    .dataframe tbody tr th:only-of-type {\n",
       "        vertical-align: middle;\n",
       "    }\n",
       "\n",
       "    .dataframe tbody tr th {\n",
       "        vertical-align: top;\n",
       "    }\n",
       "\n",
       "    .dataframe thead th {\n",
       "        text-align: right;\n",
       "    }\n",
       "</style>\n",
       "<table border=\"1\" class=\"dataframe\">\n",
       "  <thead>\n",
       "    <tr style=\"text-align: right;\">\n",
       "      <th></th>\n",
       "      <th>Population 30 September 2010</th>\n",
       "      <th>Area in km²</th>\n",
       "      <th>Largest Non-German ethnic groups</th>\n",
       "    </tr>\n",
       "    <tr>\n",
       "      <th>Borough</th>\n",
       "      <th></th>\n",
       "      <th></th>\n",
       "      <th></th>\n",
       "    </tr>\n",
       "  </thead>\n",
       "  <tbody>\n",
       "    <tr>\n",
       "      <td>Mitte</td>\n",
       "      <td>332100</td>\n",
       "      <td>39.47</td>\n",
       "      <td>Turks, Arabs, Kurds, many Asians, Africans and...</td>\n",
       "    </tr>\n",
       "    <tr>\n",
       "      <td>Friedrichshain-Kreuzberg</td>\n",
       "      <td>268831</td>\n",
       "      <td>20.16</td>\n",
       "      <td>Turks, Arabs, African, Kurds, Chinese</td>\n",
       "    </tr>\n",
       "    <tr>\n",
       "      <td>Pankow</td>\n",
       "      <td>368956</td>\n",
       "      <td>103.01</td>\n",
       "      <td>Poles, Italians, French, Americans, Vietnamese...</td>\n",
       "    </tr>\n",
       "    <tr>\n",
       "      <td>Charlottenburg-Wilmersdorf</td>\n",
       "      <td>320014</td>\n",
       "      <td>64.72</td>\n",
       "      <td>Turks, Africans, Russians, Arabs, others.</td>\n",
       "    </tr>\n",
       "    <tr>\n",
       "      <td>Spandau</td>\n",
       "      <td>225420</td>\n",
       "      <td>91.91</td>\n",
       "      <td>Turks, Africans, Russians, Arabs, others.</td>\n",
       "    </tr>\n",
       "    <tr>\n",
       "      <td>Steglitz-Zehlendorf</td>\n",
       "      <td>293989</td>\n",
       "      <td>102.50</td>\n",
       "      <td>Poles, Turks, Croats, Serbs, Koreans</td>\n",
       "    </tr>\n",
       "    <tr>\n",
       "      <td>Tempelhof-Schöneberg</td>\n",
       "      <td>335060</td>\n",
       "      <td>53.09</td>\n",
       "      <td>Turks, Croats, Serbs, Koreans, Africans</td>\n",
       "    </tr>\n",
       "    <tr>\n",
       "      <td>Neukölln</td>\n",
       "      <td>310283</td>\n",
       "      <td>44.93</td>\n",
       "      <td>Arabs, Turks, Kurds, Russians, Africans, Poles</td>\n",
       "    </tr>\n",
       "    <tr>\n",
       "      <td>Treptow-Köpenick</td>\n",
       "      <td>241335</td>\n",
       "      <td>168.42</td>\n",
       "      <td>Russians, Poles, Ukrainians, Vietnamese</td>\n",
       "    </tr>\n",
       "    <tr>\n",
       "      <td>Marzahn-Hellersdorf</td>\n",
       "      <td>248264</td>\n",
       "      <td>61.74</td>\n",
       "      <td>Russians, Vietnamese, several other Eastern Eu...</td>\n",
       "    </tr>\n",
       "    <tr>\n",
       "      <td>Lichtenberg</td>\n",
       "      <td>259881</td>\n",
       "      <td>52.29</td>\n",
       "      <td>Vietnamese, Russians, Ukrainians, Poles, Chinese</td>\n",
       "    </tr>\n",
       "  </tbody>\n",
       "</table>\n",
       "</div>"
      ],
      "text/plain": [
       "                            Population 30 September 2010  Area in km²  \\\n",
       "Borough                                                                 \n",
       "Mitte                                             332100        39.47   \n",
       "Friedrichshain-Kreuzberg                          268831        20.16   \n",
       "Pankow                                            368956       103.01   \n",
       "Charlottenburg-Wilmersdorf                        320014        64.72   \n",
       "Spandau                                           225420        91.91   \n",
       "Steglitz-Zehlendorf                               293989       102.50   \n",
       "Tempelhof-Schöneberg                              335060        53.09   \n",
       "Neukölln                                          310283        44.93   \n",
       "Treptow-Köpenick                                  241335       168.42   \n",
       "Marzahn-Hellersdorf                               248264        61.74   \n",
       "Lichtenberg                                       259881        52.29   \n",
       "\n",
       "                                             Largest Non-German ethnic groups  \n",
       "Borough                                                                        \n",
       "Mitte                       Turks, Arabs, Kurds, many Asians, Africans and...  \n",
       "Friedrichshain-Kreuzberg                Turks, Arabs, African, Kurds, Chinese  \n",
       "Pankow                      Poles, Italians, French, Americans, Vietnamese...  \n",
       "Charlottenburg-Wilmersdorf          Turks, Africans, Russians, Arabs, others.  \n",
       "Spandau                             Turks, Africans, Russians, Arabs, others.  \n",
       "Steglitz-Zehlendorf                      Poles, Turks, Croats, Serbs, Koreans  \n",
       "Tempelhof-Schöneberg                  Turks, Croats, Serbs, Koreans, Africans  \n",
       "Neukölln                       Arabs, Turks, Kurds, Russians, Africans, Poles  \n",
       "Treptow-Köpenick                      Russians, Poles, Ukrainians, Vietnamese  \n",
       "Marzahn-Hellersdorf         Russians, Vietnamese, several other Eastern Eu...  \n",
       "Lichtenberg                  Vietnamese, Russians, Ukrainians, Poles, Chinese  "
      ]
     },
     "execution_count": 46,
     "metadata": {},
     "output_type": "execute_result"
    }
   ],
   "source": [
    "df_berlin_population[0].copy()[:11].set_index('Borough')"
   ]
  },
  {
   "cell_type": "code",
   "execution_count": 47,
   "metadata": {
    "slideshow": {
     "slide_type": "slide"
    }
   },
   "outputs": [
    {
     "data": {
      "text/html": [
       "<div>\n",
       "<style scoped>\n",
       "    .dataframe tbody tr th:only-of-type {\n",
       "        vertical-align: middle;\n",
       "    }\n",
       "\n",
       "    .dataframe tbody tr th {\n",
       "        vertical-align: top;\n",
       "    }\n",
       "\n",
       "    .dataframe thead th {\n",
       "        text-align: right;\n",
       "    }\n",
       "</style>\n",
       "<table border=\"1\" class=\"dataframe\">\n",
       "  <thead>\n",
       "    <tr style=\"text-align: right;\">\n",
       "      <th></th>\n",
       "      <th>Year</th>\n",
       "      <th>Population</th>\n",
       "    </tr>\n",
       "  </thead>\n",
       "  <tbody>\n",
       "    <tr>\n",
       "      <td>0</td>\n",
       "      <td>December 5, 1917 ¹</td>\n",
       "      <td>1681916</td>\n",
       "    </tr>\n",
       "    <tr>\n",
       "      <td>1</td>\n",
       "      <td>October 8, 1919 ¹</td>\n",
       "      <td>1902509</td>\n",
       "    </tr>\n",
       "    <tr>\n",
       "      <td>2</td>\n",
       "      <td>June 16, 1925 ¹</td>\n",
       "      <td>4024286</td>\n",
       "    </tr>\n",
       "    <tr>\n",
       "      <td>3</td>\n",
       "      <td>June 16, 1933 ¹</td>\n",
       "      <td>4242501</td>\n",
       "    </tr>\n",
       "    <tr>\n",
       "      <td>4</td>\n",
       "      <td>May 17, 1939 ¹</td>\n",
       "      <td>4338756</td>\n",
       "    </tr>\n",
       "    <tr>\n",
       "      <td>5</td>\n",
       "      <td>August 12, 1945 ¹</td>\n",
       "      <td>2807405</td>\n",
       "    </tr>\n",
       "    <tr>\n",
       "      <td>6</td>\n",
       "      <td>October 29, 1946 ¹</td>\n",
       "      <td>3170832</td>\n",
       "    </tr>\n",
       "    <tr>\n",
       "      <td>7</td>\n",
       "      <td>December 31, 1950</td>\n",
       "      <td>3336026</td>\n",
       "    </tr>\n",
       "    <tr>\n",
       "      <td>8</td>\n",
       "      <td>December 31, 1960</td>\n",
       "      <td>3274016</td>\n",
       "    </tr>\n",
       "    <tr>\n",
       "      <td>9</td>\n",
       "      <td>December 31, 1970</td>\n",
       "      <td>3208719</td>\n",
       "    </tr>\n",
       "    <tr>\n",
       "      <td>10</td>\n",
       "      <td>December 31, 1980</td>\n",
       "      <td>3048759</td>\n",
       "    </tr>\n",
       "    <tr>\n",
       "      <td>11</td>\n",
       "      <td>December 31, 1990</td>\n",
       "      <td>3433695</td>\n",
       "    </tr>\n",
       "    <tr>\n",
       "      <td>12</td>\n",
       "      <td>December 31, 2000</td>\n",
       "      <td>3382169</td>\n",
       "    </tr>\n",
       "    <tr>\n",
       "      <td>13</td>\n",
       "      <td>September 30, 2005</td>\n",
       "      <td>3394000</td>\n",
       "    </tr>\n",
       "    <tr>\n",
       "      <td>14</td>\n",
       "      <td>September 30, 2010</td>\n",
       "      <td>3450889</td>\n",
       "    </tr>\n",
       "    <tr>\n",
       "      <td>15</td>\n",
       "      <td>December 31, 2010</td>\n",
       "      <td>3460725</td>\n",
       "    </tr>\n",
       "  </tbody>\n",
       "</table>\n",
       "</div>"
      ],
      "text/plain": [
       "                  Year  Population\n",
       "0   December 5, 1917 ¹     1681916\n",
       "1    October 8, 1919 ¹     1902509\n",
       "2      June 16, 1925 ¹     4024286\n",
       "3      June 16, 1933 ¹     4242501\n",
       "4       May 17, 1939 ¹     4338756\n",
       "5    August 12, 1945 ¹     2807405\n",
       "6   October 29, 1946 ¹     3170832\n",
       "7    December 31, 1950     3336026\n",
       "8    December 31, 1960     3274016\n",
       "9    December 31, 1970     3208719\n",
       "10   December 31, 1980     3048759\n",
       "11   December 31, 1990     3433695\n",
       "12   December 31, 2000     3382169\n",
       "13  September 30, 2005     3394000\n",
       "14  September 30, 2010     3450889\n",
       "15   December 31, 2010     3460725"
      ]
     },
     "execution_count": 47,
     "metadata": {},
     "output_type": "execute_result"
    }
   ],
   "source": [
    "df_population_over_time = df_berlin_population[4]\n",
    "df_population_over_time"
   ]
  },
  {
   "cell_type": "code",
   "execution_count": 48,
   "metadata": {
    "slideshow": {
     "slide_type": "slide"
    }
   },
   "outputs": [
    {
     "data": {
      "text/html": [
       "<div>\n",
       "<style scoped>\n",
       "    .dataframe tbody tr th:only-of-type {\n",
       "        vertical-align: middle;\n",
       "    }\n",
       "\n",
       "    .dataframe tbody tr th {\n",
       "        vertical-align: top;\n",
       "    }\n",
       "\n",
       "    .dataframe thead th {\n",
       "        text-align: right;\n",
       "    }\n",
       "</style>\n",
       "<table border=\"1\" class=\"dataframe\">\n",
       "  <thead>\n",
       "    <tr style=\"text-align: right;\">\n",
       "      <th></th>\n",
       "      <th>Year</th>\n",
       "      <th>Population</th>\n",
       "    </tr>\n",
       "  </thead>\n",
       "  <tbody>\n",
       "    <tr>\n",
       "      <td>0</td>\n",
       "      <td>1917 ¹</td>\n",
       "      <td>1681916</td>\n",
       "    </tr>\n",
       "    <tr>\n",
       "      <td>1</td>\n",
       "      <td>1919 ¹</td>\n",
       "      <td>1902509</td>\n",
       "    </tr>\n",
       "    <tr>\n",
       "      <td>2</td>\n",
       "      <td>1925 ¹</td>\n",
       "      <td>4024286</td>\n",
       "    </tr>\n",
       "    <tr>\n",
       "      <td>3</td>\n",
       "      <td>1933 ¹</td>\n",
       "      <td>4242501</td>\n",
       "    </tr>\n",
       "    <tr>\n",
       "      <td>4</td>\n",
       "      <td>1939 ¹</td>\n",
       "      <td>4338756</td>\n",
       "    </tr>\n",
       "    <tr>\n",
       "      <td>5</td>\n",
       "      <td>1945 ¹</td>\n",
       "      <td>2807405</td>\n",
       "    </tr>\n",
       "    <tr>\n",
       "      <td>6</td>\n",
       "      <td>1946 ¹</td>\n",
       "      <td>3170832</td>\n",
       "    </tr>\n",
       "    <tr>\n",
       "      <td>7</td>\n",
       "      <td>1950</td>\n",
       "      <td>3336026</td>\n",
       "    </tr>\n",
       "    <tr>\n",
       "      <td>8</td>\n",
       "      <td>1960</td>\n",
       "      <td>3274016</td>\n",
       "    </tr>\n",
       "    <tr>\n",
       "      <td>9</td>\n",
       "      <td>1970</td>\n",
       "      <td>3208719</td>\n",
       "    </tr>\n",
       "    <tr>\n",
       "      <td>10</td>\n",
       "      <td>1980</td>\n",
       "      <td>3048759</td>\n",
       "    </tr>\n",
       "    <tr>\n",
       "      <td>11</td>\n",
       "      <td>1990</td>\n",
       "      <td>3433695</td>\n",
       "    </tr>\n",
       "    <tr>\n",
       "      <td>12</td>\n",
       "      <td>2000</td>\n",
       "      <td>3382169</td>\n",
       "    </tr>\n",
       "    <tr>\n",
       "      <td>13</td>\n",
       "      <td>2005</td>\n",
       "      <td>3394000</td>\n",
       "    </tr>\n",
       "    <tr>\n",
       "      <td>14</td>\n",
       "      <td>2010</td>\n",
       "      <td>3450889</td>\n",
       "    </tr>\n",
       "    <tr>\n",
       "      <td>15</td>\n",
       "      <td>2010</td>\n",
       "      <td>3460725</td>\n",
       "    </tr>\n",
       "  </tbody>\n",
       "</table>\n",
       "</div>"
      ],
      "text/plain": [
       "      Year  Population\n",
       "0   1917 ¹     1681916\n",
       "1   1919 ¹     1902509\n",
       "2   1925 ¹     4024286\n",
       "3   1933 ¹     4242501\n",
       "4   1939 ¹     4338756\n",
       "5   1945 ¹     2807405\n",
       "6   1946 ¹     3170832\n",
       "7     1950     3336026\n",
       "8     1960     3274016\n",
       "9     1970     3208719\n",
       "10    1980     3048759\n",
       "11    1990     3433695\n",
       "12    2000     3382169\n",
       "13    2005     3394000\n",
       "14    2010     3450889\n",
       "15    2010     3460725"
      ]
     },
     "execution_count": 48,
     "metadata": {},
     "output_type": "execute_result"
    }
   ],
   "source": [
    "df_population_over_time.Year = df_population_over_time.Year\\\n",
    "                                .str.replace(\".*, \",\"\")\n",
    "df_population_over_time"
   ]
  },
  {
   "cell_type": "markdown",
   "metadata": {
    "slideshow": {
     "slide_type": "slide"
    }
   },
   "source": [
    "## Accessing Values in Pandas Data Frames"
   ]
  },
  {
   "cell_type": "code",
   "execution_count": 49,
   "metadata": {
    "slideshow": {
     "slide_type": "slide"
    }
   },
   "outputs": [],
   "source": [
    "# some data\n",
    "berlin_population_by_borough = {\n",
    "  'Area in km²': {\n",
    "    'Charlottenburg-Wilmersdorf': 64.72,\n",
    "    'Friedrichshain-Kreuzberg': 20.16,\n",
    "    'Lichtenberg': 52.29,\n",
    "    'Marzahn-Hellersdorf': 61.74,\n",
    "    'Mitte': 39.47,\n",
    "    'Neukölln': 44.93,\n",
    "    'Pankow': 103.01,\n",
    "    'Spandau': 91.91,\n",
    "    'Steglitz-Zehlendorf': 102.5,\n",
    "    'Tempelhof-Schöneberg': 53.09,\n",
    "    'Treptow-Köpenick': 168.42},\n",
    " 'Population 30 September 2010': {\n",
    "    'Charlottenburg-Wilmersdorf': 320014,\n",
    "    'Friedrichshain-Kreuzberg': 268831,\n",
    "    'Lichtenberg': 259881,\n",
    "    'Marzahn-Hellersdorf': 248264,\n",
    "    'Mitte': 332100,\n",
    "    'Neukölln': 310283,\n",
    "    'Pankow': 368956,\n",
    "    'Spandau': 225420,\n",
    "    'Steglitz-Zehlendorf': 293989,\n",
    "    'Tempelhof-Schöneberg': 335060,\n",
    "    'Treptow-Köpenick': 241335}}\n"
   ]
  },
  {
   "cell_type": "code",
   "execution_count": 50,
   "metadata": {
    "slideshow": {
     "slide_type": "slide"
    }
   },
   "outputs": [
    {
     "data": {
      "text/html": [
       "<div>\n",
       "<style scoped>\n",
       "    .dataframe tbody tr th:only-of-type {\n",
       "        vertical-align: middle;\n",
       "    }\n",
       "\n",
       "    .dataframe tbody tr th {\n",
       "        vertical-align: top;\n",
       "    }\n",
       "\n",
       "    .dataframe thead th {\n",
       "        text-align: right;\n",
       "    }\n",
       "</style>\n",
       "<table border=\"1\" class=\"dataframe\">\n",
       "  <thead>\n",
       "    <tr style=\"text-align: right;\">\n",
       "      <th></th>\n",
       "      <th>Area in km²</th>\n",
       "      <th>Population 30 September 2010</th>\n",
       "    </tr>\n",
       "  </thead>\n",
       "  <tbody>\n",
       "    <tr>\n",
       "      <td>Charlottenburg-Wilmersdorf</td>\n",
       "      <td>64.72</td>\n",
       "      <td>320014</td>\n",
       "    </tr>\n",
       "    <tr>\n",
       "      <td>Friedrichshain-Kreuzberg</td>\n",
       "      <td>20.16</td>\n",
       "      <td>268831</td>\n",
       "    </tr>\n",
       "    <tr>\n",
       "      <td>Lichtenberg</td>\n",
       "      <td>52.29</td>\n",
       "      <td>259881</td>\n",
       "    </tr>\n",
       "    <tr>\n",
       "      <td>Marzahn-Hellersdorf</td>\n",
       "      <td>61.74</td>\n",
       "      <td>248264</td>\n",
       "    </tr>\n",
       "    <tr>\n",
       "      <td>Mitte</td>\n",
       "      <td>39.47</td>\n",
       "      <td>332100</td>\n",
       "    </tr>\n",
       "    <tr>\n",
       "      <td>Neukölln</td>\n",
       "      <td>44.93</td>\n",
       "      <td>310283</td>\n",
       "    </tr>\n",
       "    <tr>\n",
       "      <td>Pankow</td>\n",
       "      <td>103.01</td>\n",
       "      <td>368956</td>\n",
       "    </tr>\n",
       "    <tr>\n",
       "      <td>Spandau</td>\n",
       "      <td>91.91</td>\n",
       "      <td>225420</td>\n",
       "    </tr>\n",
       "    <tr>\n",
       "      <td>Steglitz-Zehlendorf</td>\n",
       "      <td>102.50</td>\n",
       "      <td>293989</td>\n",
       "    </tr>\n",
       "    <tr>\n",
       "      <td>Tempelhof-Schöneberg</td>\n",
       "      <td>53.09</td>\n",
       "      <td>335060</td>\n",
       "    </tr>\n",
       "    <tr>\n",
       "      <td>Treptow-Köpenick</td>\n",
       "      <td>168.42</td>\n",
       "      <td>241335</td>\n",
       "    </tr>\n",
       "  </tbody>\n",
       "</table>\n",
       "</div>"
      ],
      "text/plain": [
       "                            Area in km²  Population 30 September 2010\n",
       "Charlottenburg-Wilmersdorf        64.72                        320014\n",
       "Friedrichshain-Kreuzberg          20.16                        268831\n",
       "Lichtenberg                       52.29                        259881\n",
       "Marzahn-Hellersdorf               61.74                        248264\n",
       "Mitte                             39.47                        332100\n",
       "Neukölln                          44.93                        310283\n",
       "Pankow                           103.01                        368956\n",
       "Spandau                           91.91                        225420\n",
       "Steglitz-Zehlendorf              102.50                        293989\n",
       "Tempelhof-Schöneberg              53.09                        335060\n",
       "Treptow-Köpenick                 168.42                        241335"
      ]
     },
     "execution_count": 50,
     "metadata": {},
     "output_type": "execute_result"
    }
   ],
   "source": [
    "# a DataFrame from a dictionary of dictionaries\n",
    "df = pd.DataFrame(berlin_population_by_borough)\n",
    "df"
   ]
  },
  {
   "cell_type": "code",
   "execution_count": 51,
   "metadata": {
    "slideshow": {
     "slide_type": "fragment"
    }
   },
   "outputs": [
    {
     "data": {
      "text/plain": [
       "Index(['Charlottenburg-Wilmersdorf', 'Friedrichshain-Kreuzberg', 'Lichtenberg',\n",
       "       'Marzahn-Hellersdorf', 'Mitte', 'Neukölln', 'Pankow', 'Spandau',\n",
       "       'Steglitz-Zehlendorf', 'Tempelhof-Schöneberg', 'Treptow-Köpenick'],\n",
       "      dtype='object')"
      ]
     },
     "execution_count": 51,
     "metadata": {},
     "output_type": "execute_result"
    }
   ],
   "source": [
    "# like Series (and tables in DBs) DataFrames have indices\n",
    "df.index"
   ]
  },
  {
   "cell_type": "code",
   "execution_count": 52,
   "metadata": {
    "slideshow": {
     "slide_type": "fragment"
    }
   },
   "outputs": [
    {
     "data": {
      "text/plain": [
       "20.16"
      ]
     },
     "execution_count": 52,
     "metadata": {},
     "output_type": "execute_result"
    }
   ],
   "source": [
    "# Accessing by row and column index\n",
    "df.loc['Friedrichshain-Kreuzberg','Area in km²']"
   ]
  },
  {
   "cell_type": "code",
   "execution_count": 53,
   "metadata": {
    "slideshow": {
     "slide_type": "slide"
    }
   },
   "outputs": [
    {
     "data": {
      "text/plain": [
       "Charlottenburg-Wilmersdorf     64.72\n",
       "Friedrichshain-Kreuzberg       20.16\n",
       "Lichtenberg                    52.29\n",
       "Marzahn-Hellersdorf            61.74\n",
       "Mitte                          39.47\n",
       "Neukölln                       44.93\n",
       "Pankow                        103.01\n",
       "Spandau                        91.91\n",
       "Steglitz-Zehlendorf           102.50\n",
       "Tempelhof-Schöneberg           53.09\n",
       "Treptow-Köpenick              168.42\n",
       "Name: Area in km², dtype: float64"
      ]
     },
     "execution_count": 53,
     "metadata": {},
     "output_type": "execute_result"
    }
   ],
   "source": [
    "# Accessing an entire column\n",
    "df.loc[:,'Area in km²']"
   ]
  },
  {
   "cell_type": "code",
   "execution_count": 54,
   "metadata": {
    "slideshow": {
     "slide_type": "fragment"
    }
   },
   "outputs": [
    {
     "data": {
      "text/plain": [
       "Charlottenburg-Wilmersdorf     64.72\n",
       "Friedrichshain-Kreuzberg       20.16\n",
       "Lichtenberg                    52.29\n",
       "Marzahn-Hellersdorf            61.74\n",
       "Mitte                          39.47\n",
       "Neukölln                       44.93\n",
       "Pankow                        103.01\n",
       "Spandau                        91.91\n",
       "Steglitz-Zehlendorf           102.50\n",
       "Tempelhof-Schöneberg           53.09\n",
       "Treptow-Köpenick              168.42\n",
       "Name: Area in km², dtype: float64"
      ]
     },
     "execution_count": 54,
     "metadata": {},
     "output_type": "execute_result"
    }
   ],
   "source": [
    "# Accessing an entire column\n",
    "df['Area in km²']"
   ]
  },
  {
   "cell_type": "code",
   "execution_count": 55,
   "metadata": {
    "slideshow": {
     "slide_type": "slide"
    }
   },
   "outputs": [
    {
     "data": {
      "text/plain": [
       "['Friedrichshain-Kreuzberg', 'Lichtenberg', 'Tempelhof-Schöneberg']"
      ]
     },
     "execution_count": 55,
     "metadata": {},
     "output_type": "execute_result"
    }
   ],
   "source": [
    "[b for b in df.index if 'berg' in b.lower()]"
   ]
  },
  {
   "cell_type": "code",
   "execution_count": 56,
   "metadata": {
    "slideshow": {
     "slide_type": "fragment"
    }
   },
   "outputs": [
    {
     "data": {
      "text/html": [
       "<div>\n",
       "<style scoped>\n",
       "    .dataframe tbody tr th:only-of-type {\n",
       "        vertical-align: middle;\n",
       "    }\n",
       "\n",
       "    .dataframe tbody tr th {\n",
       "        vertical-align: top;\n",
       "    }\n",
       "\n",
       "    .dataframe thead th {\n",
       "        text-align: right;\n",
       "    }\n",
       "</style>\n",
       "<table border=\"1\" class=\"dataframe\">\n",
       "  <thead>\n",
       "    <tr style=\"text-align: right;\">\n",
       "      <th></th>\n",
       "      <th>Area in km²</th>\n",
       "      <th>Population 30 September 2010</th>\n",
       "    </tr>\n",
       "  </thead>\n",
       "  <tbody>\n",
       "    <tr>\n",
       "      <td>Friedrichshain-Kreuzberg</td>\n",
       "      <td>20.16</td>\n",
       "      <td>268831</td>\n",
       "    </tr>\n",
       "    <tr>\n",
       "      <td>Lichtenberg</td>\n",
       "      <td>52.29</td>\n",
       "      <td>259881</td>\n",
       "    </tr>\n",
       "    <tr>\n",
       "      <td>Tempelhof-Schöneberg</td>\n",
       "      <td>53.09</td>\n",
       "      <td>335060</td>\n",
       "    </tr>\n",
       "  </tbody>\n",
       "</table>\n",
       "</div>"
      ],
      "text/plain": [
       "                          Area in km²  Population 30 September 2010\n",
       "Friedrichshain-Kreuzberg        20.16                        268831\n",
       "Lichtenberg                     52.29                        259881\n",
       "Tempelhof-Schöneberg            53.09                        335060"
      ]
     },
     "execution_count": 56,
     "metadata": {},
     "output_type": "execute_result"
    }
   ],
   "source": [
    "df.loc[['Friedrichshain-Kreuzberg', 'Lichtenberg', 'Tempelhof-Schöneberg'],:]"
   ]
  },
  {
   "cell_type": "code",
   "execution_count": 57,
   "metadata": {
    "slideshow": {
     "slide_type": "slide"
    }
   },
   "outputs": [
    {
     "data": {
      "text/plain": [
       "Charlottenburg-Wilmersdorf    320014\n",
       "Friedrichshain-Kreuzberg      268831\n",
       "Lichtenberg                   259881\n",
       "Marzahn-Hellersdorf           248264\n",
       "Mitte                         332100\n",
       "Neukölln                      310283\n",
       "Pankow                        368956\n",
       "Spandau                       225420\n",
       "Steglitz-Zehlendorf           293989\n",
       "Tempelhof-Schöneberg          335060\n",
       "Treptow-Köpenick              241335\n",
       "Name: Population 30 September 2010, dtype: int64"
      ]
     },
     "execution_count": 57,
     "metadata": {},
     "output_type": "execute_result"
    }
   ],
   "source": [
    "# a single column of a DataFrame is a Series\n",
    "df['Population 30 September 2010']"
   ]
  },
  {
   "cell_type": "code",
   "execution_count": 58,
   "metadata": {
    "slideshow": {
     "slide_type": "slide"
    }
   },
   "outputs": [
    {
     "data": {
      "text/plain": [
       "Charlottenburg-Wilmersdorf     True\n",
       "Friedrichshain-Kreuzberg      False\n",
       "Lichtenberg                   False\n",
       "Marzahn-Hellersdorf           False\n",
       "Mitte                          True\n",
       "Neukölln                       True\n",
       "Pankow                         True\n",
       "Spandau                       False\n",
       "Steglitz-Zehlendorf           False\n",
       "Tempelhof-Schöneberg           True\n",
       "Treptow-Köpenick              False\n",
       "Name: Population 30 September 2010, dtype: bool"
      ]
     },
     "execution_count": 58,
     "metadata": {},
     "output_type": "execute_result"
    }
   ],
   "source": [
    "# boolean indexing\n",
    "df['Population 30 September 2010'] > 3e5"
   ]
  },
  {
   "cell_type": "code",
   "execution_count": 59,
   "metadata": {
    "slideshow": {
     "slide_type": "slide"
    }
   },
   "outputs": [
    {
     "data": {
      "text/html": [
       "<div>\n",
       "<style scoped>\n",
       "    .dataframe tbody tr th:only-of-type {\n",
       "        vertical-align: middle;\n",
       "    }\n",
       "\n",
       "    .dataframe tbody tr th {\n",
       "        vertical-align: top;\n",
       "    }\n",
       "\n",
       "    .dataframe thead th {\n",
       "        text-align: right;\n",
       "    }\n",
       "</style>\n",
       "<table border=\"1\" class=\"dataframe\">\n",
       "  <thead>\n",
       "    <tr style=\"text-align: right;\">\n",
       "      <th></th>\n",
       "      <th>Area in km²</th>\n",
       "      <th>Population 30 September 2010</th>\n",
       "    </tr>\n",
       "  </thead>\n",
       "  <tbody>\n",
       "    <tr>\n",
       "      <td>Charlottenburg-Wilmersdorf</td>\n",
       "      <td>64.72</td>\n",
       "      <td>320014</td>\n",
       "    </tr>\n",
       "    <tr>\n",
       "      <td>Mitte</td>\n",
       "      <td>39.47</td>\n",
       "      <td>332100</td>\n",
       "    </tr>\n",
       "    <tr>\n",
       "      <td>Neukölln</td>\n",
       "      <td>44.93</td>\n",
       "      <td>310283</td>\n",
       "    </tr>\n",
       "    <tr>\n",
       "      <td>Pankow</td>\n",
       "      <td>103.01</td>\n",
       "      <td>368956</td>\n",
       "    </tr>\n",
       "    <tr>\n",
       "      <td>Tempelhof-Schöneberg</td>\n",
       "      <td>53.09</td>\n",
       "      <td>335060</td>\n",
       "    </tr>\n",
       "  </tbody>\n",
       "</table>\n",
       "</div>"
      ],
      "text/plain": [
       "                            Area in km²  Population 30 September 2010\n",
       "Charlottenburg-Wilmersdorf        64.72                        320014\n",
       "Mitte                             39.47                        332100\n",
       "Neukölln                          44.93                        310283\n",
       "Pankow                           103.01                        368956\n",
       "Tempelhof-Schöneberg              53.09                        335060"
      ]
     },
     "execution_count": 59,
     "metadata": {},
     "output_type": "execute_result"
    }
   ],
   "source": [
    "# boolean indexing\n",
    "df[df['Population 30 September 2010'] > 3e5]"
   ]
  },
  {
   "cell_type": "code",
   "execution_count": 60,
   "metadata": {
    "slideshow": {
     "slide_type": "slide"
    }
   },
   "outputs": [
    {
     "data": {
      "text/plain": [
       "Charlottenburg-Wilmersdorf    320014\n",
       "Mitte                         332100\n",
       "Neukölln                      310283\n",
       "Pankow                        368956\n",
       "Tempelhof-Schöneberg          335060\n",
       "Name: Population 30 September 2010, dtype: int64"
      ]
     },
     "execution_count": 60,
     "metadata": {},
     "output_type": "execute_result"
    }
   ],
   "source": [
    "# boolean row indexing with column indexing\n",
    "df.loc[df['Population 30 September 2010'] > 3e5,'Population 30 September 2010']"
   ]
  },
  {
   "cell_type": "markdown",
   "metadata": {
    "slideshow": {
     "slide_type": "slide"
    }
   },
   "source": [
    "## Operations on Pandas Data Frames\n"
   ]
  },
  {
   "cell_type": "markdown",
   "metadata": {
    "slideshow": {
     "slide_type": "fragment"
    }
   },
   "source": [
    "- All Series operations work on DataFrame columns\n",
    "- DataFrames support all standard DB operations and more"
   ]
  },
  {
   "cell_type": "code",
   "execution_count": 61,
   "metadata": {
    "slideshow": {
     "slide_type": "slide"
    }
   },
   "outputs": [
    {
     "data": {
      "text/html": [
       "<div>\n",
       "<style scoped>\n",
       "    .dataframe tbody tr th:only-of-type {\n",
       "        vertical-align: middle;\n",
       "    }\n",
       "\n",
       "    .dataframe tbody tr th {\n",
       "        vertical-align: top;\n",
       "    }\n",
       "\n",
       "    .dataframe thead th {\n",
       "        text-align: right;\n",
       "    }\n",
       "</style>\n",
       "<table border=\"1\" class=\"dataframe\">\n",
       "  <thead>\n",
       "    <tr style=\"text-align: right;\">\n",
       "      <th></th>\n",
       "      <th>Area in km²</th>\n",
       "      <th>Population 30 September 2010</th>\n",
       "      <th>Density</th>\n",
       "    </tr>\n",
       "  </thead>\n",
       "  <tbody>\n",
       "    <tr>\n",
       "      <td>Treptow-Köpenick</td>\n",
       "      <td>168.42</td>\n",
       "      <td>241335</td>\n",
       "      <td>1432.935518</td>\n",
       "    </tr>\n",
       "    <tr>\n",
       "      <td>Spandau</td>\n",
       "      <td>91.91</td>\n",
       "      <td>225420</td>\n",
       "      <td>2452.616690</td>\n",
       "    </tr>\n",
       "    <tr>\n",
       "      <td>Steglitz-Zehlendorf</td>\n",
       "      <td>102.50</td>\n",
       "      <td>293989</td>\n",
       "      <td>2868.185366</td>\n",
       "    </tr>\n",
       "    <tr>\n",
       "      <td>Pankow</td>\n",
       "      <td>103.01</td>\n",
       "      <td>368956</td>\n",
       "      <td>3581.749345</td>\n",
       "    </tr>\n",
       "    <tr>\n",
       "      <td>Marzahn-Hellersdorf</td>\n",
       "      <td>61.74</td>\n",
       "      <td>248264</td>\n",
       "      <td>4021.120829</td>\n",
       "    </tr>\n",
       "    <tr>\n",
       "      <td>Charlottenburg-Wilmersdorf</td>\n",
       "      <td>64.72</td>\n",
       "      <td>320014</td>\n",
       "      <td>4944.592089</td>\n",
       "    </tr>\n",
       "    <tr>\n",
       "      <td>Lichtenberg</td>\n",
       "      <td>52.29</td>\n",
       "      <td>259881</td>\n",
       "      <td>4969.994263</td>\n",
       "    </tr>\n",
       "    <tr>\n",
       "      <td>Tempelhof-Schöneberg</td>\n",
       "      <td>53.09</td>\n",
       "      <td>335060</td>\n",
       "      <td>6311.169712</td>\n",
       "    </tr>\n",
       "    <tr>\n",
       "      <td>Neukölln</td>\n",
       "      <td>44.93</td>\n",
       "      <td>310283</td>\n",
       "      <td>6905.920320</td>\n",
       "    </tr>\n",
       "    <tr>\n",
       "      <td>Mitte</td>\n",
       "      <td>39.47</td>\n",
       "      <td>332100</td>\n",
       "      <td>8413.985305</td>\n",
       "    </tr>\n",
       "    <tr>\n",
       "      <td>Friedrichshain-Kreuzberg</td>\n",
       "      <td>20.16</td>\n",
       "      <td>268831</td>\n",
       "      <td>13334.871032</td>\n",
       "    </tr>\n",
       "  </tbody>\n",
       "</table>\n",
       "</div>"
      ],
      "text/plain": [
       "                            Area in km²  Population 30 September 2010  \\\n",
       "Treptow-Köpenick                 168.42                        241335   \n",
       "Spandau                           91.91                        225420   \n",
       "Steglitz-Zehlendorf              102.50                        293989   \n",
       "Pankow                           103.01                        368956   \n",
       "Marzahn-Hellersdorf               61.74                        248264   \n",
       "Charlottenburg-Wilmersdorf        64.72                        320014   \n",
       "Lichtenberg                       52.29                        259881   \n",
       "Tempelhof-Schöneberg              53.09                        335060   \n",
       "Neukölln                          44.93                        310283   \n",
       "Mitte                             39.47                        332100   \n",
       "Friedrichshain-Kreuzberg          20.16                        268831   \n",
       "\n",
       "                                 Density  \n",
       "Treptow-Köpenick             1432.935518  \n",
       "Spandau                      2452.616690  \n",
       "Steglitz-Zehlendorf          2868.185366  \n",
       "Pankow                       3581.749345  \n",
       "Marzahn-Hellersdorf          4021.120829  \n",
       "Charlottenburg-Wilmersdorf   4944.592089  \n",
       "Lichtenberg                  4969.994263  \n",
       "Tempelhof-Schöneberg         6311.169712  \n",
       "Neukölln                     6905.920320  \n",
       "Mitte                        8413.985305  \n",
       "Friedrichshain-Kreuzberg    13334.871032  "
      ]
     },
     "execution_count": 61,
     "metadata": {},
     "output_type": "execute_result"
    }
   ],
   "source": [
    "df['Density'] = df['Population 30 September 2010'] / df['Area in km²']\n",
    "df = df.sort_values(by=['Density'])\n",
    "df"
   ]
  },
  {
   "cell_type": "markdown",
   "metadata": {
    "slideshow": {
     "slide_type": "slide"
    }
   },
   "source": [
    "## Database style joins with pandas"
   ]
  },
  {
   "cell_type": "code",
   "execution_count": 62,
   "metadata": {
    "slideshow": {
     "slide_type": "fragment"
    }
   },
   "outputs": [
    {
     "data": {
      "text/html": [
       "<div>\n",
       "<style scoped>\n",
       "    .dataframe tbody tr th:only-of-type {\n",
       "        vertical-align: middle;\n",
       "    }\n",
       "\n",
       "    .dataframe tbody tr th {\n",
       "        vertical-align: top;\n",
       "    }\n",
       "\n",
       "    .dataframe thead th {\n",
       "        text-align: right;\n",
       "    }\n",
       "</style>\n",
       "<table border=\"1\" class=\"dataframe\">\n",
       "  <thead>\n",
       "    <tr style=\"text-align: right;\">\n",
       "      <th></th>\n",
       "      <th>key</th>\n",
       "      <th>data1</th>\n",
       "    </tr>\n",
       "  </thead>\n",
       "  <tbody>\n",
       "    <tr>\n",
       "      <td>0</td>\n",
       "      <td>b</td>\n",
       "      <td>0</td>\n",
       "    </tr>\n",
       "    <tr>\n",
       "      <td>1</td>\n",
       "      <td>b</td>\n",
       "      <td>1</td>\n",
       "    </tr>\n",
       "    <tr>\n",
       "      <td>2</td>\n",
       "      <td>a</td>\n",
       "      <td>2</td>\n",
       "    </tr>\n",
       "    <tr>\n",
       "      <td>3</td>\n",
       "      <td>c</td>\n",
       "      <td>3</td>\n",
       "    </tr>\n",
       "    <tr>\n",
       "      <td>4</td>\n",
       "      <td>a</td>\n",
       "      <td>4</td>\n",
       "    </tr>\n",
       "    <tr>\n",
       "      <td>5</td>\n",
       "      <td>a</td>\n",
       "      <td>5</td>\n",
       "    </tr>\n",
       "    <tr>\n",
       "      <td>6</td>\n",
       "      <td>b</td>\n",
       "      <td>6</td>\n",
       "    </tr>\n",
       "  </tbody>\n",
       "</table>\n",
       "</div>"
      ],
      "text/plain": [
       "  key  data1\n",
       "0   b      0\n",
       "1   b      1\n",
       "2   a      2\n",
       "3   c      3\n",
       "4   a      4\n",
       "5   a      5\n",
       "6   b      6"
      ]
     },
     "execution_count": 62,
     "metadata": {},
     "output_type": "execute_result"
    }
   ],
   "source": [
    "df1 = pd.DataFrame({'key': ['b', 'b', 'a', 'c', 'a', 'a', 'b'], 'data1': range(7)})\n",
    "df1"
   ]
  },
  {
   "cell_type": "code",
   "execution_count": 63,
   "metadata": {
    "slideshow": {
     "slide_type": "fragment"
    }
   },
   "outputs": [
    {
     "data": {
      "text/html": [
       "<div>\n",
       "<style scoped>\n",
       "    .dataframe tbody tr th:only-of-type {\n",
       "        vertical-align: middle;\n",
       "    }\n",
       "\n",
       "    .dataframe tbody tr th {\n",
       "        vertical-align: top;\n",
       "    }\n",
       "\n",
       "    .dataframe thead th {\n",
       "        text-align: right;\n",
       "    }\n",
       "</style>\n",
       "<table border=\"1\" class=\"dataframe\">\n",
       "  <thead>\n",
       "    <tr style=\"text-align: right;\">\n",
       "      <th></th>\n",
       "      <th>key</th>\n",
       "      <th>data2</th>\n",
       "    </tr>\n",
       "  </thead>\n",
       "  <tbody>\n",
       "    <tr>\n",
       "      <td>0</td>\n",
       "      <td>a</td>\n",
       "      <td>0</td>\n",
       "    </tr>\n",
       "    <tr>\n",
       "      <td>1</td>\n",
       "      <td>b</td>\n",
       "      <td>1</td>\n",
       "    </tr>\n",
       "    <tr>\n",
       "      <td>2</td>\n",
       "      <td>d</td>\n",
       "      <td>2</td>\n",
       "    </tr>\n",
       "  </tbody>\n",
       "</table>\n",
       "</div>"
      ],
      "text/plain": [
       "  key  data2\n",
       "0   a      0\n",
       "1   b      1\n",
       "2   d      2"
      ]
     },
     "execution_count": 63,
     "metadata": {},
     "output_type": "execute_result"
    }
   ],
   "source": [
    "df2 = pd.DataFrame({'key': ['a', 'b', 'd'], 'data2': range(3)})\n",
    "df2"
   ]
  },
  {
   "cell_type": "markdown",
   "metadata": {
    "slideshow": {
     "slide_type": "slide"
    }
   },
   "source": [
    "### Inner join"
   ]
  },
  {
   "cell_type": "code",
   "execution_count": 64,
   "metadata": {
    "slideshow": {
     "slide_type": "fragment"
    }
   },
   "outputs": [
    {
     "data": {
      "text/html": [
       "<div>\n",
       "<style scoped>\n",
       "    .dataframe tbody tr th:only-of-type {\n",
       "        vertical-align: middle;\n",
       "    }\n",
       "\n",
       "    .dataframe tbody tr th {\n",
       "        vertical-align: top;\n",
       "    }\n",
       "\n",
       "    .dataframe thead th {\n",
       "        text-align: right;\n",
       "    }\n",
       "</style>\n",
       "<table border=\"1\" class=\"dataframe\">\n",
       "  <thead>\n",
       "    <tr style=\"text-align: right;\">\n",
       "      <th></th>\n",
       "      <th>key</th>\n",
       "      <th>data1</th>\n",
       "      <th>data2</th>\n",
       "    </tr>\n",
       "  </thead>\n",
       "  <tbody>\n",
       "    <tr>\n",
       "      <td>0</td>\n",
       "      <td>b</td>\n",
       "      <td>0</td>\n",
       "      <td>1</td>\n",
       "    </tr>\n",
       "    <tr>\n",
       "      <td>1</td>\n",
       "      <td>b</td>\n",
       "      <td>1</td>\n",
       "      <td>1</td>\n",
       "    </tr>\n",
       "    <tr>\n",
       "      <td>2</td>\n",
       "      <td>b</td>\n",
       "      <td>6</td>\n",
       "      <td>1</td>\n",
       "    </tr>\n",
       "    <tr>\n",
       "      <td>3</td>\n",
       "      <td>a</td>\n",
       "      <td>2</td>\n",
       "      <td>0</td>\n",
       "    </tr>\n",
       "    <tr>\n",
       "      <td>4</td>\n",
       "      <td>a</td>\n",
       "      <td>4</td>\n",
       "      <td>0</td>\n",
       "    </tr>\n",
       "    <tr>\n",
       "      <td>5</td>\n",
       "      <td>a</td>\n",
       "      <td>5</td>\n",
       "      <td>0</td>\n",
       "    </tr>\n",
       "  </tbody>\n",
       "</table>\n",
       "</div>"
      ],
      "text/plain": [
       "  key  data1  data2\n",
       "0   b      0      1\n",
       "1   b      1      1\n",
       "2   b      6      1\n",
       "3   a      2      0\n",
       "4   a      4      0\n",
       "5   a      5      0"
      ]
     },
     "execution_count": 64,
     "metadata": {},
     "output_type": "execute_result"
    }
   ],
   "source": [
    "pd.merge(df1, df2, on='key')"
   ]
  },
  {
   "cell_type": "markdown",
   "metadata": {
    "slideshow": {
     "slide_type": "slide"
    }
   },
   "source": [
    "### Outer join"
   ]
  },
  {
   "cell_type": "code",
   "execution_count": 65,
   "metadata": {
    "slideshow": {
     "slide_type": "fragment"
    }
   },
   "outputs": [
    {
     "data": {
      "text/html": [
       "<div>\n",
       "<style scoped>\n",
       "    .dataframe tbody tr th:only-of-type {\n",
       "        vertical-align: middle;\n",
       "    }\n",
       "\n",
       "    .dataframe tbody tr th {\n",
       "        vertical-align: top;\n",
       "    }\n",
       "\n",
       "    .dataframe thead th {\n",
       "        text-align: right;\n",
       "    }\n",
       "</style>\n",
       "<table border=\"1\" class=\"dataframe\">\n",
       "  <thead>\n",
       "    <tr style=\"text-align: right;\">\n",
       "      <th></th>\n",
       "      <th>key</th>\n",
       "      <th>data1</th>\n",
       "      <th>data2</th>\n",
       "    </tr>\n",
       "  </thead>\n",
       "  <tbody>\n",
       "    <tr>\n",
       "      <td>0</td>\n",
       "      <td>b</td>\n",
       "      <td>0.0</td>\n",
       "      <td>1.0</td>\n",
       "    </tr>\n",
       "    <tr>\n",
       "      <td>1</td>\n",
       "      <td>b</td>\n",
       "      <td>1.0</td>\n",
       "      <td>1.0</td>\n",
       "    </tr>\n",
       "    <tr>\n",
       "      <td>2</td>\n",
       "      <td>b</td>\n",
       "      <td>6.0</td>\n",
       "      <td>1.0</td>\n",
       "    </tr>\n",
       "    <tr>\n",
       "      <td>3</td>\n",
       "      <td>a</td>\n",
       "      <td>2.0</td>\n",
       "      <td>0.0</td>\n",
       "    </tr>\n",
       "    <tr>\n",
       "      <td>4</td>\n",
       "      <td>a</td>\n",
       "      <td>4.0</td>\n",
       "      <td>0.0</td>\n",
       "    </tr>\n",
       "    <tr>\n",
       "      <td>5</td>\n",
       "      <td>a</td>\n",
       "      <td>5.0</td>\n",
       "      <td>0.0</td>\n",
       "    </tr>\n",
       "    <tr>\n",
       "      <td>6</td>\n",
       "      <td>c</td>\n",
       "      <td>3.0</td>\n",
       "      <td>NaN</td>\n",
       "    </tr>\n",
       "    <tr>\n",
       "      <td>7</td>\n",
       "      <td>d</td>\n",
       "      <td>NaN</td>\n",
       "      <td>2.0</td>\n",
       "    </tr>\n",
       "  </tbody>\n",
       "</table>\n",
       "</div>"
      ],
      "text/plain": [
       "  key  data1  data2\n",
       "0   b    0.0    1.0\n",
       "1   b    1.0    1.0\n",
       "2   b    6.0    1.0\n",
       "3   a    2.0    0.0\n",
       "4   a    4.0    0.0\n",
       "5   a    5.0    0.0\n",
       "6   c    3.0    NaN\n",
       "7   d    NaN    2.0"
      ]
     },
     "execution_count": 65,
     "metadata": {},
     "output_type": "execute_result"
    }
   ],
   "source": [
    "pd.merge(df1, df2, on='key', how='outer')"
   ]
  },
  {
   "cell_type": "markdown",
   "metadata": {
    "slideshow": {
     "slide_type": "slide"
    }
   },
   "source": [
    "## Concatenation\n",
    "\n",
    "Remember numpy array concatenation"
   ]
  },
  {
   "cell_type": "code",
   "execution_count": 66,
   "metadata": {
    "slideshow": {
     "slide_type": "fragment"
    }
   },
   "outputs": [
    {
     "data": {
      "text/plain": [
       "array([[ 0,  1,  2,  3],\n",
       "       [ 4,  5,  6,  7],\n",
       "       [ 8,  9, 10, 11]])"
      ]
     },
     "execution_count": 66,
     "metadata": {},
     "output_type": "execute_result"
    }
   ],
   "source": [
    "import numpy as np\n",
    "arr = np.arange(12).reshape((3, 4))\n",
    "arr"
   ]
  },
  {
   "cell_type": "code",
   "execution_count": 67,
   "metadata": {
    "slideshow": {
     "slide_type": "fragment"
    }
   },
   "outputs": [
    {
     "data": {
      "text/plain": [
       "array([[ 0,  1,  2,  3,  0,  1,  2,  3],\n",
       "       [ 4,  5,  6,  7,  4,  5,  6,  7],\n",
       "       [ 8,  9, 10, 11,  8,  9, 10, 11]])"
      ]
     },
     "execution_count": 67,
     "metadata": {},
     "output_type": "execute_result"
    }
   ],
   "source": [
    "np.concatenate([arr, arr], axis=1)"
   ]
  },
  {
   "cell_type": "code",
   "execution_count": 68,
   "metadata": {
    "slideshow": {
     "slide_type": "fragment"
    }
   },
   "outputs": [
    {
     "data": {
      "text/plain": [
       "array([[ 0,  1,  2,  3],\n",
       "       [ 4,  5,  6,  7],\n",
       "       [ 8,  9, 10, 11],\n",
       "       [ 0,  1,  2,  3],\n",
       "       [ 4,  5,  6,  7],\n",
       "       [ 8,  9, 10, 11]])"
      ]
     },
     "execution_count": 68,
     "metadata": {},
     "output_type": "execute_result"
    }
   ],
   "source": [
    "np.concatenate([arr, arr], axis=0)"
   ]
  },
  {
   "cell_type": "markdown",
   "metadata": {
    "slideshow": {
     "slide_type": "slide"
    }
   },
   "source": [
    "## Concatenation with Pandas\n"
   ]
  },
  {
   "cell_type": "code",
   "execution_count": 69,
   "metadata": {
    "slideshow": {
     "slide_type": "fragment"
    }
   },
   "outputs": [
    {
     "data": {
      "text/plain": [
       "a    0\n",
       "b    1\n",
       "dtype: int64"
      ]
     },
     "execution_count": 69,
     "metadata": {},
     "output_type": "execute_result"
    }
   ],
   "source": [
    "s1 = pd.Series([0, 1], index=['a', 'b'])\n",
    "s1"
   ]
  },
  {
   "cell_type": "code",
   "execution_count": 70,
   "metadata": {
    "slideshow": {
     "slide_type": "fragment"
    }
   },
   "outputs": [
    {
     "data": {
      "text/plain": [
       "c    2\n",
       "d    3\n",
       "e    4\n",
       "dtype: int64"
      ]
     },
     "execution_count": 70,
     "metadata": {},
     "output_type": "execute_result"
    }
   ],
   "source": [
    "s2 = pd.Series([2, 3, 4], index=['c', 'd', 'e'])\n",
    "s2"
   ]
  },
  {
   "cell_type": "code",
   "execution_count": 71,
   "metadata": {
    "slideshow": {
     "slide_type": "fragment"
    }
   },
   "outputs": [
    {
     "data": {
      "text/plain": [
       "a    0\n",
       "b    1\n",
       "c    2\n",
       "d    3\n",
       "e    4\n",
       "f    5\n",
       "g    6\n",
       "dtype: int64"
      ]
     },
     "execution_count": 71,
     "metadata": {},
     "output_type": "execute_result"
    }
   ],
   "source": [
    "s3 = pd.Series([5, 6], index=['f', 'g'])\n",
    "pd.concat([s1, s2, s3])"
   ]
  },
  {
   "cell_type": "code",
   "execution_count": 72,
   "metadata": {
    "slideshow": {
     "slide_type": "slide"
    }
   },
   "outputs": [
    {
     "data": {
      "text/html": [
       "<div>\n",
       "<style scoped>\n",
       "    .dataframe tbody tr th:only-of-type {\n",
       "        vertical-align: middle;\n",
       "    }\n",
       "\n",
       "    .dataframe tbody tr th {\n",
       "        vertical-align: top;\n",
       "    }\n",
       "\n",
       "    .dataframe thead th {\n",
       "        text-align: right;\n",
       "    }\n",
       "</style>\n",
       "<table border=\"1\" class=\"dataframe\">\n",
       "  <thead>\n",
       "    <tr style=\"text-align: right;\">\n",
       "      <th></th>\n",
       "      <th>0</th>\n",
       "      <th>1</th>\n",
       "      <th>2</th>\n",
       "    </tr>\n",
       "  </thead>\n",
       "  <tbody>\n",
       "    <tr>\n",
       "      <td>a</td>\n",
       "      <td>0.0</td>\n",
       "      <td>NaN</td>\n",
       "      <td>NaN</td>\n",
       "    </tr>\n",
       "    <tr>\n",
       "      <td>b</td>\n",
       "      <td>1.0</td>\n",
       "      <td>NaN</td>\n",
       "      <td>NaN</td>\n",
       "    </tr>\n",
       "    <tr>\n",
       "      <td>c</td>\n",
       "      <td>NaN</td>\n",
       "      <td>2.0</td>\n",
       "      <td>NaN</td>\n",
       "    </tr>\n",
       "    <tr>\n",
       "      <td>d</td>\n",
       "      <td>NaN</td>\n",
       "      <td>3.0</td>\n",
       "      <td>NaN</td>\n",
       "    </tr>\n",
       "    <tr>\n",
       "      <td>e</td>\n",
       "      <td>NaN</td>\n",
       "      <td>4.0</td>\n",
       "      <td>NaN</td>\n",
       "    </tr>\n",
       "    <tr>\n",
       "      <td>f</td>\n",
       "      <td>NaN</td>\n",
       "      <td>NaN</td>\n",
       "      <td>5.0</td>\n",
       "    </tr>\n",
       "    <tr>\n",
       "      <td>g</td>\n",
       "      <td>NaN</td>\n",
       "      <td>NaN</td>\n",
       "      <td>6.0</td>\n",
       "    </tr>\n",
       "  </tbody>\n",
       "</table>\n",
       "</div>"
      ],
      "text/plain": [
       "     0    1    2\n",
       "a  0.0  NaN  NaN\n",
       "b  1.0  NaN  NaN\n",
       "c  NaN  2.0  NaN\n",
       "d  NaN  3.0  NaN\n",
       "e  NaN  4.0  NaN\n",
       "f  NaN  NaN  5.0\n",
       "g  NaN  NaN  6.0"
      ]
     },
     "execution_count": 72,
     "metadata": {},
     "output_type": "execute_result"
    }
   ],
   "source": [
    "pd.concat([s1, s2, s3], axis=1, sort=True)"
   ]
  },
  {
   "cell_type": "markdown",
   "metadata": {
    "slideshow": {
     "slide_type": "slide"
    }
   },
   "source": [
    "## Group-by and Aggregations\n",
    "\n",
    "Aka split-apply-combine\n"
   ]
  },
  {
   "cell_type": "markdown",
   "metadata": {
    "slideshow": {
     "slide_type": "fragment"
    }
   },
   "source": [
    "<img src=\"figures/split-apply-combine.png\" width=600px>\n",
    "\n"
   ]
  },
  {
   "cell_type": "code",
   "execution_count": 73,
   "metadata": {
    "slideshow": {
     "slide_type": "slide"
    }
   },
   "outputs": [
    {
     "data": {
      "text/html": [
       "<div>\n",
       "<style scoped>\n",
       "    .dataframe tbody tr th:only-of-type {\n",
       "        vertical-align: middle;\n",
       "    }\n",
       "\n",
       "    .dataframe tbody tr th {\n",
       "        vertical-align: top;\n",
       "    }\n",
       "\n",
       "    .dataframe thead th {\n",
       "        text-align: right;\n",
       "    }\n",
       "</style>\n",
       "<table border=\"1\" class=\"dataframe\">\n",
       "  <thead>\n",
       "    <tr style=\"text-align: right;\">\n",
       "      <th></th>\n",
       "      <th>key1</th>\n",
       "      <th>key2</th>\n",
       "      <th>data1</th>\n",
       "      <th>data2</th>\n",
       "    </tr>\n",
       "  </thead>\n",
       "  <tbody>\n",
       "    <tr>\n",
       "      <td>0</td>\n",
       "      <td>a</td>\n",
       "      <td>one</td>\n",
       "      <td>-0.102319</td>\n",
       "      <td>-0.591012</td>\n",
       "    </tr>\n",
       "    <tr>\n",
       "      <td>1</td>\n",
       "      <td>a</td>\n",
       "      <td>two</td>\n",
       "      <td>-0.572835</td>\n",
       "      <td>-0.762974</td>\n",
       "    </tr>\n",
       "    <tr>\n",
       "      <td>2</td>\n",
       "      <td>b</td>\n",
       "      <td>one</td>\n",
       "      <td>0.046125</td>\n",
       "      <td>-0.283270</td>\n",
       "    </tr>\n",
       "    <tr>\n",
       "      <td>3</td>\n",
       "      <td>b</td>\n",
       "      <td>two</td>\n",
       "      <td>-1.270324</td>\n",
       "      <td>-3.176505</td>\n",
       "    </tr>\n",
       "    <tr>\n",
       "      <td>4</td>\n",
       "      <td>a</td>\n",
       "      <td>one</td>\n",
       "      <td>0.414838</td>\n",
       "      <td>-0.259414</td>\n",
       "    </tr>\n",
       "  </tbody>\n",
       "</table>\n",
       "</div>"
      ],
      "text/plain": [
       "  key1 key2     data1     data2\n",
       "0    a  one -0.102319 -0.591012\n",
       "1    a  two -0.572835 -0.762974\n",
       "2    b  one  0.046125 -0.283270\n",
       "3    b  two -1.270324 -3.176505\n",
       "4    a  one  0.414838 -0.259414"
      ]
     },
     "execution_count": 73,
     "metadata": {},
     "output_type": "execute_result"
    }
   ],
   "source": [
    "df = pd.DataFrame({ 'key1' : ['a', 'a', 'b', 'b', 'a'],\n",
    "                    'key2' : ['one', 'two', 'one', 'two', 'one'],\n",
    "                    'data1' : np.random.randn(5),\n",
    "                    'data2' : np.random.randn(5)})\n",
    "df"
   ]
  },
  {
   "cell_type": "code",
   "execution_count": 74,
   "metadata": {
    "slideshow": {
     "slide_type": "slide"
    }
   },
   "outputs": [
    {
     "data": {
      "text/plain": [
       "<pandas.core.groupby.generic.SeriesGroupBy object at 0x1a1d1dac10>"
      ]
     },
     "execution_count": 74,
     "metadata": {},
     "output_type": "execute_result"
    }
   ],
   "source": [
    "grouped = df['data1'].groupby(df['key1'])\n",
    "grouped"
   ]
  },
  {
   "cell_type": "code",
   "execution_count": 75,
   "metadata": {
    "slideshow": {
     "slide_type": "slide"
    }
   },
   "outputs": [
    {
     "data": {
      "text/plain": [
       "key1\n",
       "a   -0.086772\n",
       "b   -0.612100\n",
       "Name: data1, dtype: float64"
      ]
     },
     "execution_count": 75,
     "metadata": {},
     "output_type": "execute_result"
    }
   ],
   "source": [
    "grouped.mean()"
   ]
  },
  {
   "cell_type": "code",
   "execution_count": 76,
   "metadata": {
    "slideshow": {
     "slide_type": "slide"
    }
   },
   "outputs": [
    {
     "data": {
      "text/plain": [
       "key1\n",
       "a    0.414838\n",
       "b    0.046125\n",
       "Name: data1, dtype: float64"
      ]
     },
     "execution_count": 76,
     "metadata": {},
     "output_type": "execute_result"
    }
   ],
   "source": [
    "grouped.max()"
   ]
  },
  {
   "cell_type": "code",
   "execution_count": 77,
   "metadata": {
    "slideshow": {
     "slide_type": "slide"
    }
   },
   "outputs": [
    {
     "data": {
      "text/plain": [
       "key1\n",
       "a    0.311407\n",
       "b   -0.085520\n",
       "Name: data1, dtype: float64"
      ]
     },
     "execution_count": 77,
     "metadata": {},
     "output_type": "execute_result"
    }
   ],
   "source": [
    "grouped.quantile(.9)"
   ]
  },
  {
   "cell_type": "code",
   "execution_count": 78,
   "metadata": {
    "slideshow": {
     "slide_type": "slide"
    }
   },
   "outputs": [
    {
     "data": {
      "text/html": [
       "<div>\n",
       "<style scoped>\n",
       "    .dataframe tbody tr th:only-of-type {\n",
       "        vertical-align: middle;\n",
       "    }\n",
       "\n",
       "    .dataframe tbody tr th {\n",
       "        vertical-align: top;\n",
       "    }\n",
       "\n",
       "    .dataframe thead th {\n",
       "        text-align: right;\n",
       "    }\n",
       "</style>\n",
       "<table border=\"1\" class=\"dataframe\">\n",
       "  <thead>\n",
       "    <tr style=\"text-align: right;\">\n",
       "      <th></th>\n",
       "      <th></th>\n",
       "      <th>my_mean</th>\n",
       "      <th>my_sum</th>\n",
       "    </tr>\n",
       "    <tr>\n",
       "      <th>key1</th>\n",
       "      <th>key2</th>\n",
       "      <th></th>\n",
       "      <th></th>\n",
       "    </tr>\n",
       "  </thead>\n",
       "  <tbody>\n",
       "    <tr>\n",
       "      <td rowspan=\"2\" valign=\"top\">a</td>\n",
       "      <td>one</td>\n",
       "      <td>0.156260</td>\n",
       "      <td>0.312519</td>\n",
       "    </tr>\n",
       "    <tr>\n",
       "      <td>two</td>\n",
       "      <td>-0.572835</td>\n",
       "      <td>-0.572835</td>\n",
       "    </tr>\n",
       "    <tr>\n",
       "      <td rowspan=\"2\" valign=\"top\">b</td>\n",
       "      <td>one</td>\n",
       "      <td>0.046125</td>\n",
       "      <td>0.046125</td>\n",
       "    </tr>\n",
       "    <tr>\n",
       "      <td>two</td>\n",
       "      <td>-1.270324</td>\n",
       "      <td>-1.270324</td>\n",
       "    </tr>\n",
       "  </tbody>\n",
       "</table>\n",
       "</div>"
      ],
      "text/plain": [
       "            my_mean    my_sum\n",
       "key1 key2                    \n",
       "a    one   0.156260  0.312519\n",
       "     two  -0.572835 -0.572835\n",
       "b    one   0.046125  0.046125\n",
       "     two  -1.270324 -1.270324"
      ]
     },
     "execution_count": 78,
     "metadata": {},
     "output_type": "execute_result"
    }
   ],
   "source": [
    "df.groupby(['key1','key2'])['data1'].agg(['mean','sum']).rename(columns={'mean': 'my_mean', 'sum':'my_sum'})"
   ]
  },
  {
   "cell_type": "markdown",
   "metadata": {
    "slideshow": {
     "slide_type": "slide"
    }
   },
   "source": [
    "### Iterating over groups"
   ]
  },
  {
   "cell_type": "code",
   "execution_count": 79,
   "metadata": {
    "slideshow": {
     "slide_type": "fragment"
    }
   },
   "outputs": [
    {
     "name": "stdout",
     "output_type": "stream",
     "text": [
      "a\n",
      "  key1 key2     data1     data2\n",
      "0    a  one -0.102319 -0.591012\n",
      "1    a  two -0.572835 -0.762974\n",
      "4    a  one  0.414838 -0.259414\n",
      "b\n",
      "  key1 key2     data1     data2\n",
      "2    b  one  0.046125 -0.283270\n",
      "3    b  two -1.270324 -3.176505\n"
     ]
    }
   ],
   "source": [
    "for name, group in df.groupby('key1'):\n",
    "    print(name)\n",
    "    print(group)\n",
    "    "
   ]
  },
  {
   "cell_type": "code",
   "execution_count": 80,
   "metadata": {
    "slideshow": {
     "slide_type": "slide"
    }
   },
   "outputs": [
    {
     "name": "stdout",
     "output_type": "stream",
     "text": [
      "('a', 'one')\n",
      "  key1 key2     data1     data2\n",
      "0    a  one -0.102319 -0.591012\n",
      "4    a  one  0.414838 -0.259414\n",
      "('a', 'two')\n",
      "  key1 key2     data1     data2\n",
      "1    a  two -0.572835 -0.762974\n",
      "('b', 'one')\n",
      "  key1 key2     data1    data2\n",
      "2    b  one  0.046125 -0.28327\n",
      "('b', 'two')\n",
      "  key1 key2     data1     data2\n",
      "3    b  two -1.270324 -3.176505\n"
     ]
    }
   ],
   "source": [
    "for (k1, k2), group in df.groupby(['key1', 'key2']):\n",
    "    print((k1, k2))\n",
    "    print(group)\n",
    "    "
   ]
  },
  {
   "cell_type": "markdown",
   "metadata": {
    "slideshow": {
     "slide_type": "slide"
    }
   },
   "source": [
    "# Some Experiments with Names in Berlin\n",
    "\n",
    "Source [data portal Berlin](https://daten.berlin.de/search/node/vornamen)\n"
   ]
  },
  {
   "cell_type": "code",
   "execution_count": 81,
   "metadata": {
    "slideshow": {
     "slide_type": "slide"
    }
   },
   "outputs": [],
   "source": [
    "import urllib\n",
    "import os\n",
    "\n",
    "basedir = os.path.join(\"data\",\"vornamen\")\n",
    "os.makedirs(basedir, exist_ok=True)\n",
    "\n",
    "base_url = \"https://raw.githubusercontent.com/berlinonline/haeufige-vornamen-berlin/master/data/cleaned/{}/{}.csv\"\n",
    "\n",
    "boroughs = [\n",
    "\"charlottenburg-wilmersdorf\",\n",
    "\"friedrichshain-kreuzberg\",\n",
    "\"lichtenberg\",\n",
    "\"marzahn-hellersdorf\",\n",
    "\"mitte\",\n",
    "\"neukoelln\",\n",
    "\"pankow\",\n",
    "\"reinickendorf\",\n",
    "\"spandau\",\n",
    "\"steglitz-zehlendorf\",\n",
    "\"tempelhof-schoeneberg\",\n",
    "\"treptow-koepenick\"\n",
    "]\n",
    "\n",
    "years = range(2012,2019)\n"
   ]
  },
  {
   "cell_type": "code",
   "execution_count": 82,
   "metadata": {
    "slideshow": {
     "slide_type": "slide"
    }
   },
   "outputs": [],
   "source": [
    "# download all name files from Berlin open data portal\n",
    "all_names = []\n",
    "\n",
    "for borough in boroughs:\n",
    "    for year in years:\n",
    "        url = base_url.format(year, borough)\n",
    "        filename = os.path.join(basedir, \"{}-{}.csv\".format(year,borough))\n",
    "        urllib.request.urlretrieve(url, filename)\n",
    "        df_vornamen_stadtteil = pd.read_csv(filename,sep=',',error_bad_lines=False)\n",
    "        df_vornamen_stadtteil['borough'] = borough\n",
    "        df_vornamen_stadtteil['year'] = year\n",
    "        all_names.append(df_vornamen_stadtteil)\n",
    "\n",
    "# concatenate DataFrames\n",
    "all_names_df = pd.concat(all_names, sort=True)"
   ]
  },
  {
   "cell_type": "code",
   "execution_count": 83,
   "metadata": {
    "slideshow": {
     "slide_type": "slide"
    }
   },
   "outputs": [
    {
     "data": {
      "text/html": [
       "<div>\n",
       "<style scoped>\n",
       "    .dataframe tbody tr th:only-of-type {\n",
       "        vertical-align: middle;\n",
       "    }\n",
       "\n",
       "    .dataframe tbody tr th {\n",
       "        vertical-align: top;\n",
       "    }\n",
       "\n",
       "    .dataframe thead th {\n",
       "        text-align: right;\n",
       "    }\n",
       "</style>\n",
       "<table border=\"1\" class=\"dataframe\">\n",
       "  <thead>\n",
       "    <tr style=\"text-align: right;\">\n",
       "      <th></th>\n",
       "      <th>anzahl</th>\n",
       "      <th>borough</th>\n",
       "      <th>geschlecht</th>\n",
       "      <th>position</th>\n",
       "      <th>vorname</th>\n",
       "      <th>year</th>\n",
       "    </tr>\n",
       "  </thead>\n",
       "  <tbody>\n",
       "    <tr>\n",
       "      <td>177</td>\n",
       "      <td>5</td>\n",
       "      <td>neukoelln</td>\n",
       "      <td>w</td>\n",
       "      <td>NaN</td>\n",
       "      <td>Amina</td>\n",
       "      <td>2016</td>\n",
       "    </tr>\n",
       "    <tr>\n",
       "      <td>1334</td>\n",
       "      <td>1</td>\n",
       "      <td>lichtenberg</td>\n",
       "      <td>m</td>\n",
       "      <td>NaN</td>\n",
       "      <td>José</td>\n",
       "      <td>2014</td>\n",
       "    </tr>\n",
       "    <tr>\n",
       "      <td>552</td>\n",
       "      <td>3</td>\n",
       "      <td>charlottenburg-wilmersdorf</td>\n",
       "      <td>m</td>\n",
       "      <td>NaN</td>\n",
       "      <td>Ezra</td>\n",
       "      <td>2015</td>\n",
       "    </tr>\n",
       "    <tr>\n",
       "      <td>1664</td>\n",
       "      <td>1</td>\n",
       "      <td>friedrichshain-kreuzberg</td>\n",
       "      <td>m</td>\n",
       "      <td>NaN</td>\n",
       "      <td>Huzayer</td>\n",
       "      <td>2013</td>\n",
       "    </tr>\n",
       "    <tr>\n",
       "      <td>43</td>\n",
       "      <td>15</td>\n",
       "      <td>neukoelln</td>\n",
       "      <td>m</td>\n",
       "      <td>NaN</td>\n",
       "      <td>Jonathan</td>\n",
       "      <td>2016</td>\n",
       "    </tr>\n",
       "    <tr>\n",
       "      <td>2882</td>\n",
       "      <td>1</td>\n",
       "      <td>charlottenburg-wilmersdorf</td>\n",
       "      <td>w</td>\n",
       "      <td>1.0</td>\n",
       "      <td>Annelotte</td>\n",
       "      <td>2018</td>\n",
       "    </tr>\n",
       "    <tr>\n",
       "      <td>1156</td>\n",
       "      <td>1</td>\n",
       "      <td>charlottenburg-wilmersdorf</td>\n",
       "      <td>m</td>\n",
       "      <td>NaN</td>\n",
       "      <td>Andrés</td>\n",
       "      <td>2012</td>\n",
       "    </tr>\n",
       "    <tr>\n",
       "      <td>223</td>\n",
       "      <td>5</td>\n",
       "      <td>spandau</td>\n",
       "      <td>m</td>\n",
       "      <td>NaN</td>\n",
       "      <td>Franz</td>\n",
       "      <td>2015</td>\n",
       "    </tr>\n",
       "    <tr>\n",
       "      <td>2655</td>\n",
       "      <td>1</td>\n",
       "      <td>charlottenburg-wilmersdorf</td>\n",
       "      <td>w</td>\n",
       "      <td>NaN</td>\n",
       "      <td>Nursevim</td>\n",
       "      <td>2013</td>\n",
       "    </tr>\n",
       "    <tr>\n",
       "      <td>1053</td>\n",
       "      <td>1</td>\n",
       "      <td>reinickendorf</td>\n",
       "      <td>w</td>\n",
       "      <td>NaN</td>\n",
       "      <td>Sofie</td>\n",
       "      <td>2012</td>\n",
       "    </tr>\n",
       "  </tbody>\n",
       "</table>\n",
       "</div>"
      ],
      "text/plain": [
       "      anzahl                     borough geschlecht  position    vorname  year\n",
       "177        5                   neukoelln          w       NaN      Amina  2016\n",
       "1334       1                 lichtenberg          m       NaN       José  2014\n",
       "552        3  charlottenburg-wilmersdorf          m       NaN       Ezra  2015\n",
       "1664       1    friedrichshain-kreuzberg          m       NaN    Huzayer  2013\n",
       "43        15                   neukoelln          m       NaN   Jonathan  2016\n",
       "2882       1  charlottenburg-wilmersdorf          w       1.0  Annelotte  2018\n",
       "1156       1  charlottenburg-wilmersdorf          m       NaN     Andrés  2012\n",
       "223        5                     spandau          m       NaN      Franz  2015\n",
       "2655       1  charlottenburg-wilmersdorf          w       NaN   Nursevim  2013\n",
       "1053       1               reinickendorf          w       NaN      Sofie  2012"
      ]
     },
     "execution_count": 83,
     "metadata": {},
     "output_type": "execute_result"
    }
   ],
   "source": [
    "all_names_df.sample(n=10)"
   ]
  },
  {
   "cell_type": "code",
   "execution_count": 84,
   "metadata": {
    "slideshow": {
     "slide_type": "slide"
    }
   },
   "outputs": [
    {
     "data": {
      "text/html": [
       "<div>\n",
       "<style scoped>\n",
       "    .dataframe tbody tr th:only-of-type {\n",
       "        vertical-align: middle;\n",
       "    }\n",
       "\n",
       "    .dataframe tbody tr th {\n",
       "        vertical-align: top;\n",
       "    }\n",
       "\n",
       "    .dataframe thead th {\n",
       "        text-align: right;\n",
       "    }\n",
       "</style>\n",
       "<table border=\"1\" class=\"dataframe\">\n",
       "  <thead>\n",
       "    <tr style=\"text-align: right;\">\n",
       "      <th></th>\n",
       "      <th>anzahl</th>\n",
       "      <th>borough</th>\n",
       "      <th>geschlecht</th>\n",
       "      <th>position</th>\n",
       "      <th>vorname</th>\n",
       "      <th>year</th>\n",
       "    </tr>\n",
       "  </thead>\n",
       "  <tbody>\n",
       "    <tr>\n",
       "      <td>3</td>\n",
       "      <td>42</td>\n",
       "      <td>friedrichshain-kreuzberg</td>\n",
       "      <td>m</td>\n",
       "      <td>NaN</td>\n",
       "      <td>Anton</td>\n",
       "      <td>2016</td>\n",
       "    </tr>\n",
       "    <tr>\n",
       "      <td>6</td>\n",
       "      <td>41</td>\n",
       "      <td>friedrichshain-kreuzberg</td>\n",
       "      <td>m</td>\n",
       "      <td>NaN</td>\n",
       "      <td>Emil</td>\n",
       "      <td>2016</td>\n",
       "    </tr>\n",
       "    <tr>\n",
       "      <td>7</td>\n",
       "      <td>40</td>\n",
       "      <td>friedrichshain-kreuzberg</td>\n",
       "      <td>m</td>\n",
       "      <td>NaN</td>\n",
       "      <td>Ali</td>\n",
       "      <td>2016</td>\n",
       "    </tr>\n",
       "    <tr>\n",
       "      <td>8</td>\n",
       "      <td>39</td>\n",
       "      <td>friedrichshain-kreuzberg</td>\n",
       "      <td>m</td>\n",
       "      <td>NaN</td>\n",
       "      <td>Alexander</td>\n",
       "      <td>2016</td>\n",
       "    </tr>\n",
       "    <tr>\n",
       "      <td>10</td>\n",
       "      <td>37</td>\n",
       "      <td>friedrichshain-kreuzberg</td>\n",
       "      <td>m</td>\n",
       "      <td>NaN</td>\n",
       "      <td>Leon</td>\n",
       "      <td>2016</td>\n",
       "    </tr>\n",
       "    <tr>\n",
       "      <td>...</td>\n",
       "      <td>...</td>\n",
       "      <td>...</td>\n",
       "      <td>...</td>\n",
       "      <td>...</td>\n",
       "      <td>...</td>\n",
       "      <td>...</td>\n",
       "    </tr>\n",
       "    <tr>\n",
       "      <td>1964</td>\n",
       "      <td>1</td>\n",
       "      <td>friedrichshain-kreuzberg</td>\n",
       "      <td>m</td>\n",
       "      <td>NaN</td>\n",
       "      <td>Hamallah</td>\n",
       "      <td>2016</td>\n",
       "    </tr>\n",
       "    <tr>\n",
       "      <td>1962</td>\n",
       "      <td>1</td>\n",
       "      <td>friedrichshain-kreuzberg</td>\n",
       "      <td>m</td>\n",
       "      <td>NaN</td>\n",
       "      <td>Hakî</td>\n",
       "      <td>2016</td>\n",
       "    </tr>\n",
       "    <tr>\n",
       "      <td>1960</td>\n",
       "      <td>1</td>\n",
       "      <td>friedrichshain-kreuzberg</td>\n",
       "      <td>m</td>\n",
       "      <td>NaN</td>\n",
       "      <td>Haika</td>\n",
       "      <td>2016</td>\n",
       "    </tr>\n",
       "    <tr>\n",
       "      <td>1958</td>\n",
       "      <td>1</td>\n",
       "      <td>friedrichshain-kreuzberg</td>\n",
       "      <td>m</td>\n",
       "      <td>NaN</td>\n",
       "      <td>Hagen</td>\n",
       "      <td>2016</td>\n",
       "    </tr>\n",
       "    <tr>\n",
       "      <td>3518</td>\n",
       "      <td>1</td>\n",
       "      <td>friedrichshain-kreuzberg</td>\n",
       "      <td>m</td>\n",
       "      <td>NaN</td>\n",
       "      <td>Şükrü</td>\n",
       "      <td>2016</td>\n",
       "    </tr>\n",
       "  </tbody>\n",
       "</table>\n",
       "<p>1805 rows × 6 columns</p>\n",
       "</div>"
      ],
      "text/plain": [
       "      anzahl                   borough geschlecht  position    vorname  year\n",
       "3         42  friedrichshain-kreuzberg          m       NaN      Anton  2016\n",
       "6         41  friedrichshain-kreuzberg          m       NaN       Emil  2016\n",
       "7         40  friedrichshain-kreuzberg          m       NaN        Ali  2016\n",
       "8         39  friedrichshain-kreuzberg          m       NaN  Alexander  2016\n",
       "10        37  friedrichshain-kreuzberg          m       NaN       Leon  2016\n",
       "...      ...                       ...        ...       ...        ...   ...\n",
       "1964       1  friedrichshain-kreuzberg          m       NaN   Hamallah  2016\n",
       "1962       1  friedrichshain-kreuzberg          m       NaN       Hakî  2016\n",
       "1960       1  friedrichshain-kreuzberg          m       NaN      Haika  2016\n",
       "1958       1  friedrichshain-kreuzberg          m       NaN      Hagen  2016\n",
       "3518       1  friedrichshain-kreuzberg          m       NaN      Şükrü  2016\n",
       "\n",
       "[1805 rows x 6 columns]"
      ]
     },
     "execution_count": 84,
     "metadata": {},
     "output_type": "execute_result"
    }
   ],
   "source": [
    "# names for boys in friedrichshain in 2016 sorted by popularity\n",
    "all_names_df.loc[\n",
    "    (all_names_df['borough']==\"friedrichshain-kreuzberg\") \n",
    "    & (all_names_df['geschlecht']=='m') \n",
    "    & (all_names_df['year']==2016)].sort_values(by='anzahl', ascending=False)"
   ]
  },
  {
   "cell_type": "code",
   "execution_count": 85,
   "metadata": {
    "slideshow": {
     "slide_type": "slide"
    }
   },
   "outputs": [
    {
     "data": {
      "text/html": [
       "<div>\n",
       "<style scoped>\n",
       "    .dataframe tbody tr th:only-of-type {\n",
       "        vertical-align: middle;\n",
       "    }\n",
       "\n",
       "    .dataframe tbody tr th {\n",
       "        vertical-align: top;\n",
       "    }\n",
       "\n",
       "    .dataframe thead th {\n",
       "        text-align: right;\n",
       "    }\n",
       "</style>\n",
       "<table border=\"1\" class=\"dataframe\">\n",
       "  <thead>\n",
       "    <tr style=\"text-align: right;\">\n",
       "      <th></th>\n",
       "      <th>borough</th>\n",
       "      <th>year</th>\n",
       "      <th>anzahl</th>\n",
       "      <th>vorname</th>\n",
       "    </tr>\n",
       "  </thead>\n",
       "  <tbody>\n",
       "    <tr>\n",
       "      <td>0</td>\n",
       "      <td>charlottenburg-wilmersdorf</td>\n",
       "      <td>2012</td>\n",
       "      <td>1</td>\n",
       "      <td>Şeniz</td>\n",
       "    </tr>\n",
       "    <tr>\n",
       "      <td>1</td>\n",
       "      <td>charlottenburg-wilmersdorf</td>\n",
       "      <td>2013</td>\n",
       "      <td>1</td>\n",
       "      <td>Đželila</td>\n",
       "    </tr>\n",
       "    <tr>\n",
       "      <td>2</td>\n",
       "      <td>charlottenburg-wilmersdorf</td>\n",
       "      <td>2014</td>\n",
       "      <td>1</td>\n",
       "      <td>Şerife</td>\n",
       "    </tr>\n",
       "    <tr>\n",
       "      <td>3</td>\n",
       "      <td>charlottenburg-wilmersdorf</td>\n",
       "      <td>2015</td>\n",
       "      <td>1</td>\n",
       "      <td>Şevket</td>\n",
       "    </tr>\n",
       "    <tr>\n",
       "      <td>4</td>\n",
       "      <td>charlottenburg-wilmersdorf</td>\n",
       "      <td>2016</td>\n",
       "      <td>1</td>\n",
       "      <td>Şirin</td>\n",
       "    </tr>\n",
       "    <tr>\n",
       "      <td>...</td>\n",
       "      <td>...</td>\n",
       "      <td>...</td>\n",
       "      <td>...</td>\n",
       "      <td>...</td>\n",
       "    </tr>\n",
       "    <tr>\n",
       "      <td>79</td>\n",
       "      <td>treptow-koepenick</td>\n",
       "      <td>2014</td>\n",
       "      <td>1</td>\n",
       "      <td>Łucja</td>\n",
       "    </tr>\n",
       "    <tr>\n",
       "      <td>80</td>\n",
       "      <td>treptow-koepenick</td>\n",
       "      <td>2015</td>\n",
       "      <td>1</td>\n",
       "      <td>Yorin</td>\n",
       "    </tr>\n",
       "    <tr>\n",
       "      <td>81</td>\n",
       "      <td>treptow-koepenick</td>\n",
       "      <td>2016</td>\n",
       "      <td>1</td>\n",
       "      <td>Đa</td>\n",
       "    </tr>\n",
       "    <tr>\n",
       "      <td>82</td>\n",
       "      <td>treptow-koepenick</td>\n",
       "      <td>2017</td>\n",
       "      <td>1</td>\n",
       "      <td>Şifa</td>\n",
       "    </tr>\n",
       "    <tr>\n",
       "      <td>83</td>\n",
       "      <td>treptow-koepenick</td>\n",
       "      <td>2018</td>\n",
       "      <td>1</td>\n",
       "      <td>Đưć</td>\n",
       "    </tr>\n",
       "  </tbody>\n",
       "</table>\n",
       "<p>84 rows × 4 columns</p>\n",
       "</div>"
      ],
      "text/plain": [
       "                       borough  year  anzahl  vorname\n",
       "0   charlottenburg-wilmersdorf  2012       1    Şeniz\n",
       "1   charlottenburg-wilmersdorf  2013       1  Đželila\n",
       "2   charlottenburg-wilmersdorf  2014       1   Şerife\n",
       "3   charlottenburg-wilmersdorf  2015       1   Şevket\n",
       "4   charlottenburg-wilmersdorf  2016       1    Şirin\n",
       "..                         ...   ...     ...      ...\n",
       "79           treptow-koepenick  2014       1    Łucja\n",
       "80           treptow-koepenick  2015       1    Yorin\n",
       "81           treptow-koepenick  2016       1       Đa\n",
       "82           treptow-koepenick  2017       1     Şifa\n",
       "83           treptow-koepenick  2018       1      Đưć\n",
       "\n",
       "[84 rows x 4 columns]"
      ]
     },
     "execution_count": 85,
     "metadata": {},
     "output_type": "execute_result"
    }
   ],
   "source": [
    "# least popular names per year and borough\n",
    "all_names_df.groupby(['borough','year'],as_index=False).\\\n",
    "    agg({\"anzahl\": \"min\",'vorname':'last'})"
   ]
  }
 ],
 "metadata": {
  "celltoolbar": "Slideshow",
  "kernelspec": {
   "display_name": "Python 3",
   "language": "python",
   "name": "python3"
  },
  "language_info": {
   "codemirror_mode": {
    "name": "ipython",
    "version": 3
   },
   "file_extension": ".py",
   "mimetype": "text/x-python",
   "name": "python",
   "nbconvert_exporter": "python",
   "pygments_lexer": "ipython3",
   "version": "3.7.4"
  }
 },
 "nbformat": 4,
 "nbformat_minor": 2
}
