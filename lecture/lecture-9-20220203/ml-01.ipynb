{
 "cells": [
  {
   "cell_type": "markdown",
   "metadata": {
    "slideshow": {
     "slide_type": "slide"
    }
   },
   "source": [
    "# Python for Data Science\n",
    "\n",
    "Machine Learning 1 - Introduction and Simple Supervised Learning"
   ]
  },
  {
   "cell_type": "markdown",
   "metadata": {
    "slideshow": {
     "slide_type": "slide"
    }
   },
   "source": [
    "# Overview\n",
    "\n",
    "- What is Machine Learning (ML)?\n",
    "- Where does it come from?\n",
    "- What ML is not\n",
    "- Application Examples"
   ]
  },
  {
   "cell_type": "markdown",
   "metadata": {
    "slideshow": {
     "slide_type": "slide"
    }
   },
   "source": [
    "# What is Machine Learning?\n",
    "\n",
    "Given \n",
    "\n",
    "- a model class $f(.)$ (Neural Networks, Linear models, Random Forests, ...) \n",
    "- some data $x$\n",
    "\n",
    "Machine Learning: \n",
    "\n",
    "Learn function $f(x)$ that takes data as input and makes a prediction"
   ]
  },
  {
   "cell_type": "markdown",
   "metadata": {
    "slideshow": {
     "slide_type": "slide"
    }
   },
   "source": [
    "# Machine Learning Systems in Practice\n",
    "\n",
    "![ml-pipeline.png](figures/ml-pipeline.png)"
   ]
  },
  {
   "cell_type": "markdown",
   "metadata": {
    "slideshow": {
     "slide_type": "slide"
    }
   },
   "source": [
    "# Some ML Applications\n",
    "\n",
    "|Data|Prediction|Popular models|\n",
    "|----|----------|--|\n",
    "|Email Texts |Spam or not?|Linear Models|\n",
    "|Clicks/Likes | Personality, credit risk, playlists, ...|Linear Models\n",
    "|Text in one language | Text in another language| Neural networks|\n",
    "|Images| Object on image|Neural Networks|\n",
    "|Text| Spoken Language | Neural Networks|\n",
    "|Spoken Language | Text | Neural Networks|"
   ]
  },
  {
   "cell_type": "markdown",
   "metadata": {
    "slideshow": {
     "slide_type": "slide"
    }
   },
   "source": [
    "# What is Machine Learning\n",
    "\n",
    "- ML researchers come from many disciplines:\n",
    "    - Statistics\n",
    "    - Mathematics\n",
    "    - Physics\n",
    "    - Computer Science\n",
    "\n",
    "- Some consider ML (or its methods) a subfield of the above genres\n",
    "\n",
    "- Also, ML has many fields / synonyms:\n",
    "    - Artificial Intelligence\n",
    "    - Data Mining\n",
    "    - Information Retrieval\n",
    "    - Data Science\n",
    "\n",
    "- Hence there are many definitions\n"
   ]
  },
  {
   "cell_type": "markdown",
   "metadata": {
    "slideshow": {
     "slide_type": "slide"
    }
   },
   "source": [
    "# What is Machine Learning\n",
    "\n",
    "Some definitions that can be helpful:\n",
    "\n",
    "ML systems \n",
    "\n",
    "- **learn rules from data** (as opposed to handcrafted rules)\n",
    "- **perform cognitive tasks** (as in: emulating human cognition)"
   ]
  },
  {
   "cell_type": "markdown",
   "metadata": {
    "slideshow": {
     "slide_type": "slide"
    }
   },
   "source": [
    "# A Short History of Machine Learning\n",
    "\n",
    "\n",
    "- 1632: Bodies as biological machines, [Descartes, 1632]\n",
    "\n",
    "\n",
    "- 1940/50: From machines to intelligent machines\n",
    "    - Cybernetics – mechanics of cognition [Wiener, 1948]\n",
    "    - Turing Test [Turing, 1950]: Can machines think?\n",
    "    - Perceptron [Rosenblatt, 1958]: Artificial ’brains’\n",
    "    \n",
    "\n",
    "- Eliza [Weizenbaum, 1966]: Better than psychotherapy!\n",
    "\n",
    "\n",
    "- Chinese Room argument [Searle, 1980]: Against functionalism\n",
    "\n",
    "\n",
    "- 1973 AI winter [Lighthill, 1973]\n",
    "    Classical AI was mainly built on hand made rules\n",
    "    \n",
    "    **Problem**: No scalability, no unified theory of cognition\n",
    "    \n",
    "    \n",
    "- New AI:\n",
    "    Let machines learn rules from data [Russell and Norvig, 2010]"
   ]
  },
  {
   "cell_type": "markdown",
   "metadata": {
    "slideshow": {
     "slide_type": "slide"
    }
   },
   "source": [
    "# What is Artificial Intelligence?\n",
    "\n",
    "<center>\n",
    "<img src=\"figures/turing.png\" width=150px>\n",
    "</center>\n",
    "\n"
   ]
  },
  {
   "cell_type": "markdown",
   "metadata": {
    "slideshow": {
     "slide_type": "slide"
    }
   },
   "source": [
    "## Alan Turing\n",
    "\n",
    "- Important theoretical work on computability\n",
    "- Programmed first chess program\n",
    "- Helped to crack Enigma encryption\n",
    "- Most important Computer Science Prize: Turing Award\n"
   ]
  },
  {
   "cell_type": "markdown",
   "metadata": {
    "slideshow": {
     "slide_type": "slide"
    }
   },
   "source": [
    "\n",
    "- Many people at the time were complaining about the hybris behind the research on intelligent machines \n",
    "- Turing thought that in order to argue about this, one needs a proper definition of intelligence\n"
   ]
  },
  {
   "cell_type": "markdown",
   "metadata": {
    "slideshow": {
     "slide_type": "slide"
    }
   },
   "source": [
    "## The Imitation Game\n",
    "\n",
    "In 1950 A.M. Turing proposed the Imitation Game [Turing, 1950].\n",
    "\n",
    "- Interrogator communicates with two participants via teleprompter\n",
    "- One of the participants is a computer\n",
    "- The task of the interrogator is to find out who is human.\n",
    "\n",
    "This is often referred to as the Turing Test:\n",
    "\n",
    "\n",
    "- Many humans fail the this test\n",
    "- Many machines pass it nowadays - some passed it already in the 1960"
   ]
  },
  {
   "cell_type": "markdown",
   "metadata": {
    "slideshow": {
     "slide_type": "slide"
    }
   },
   "source": [
    "## ELIZA - An Early Chatbot\n",
    "\n",
    "- **Human** All men are alike\n",
    "- **Eliza** In what way?\n",
    "- **Human** They’re always bugging us about something or other\n",
    "- **Eliza** Can you think of a specific example\n",
    "- **Human** Well, my boyfriend made me come here\n",
    "- **Eliza** Your boyfriend made you come here?\n",
    "- **Human** He says I’m depressed much of the time\n",
    "- **Eliza** I am sorry to hear you’re depressed\n",
    "- **Human** It’s true, I am unhappy\n",
    "- **Eliza** Do you think coming here will help you not to be unhappy?\n",
    "- **Human** I need some help, that much seems certain.\n",
    "- **Eliza** What would it mean to you if you got some help?\n",
    "- **Human** Perhaps I could learn to get along with my mother.\n",
    "- **Eliza** Tell me more about your family\n",
    "..."
   ]
  },
  {
   "cell_type": "markdown",
   "metadata": {
    "slideshow": {
     "slide_type": "slide"
    }
   },
   "source": [
    "# What Machine Learning is not\n",
    "\n",
    "- Algorithms that do not learn from data\n",
    "- Expert systems with hand crafted logic / rules\n"
   ]
  },
  {
   "cell_type": "markdown",
   "metadata": {
    "slideshow": {
     "slide_type": "slide"
    }
   },
   "source": [
    "## Example: Rule Based System For Spam Classification\n",
    "\n",
    "```python\n",
    "\n",
    "def classify_mail(text):\n",
    "    spam_score = 0\n",
    "\n",
    "    if 'Viagra' in text:\n",
    "            spam_score += 1\n",
    "    if 'money' not in text: \n",
    "            Spam_score -= 1\n",
    "\n",
    "    is_spam = spam_score > 0\n",
    "\n",
    "    return is_spam \n",
    "```\n"
   ]
  },
  {
   "cell_type": "markdown",
   "metadata": {
    "slideshow": {
     "slide_type": "slide"
    }
   },
   "source": [
    "# Why Machine Learning\n",
    "\n",
    "- Rule based systems (old AI) are great:\n",
    "    - Testing is easy\n",
    "    - Always interpretable\n",
    "    - Debugging is easy\n",
    "    \n",
    "\n",
    "- But rule based systems are problematic\n",
    "    - Require human experts to set up rules\n",
    "    - Rules need to be kept up to date\n",
    "    - Doesn't scale\n",
    "    - Doesn't generalize\n",
    "    "
   ]
  },
  {
   "cell_type": "markdown",
   "metadata": {
    "slideshow": {
     "slide_type": "slide"
    }
   },
   "source": [
    "# A ML Spam Classifier\n",
    "\n",
    "```python\n",
    "\n",
    "def predict_spam(word_histogram = {'Viagra': 1, ...}):\n",
    "\n",
    "    # Learned rules\n",
    "    rules = {'Viagra': 10.0, 'Homework': -1.0, ...}\n",
    "    \n",
    "    spam_score = 0.0\n",
    "\n",
    "    # Word histograms are weighted and summed up\n",
    "    for word, weight in rules.items():\n",
    "        spam_score += word_histogram[word] * weight\n",
    "\n",
    "    return spam_score > 0\n",
    "\n",
    "```"
   ]
  },
  {
   "cell_type": "markdown",
   "metadata": {
    "slideshow": {
     "slide_type": "slide"
    }
   },
   "source": [
    "# Rules and Data are Vectors\n",
    "\n",
    "- Rules learned by Machine Learning can be expressed as matrix/vector operations\n",
    "- In this form, rules can be treated as mathematical functions $f(x)$\n",
    "- Vector representation helps to understand some ML models\n",
    "- Mathematical functions can be optimized"
   ]
  },
  {
   "cell_type": "markdown",
   "metadata": {
    "slideshow": {
     "slide_type": "slide"
    }
   },
   "source": [
    "# Vectors\n",
    "\n",
    "![vectors.png](figures/vectors.png)"
   ]
  },
  {
   "cell_type": "markdown",
   "metadata": {
    "slideshow": {
     "slide_type": "slide"
    }
   },
   "source": [
    "# Vector Transpose\n",
    "\n",
    "![vector-transpose.png](figures/vector-transpose.png)"
   ]
  },
  {
   "cell_type": "markdown",
   "metadata": {
    "slideshow": {
     "slide_type": "slide"
    }
   },
   "source": [
    "# Vector Scaling\n",
    "\n",
    "![vector-scale.png](figures/vector-scale.png)"
   ]
  },
  {
   "cell_type": "markdown",
   "metadata": {
    "slideshow": {
     "slide_type": "slide"
    }
   },
   "source": [
    "# Vector Addition\n",
    "\n",
    "![vector-addition.png](figures/vector-addition.png)"
   ]
  },
  {
   "cell_type": "markdown",
   "metadata": {
    "slideshow": {
     "slide_type": "slide"
    }
   },
   "source": [
    "# Vector Scaling and Addition\n",
    "\n",
    "![vector-scale-addition.png](figures/vector-scale-addition.png)"
   ]
  },
  {
   "cell_type": "markdown",
   "metadata": {
    "slideshow": {
     "slide_type": "slide"
    }
   },
   "source": [
    "# Vector Inner Product: Similarity of Vectors\n",
    "\n",
    "![vector-inner-product.png](figures/vector-inner-product.png)"
   ]
  },
  {
   "cell_type": "markdown",
   "metadata": {
    "slideshow": {
     "slide_type": "slide"
    }
   },
   "source": [
    "# Spam Classification as Vector Operation\n",
    "\n",
    "![vector-vector-spam.png](figures/vector-spam.png)"
   ]
  },
  {
   "cell_type": "markdown",
   "metadata": {
    "slideshow": {
     "slide_type": "slide"
    }
   },
   "source": [
    "# Training Machine Learning Models\n",
    "\n",
    "- After feature extraction, many data sets can be modeled with the same methods\n",
    "- The usual procedure:\n",
    "    - Pick a Machine Learning model (Neural Network, Linear Regression, ...)\n",
    "    - Pick a *loss function* (mean squared error, accuracy, ...)\n",
    "    - Pick a *regularizer* (controls the complexity of a model, more on that later)\n",
    "    - Pick an *optimizer* (Usually some gradient descent version)\n",
    "    - Minimize the weighted sum of loss and regularizer on some training data\n",
    "    - Evaluate the loss function on some independent test data (cross-validation)\n"
   ]
  },
  {
   "cell_type": "markdown",
   "metadata": {
    "slideshow": {
     "slide_type": "slide"
    }
   },
   "source": [
    "# Objective Functions of ML Models\n",
    "\n",
    "Most ML models have objective functions like\n",
    "\n",
    "$$e(w) = l(x, w) + r(w)$$\n",
    "\n",
    "where $l(x,w)$ is called **loss** and measures the prediction quality and $r(w)$ is called **regularizer** and measures the complexity of the model\n",
    "\n",
    "\n",
    "A simple loss function would be $$||y - \\hat{y}||_2^2$$\n",
    "\n",
    "where $\\hat{y}$ is some prediction of some (target) variable\n",
    "\n",
    "\n",
    "A simple regularizer would be the $L_2$ or euclidean norm of $w$ $$||w||_2^2$$ meaning we penalize models with large coefficients in $w$\n"
   ]
  },
  {
   "cell_type": "markdown",
   "metadata": {
    "slideshow": {
     "slide_type": "slide"
    }
   },
   "source": [
    "# Minimizing Mathematical Functions: Gradient Descent\n",
    "\n",
    "Objective functions can be minimized by **gradient descent**\n",
    "\n",
    "$$ w_{t+1} \\leftarrow w_{t} - \\eta \\nabla e(w) $$\n",
    "\n",
    "where \n",
    "\n",
    "- $w$ are the parameters to be optimized\n",
    "- $t$ is the iteration\n",
    "- $\\eta$ is the learning rate \n",
    "- $\\nabla e(w)$ is the gradient of the objective function with respect to $w$\n"
   ]
  },
  {
   "cell_type": "markdown",
   "metadata": {
    "slideshow": {
     "slide_type": "slide"
    }
   },
   "source": [
    "## Derivatives of Univariate Functions\n",
    "\n",
    "|Function $f(x)$| Derivative $f'(x)$|\n",
    "|---------|---------------------|\n",
    "|$x^n$| $nx^{n−1}$|\n",
    "|$cf(x)$| $cf'(x)$|\n",
    "|...|...|"
   ]
  },
  {
   "cell_type": "markdown",
   "metadata": {
    "slideshow": {
     "slide_type": "slide"
    }
   },
   "source": [
    "## Derivatives of Vector Values Functions\n",
    "\n",
    "For vector values functions $f(\\mathbf{x}) : R^D \\rightarrow R^U$\n",
    "\n",
    "the gradient $\\nabla f(\\mathbf{x})$ at position $\\mathbf{x}$ is \n",
    "\n",
    "$\\nabla f(\\mathbf{x}) = \\left[\\frac{\\partial f(\\mathbf{x})}{\\partial x_1}, \\frac{\\partial f(\\mathbf{x})}{\\partial x_2}, ...\\right]$ \n"
   ]
  },
  {
   "cell_type": "markdown",
   "metadata": {
    "slideshow": {
     "slide_type": "fragment"
    }
   },
   "source": [
    "\n",
    "|Function $f(\\mathbf{x})$| Derivative $\\nabla f(\\mathbf{x})$|\n",
    "|---------|---------------------|\n",
    "|$\\mathbf{x}^\\top \\mathbf{w}$| $\\mathbf{w}$|\n",
    "|$\\mathbf{x}^\\top \\mathbf{x}$| $2\\mathbf{x}$|\n",
    "|$\\mathbf{x}^\\top A$| $A$|\n",
    "|...|...|"
   ]
  },
  {
   "cell_type": "markdown",
   "metadata": {
    "slideshow": {
     "slide_type": "slide"
    }
   },
   "source": [
    "# Types of Machine Learning Models\n",
    "\n",
    "\n",
    "- Unsupervised Learning:\n",
    "    - Learns to reconstruct data\n",
    "    - Used to find patterns to focus on or to discard\n",
    "    - Does not require labels\n",
    "    - Examples: PCA, Autoencoder Neural Networks, Clustering\n",
    "- Supervised learning:\n",
    "    - Learns to predict target variable\n",
    "    - Examples for continuous target variables (Regression):\n",
    "        Linear Regression, Kernel Regression, Neural Networks\n",
    "    - Examples for categorical target variables (Classification):\n",
    "        Logistic Regression, Support Vector Machines, Neural Networks\n"
   ]
  },
  {
   "cell_type": "markdown",
   "metadata": {
    "slideshow": {
     "slide_type": "slide"
    }
   },
   "source": [
    "# Choosing Machine Learning Models\n",
    "\n",
    "![ml_map.png](figures/ml_map.png)\n",
    "Taken from [sklearn](https://scikit-learn.org/stable/tutorial/machine_learning_map/), figure by Andreas Mueller."
   ]
  },
  {
   "cell_type": "markdown",
   "metadata": {
    "slideshow": {
     "slide_type": "slide"
    }
   },
   "source": [
    "# Some Challenges of Machine Learning\n",
    "    \n",
    "\n",
    "- ML systems don't require rules, just data\n",
    "    - Data implicitly defines the rules to learn\n",
    "    - Scales well, provided there is training data\n",
    "    \n",
    "\n",
    "- ML systems can be difficult:\n",
    "    - Not all parameters can be easily optimized (e.g. model *hyperparameters*, such as: which model or features should I use)\n",
    "    - Often training data is not available\n",
    "    - Overfitting to training data\n",
    "    - Behaviour changes with data quality\n",
    "    - Difficult to test\n"
   ]
  },
  {
   "cell_type": "markdown",
   "metadata": {
    "slideshow": {
     "slide_type": "slide"
    }
   },
   "source": [
    "# The Perceptron Learning Algorithm\n",
    "\n",
    "![](figures/rosenblatt.jpg)\n"
   ]
  },
  {
   "cell_type": "markdown",
   "metadata": {
    "slideshow": {
     "slide_type": "slide"
    }
   },
   "source": [
    "# The Perceptron Learning Algorithm\n",
    "\n",
    "- [Frank Rosenblatt](https://en.wikipedia.org/wiki/Frank_Rosenblatt) was an American Psychologist\n",
    "- He invented the Perceptron Algorithm - the first neural network\n",
    "- Perceptrons were shortly afterwards criticized for their simplicity\n",
    "- Took until the 80ies until they were rediscovered. And then again in 2012. \n",
    "\n"
   ]
  },
  {
   "cell_type": "markdown",
   "metadata": {
    "slideshow": {
     "slide_type": "slide"
    }
   },
   "source": [
    "# The Perceptron Learning Algorithm\n",
    "<center>\n",
    "<img src=\"figures/perceptron-learning-3.png\" width=800px>\n",
    "</center>\n"
   ]
  },
  {
   "cell_type": "markdown",
   "metadata": {
    "slideshow": {
     "slide_type": "slide"
    }
   },
   "source": [
    "\n",
    "![vectors.png](figures/perceptron-learning-4.png)"
   ]
  },
  {
   "cell_type": "markdown",
   "metadata": {
    "slideshow": {
     "slide_type": "slide"
    }
   },
   "source": [
    "\n",
    "\n",
    "![vectors.png](figures/perceptron-learning-5.png)"
   ]
  },
  {
   "cell_type": "markdown",
   "metadata": {
    "slideshow": {
     "slide_type": "slide"
    }
   },
   "source": [
    "\n",
    "\n",
    "![vectors.png](figures/perceptron-learning-6.png)\n"
   ]
  },
  {
   "cell_type": "markdown",
   "metadata": {
    "slideshow": {
     "slide_type": "slide"
    }
   },
   "source": [
    "\n",
    "\n",
    "![vectors.png](figures/perceptron_learning_step_1.png)"
   ]
  },
  {
   "cell_type": "markdown",
   "metadata": {
    "slideshow": {
     "slide_type": "slide"
    }
   },
   "source": [
    "\n",
    "![vectors.png](figures/perceptron_learning_step_2.png)\n"
   ]
  },
  {
   "cell_type": "markdown",
   "metadata": {
    "slideshow": {
     "slide_type": "slide"
    }
   },
   "source": [
    "![vectors.png](figures/perceptron_learning_step_3.png)"
   ]
  },
  {
   "cell_type": "markdown",
   "metadata": {
    "slideshow": {
     "slide_type": "slide"
    }
   },
   "source": [
    "# Application Example: Handwritten Digit Recognition\n",
    "\n",
    "![](figures/perceptron_hardware.png)\n",
    "\n",
    "Since the beginning of AI, handwritten digit recognition was used as a benchmark test. "
   ]
  },
  {
   "cell_type": "markdown",
   "metadata": {
    "slideshow": {
     "slide_type": "slide"
    }
   },
   "source": [
    "# Application Example: Handwritten Digit Recognition\n",
    "\n",
    "![](figures/digits.png)\n",
    "\n",
    "MNIST dataset:\n",
    "- 10 classes\n",
    "- Here: subsampled to 16 by 16 pixels, centered symbols\n",
    "- We train a binary perceptron classifier to distinguish one digit from all others"
   ]
  },
  {
   "cell_type": "code",
   "execution_count": 3,
   "metadata": {
    "slideshow": {
     "slide_type": "slide"
    }
   },
   "outputs": [],
   "source": [
    "import scipy as sp\n",
    "import matplotlib.pyplot as plt\n",
    "plt.style.use('ggplot')\n",
    "from sklearn.datasets import load_digits\n",
    "from assignment_perceptron_solution import perceptron_train\n",
    "\n",
    "# load the digits dataset from sklearn\n",
    "X, Y = load_digits(n_class=10, return_X_y=True)\n",
    "\n",
    "accs = []\n",
    "for digit_to_recognize in range(10):\n",
    "    # transform the 10-class labels into binary form\n",
    "    y = sp.sign((Y==digit_to_recognize)* 1.0 - .5)\n",
    "\n",
    "    # train a perceptron to recognize the digit 5\n",
    "    _, acc = perceptron_train(X,y)\n",
    "    accs.append(acc)"
   ]
  },
  {
   "cell_type": "code",
   "execution_count": 4,
   "metadata": {
    "slideshow": {
     "slide_type": "slide"
    }
   },
   "outputs": [
    {
     "data": {
      "image/png": "[encoded data removed]",
      "text/plain": [
       "<Figure size 864x288 with 1 Axes>"
      ]
     },
     "metadata": {},
     "output_type": "display_data"
    }
   ],
   "source": [
    "# plot the learning curve\n",
    "plt.figure(figsize=[12,4])\n",
    "plt.plot(sp.vstack(accs).T)\n",
    "plt.xlabel(\"Iterations\");plt.ylabel(\"Accuracy\");\n",
    "plt.legend(range(10));"
   ]
  },
  {
   "cell_type": "markdown",
   "metadata": {
    "slideshow": {
     "slide_type": "slide"
    }
   },
   "source": [
    "# Assignment 8\n",
    "\n",
    "In this exercise you will implement a simple perceptron for handwritten digit recognition"
   ]
  },
  {
   "cell_type": "code",
   "execution_count": 5,
   "metadata": {
    "slideshow": {
     "slide_type": "fragment"
    }
   },
   "outputs": [],
   "source": [
    "import scipy as sp\n",
    "from sklearn.datasets import load_digits\n",
    "\n",
    "def assignment_07_06(digit_to_recognize=5):\n",
    "    # load the usps digits dataset from sklearn repository\n",
    "    n_example = 100\n",
    "    X, Y = load_digits(n_class=10, return_X_y=True)\n",
    "    plt.matshow(X[n_example,:].reshape(8,8));\n",
    "    plt.xticks([]);plt.yticks([]);\n",
    "    plt.title(Y[n_example])\n",
    "    plt.savefig(\"usps_example.png\")\n",
    "    # transform the 10-class labels into binary form\n",
    "    y = sp.sign((Y==digit_to_recognize)* 1.0 - .5)\n",
    "    _, acc = perceptron_train(X,y)\n",
    "    plt.figure(figsize=[12,4])\n",
    "    plt.plot(acc)\n",
    "    plt.xlabel(\"Iterations\");plt.ylabel(\"Accuracy\");\n",
    "    plt.savefig(\"learning_curve.png\")"
   ]
  },
  {
   "cell_type": "markdown",
   "metadata": {
    "slideshow": {
     "slide_type": "slide"
    }
   },
   "source": [
    "```python\n",
    "def perceptron_train(X,Y,iterations=100,eta=.01):\n",
    "    '''\n",
    "    Trains a perceptron and returns the weights and learning curve\n",
    "    '''\n",
    "    acc = sp.zeros(iterations)\n",
    "    # initialize weight vector\n",
    "    weights = sp.random.randn(X.shape[1]) * 1e-5\n",
    "    for it in sp.arange(iterations):\n",
    "        # indices of misclassified data\n",
    "        wrong = (sp.sign(X @ weights) != Y).nonzero()[0]\n",
    "        if wrong.shape[0] > 0:\n",
    "            # pick a random misclassified data point\n",
    "            # rand_ex = ...\n",
    "            # update weight vector\n",
    "            # weights += ...\n",
    "            # compute accuracy\n",
    "            acc[it] = sp.double(sp.sum(sp.sign(X @ weights)==Y))/X.shape[0]\n",
    "    # return weight vector and accuracy\n",
    "    return weights,acc\n",
    "```"
   ]
  },
  {
   "cell_type": "code",
   "execution_count": 61,
   "metadata": {
    "slideshow": {
     "slide_type": "slide"
    }
   },
   "outputs": [
    {
     "data": {
      "image/png": "[encoded data removed]",
      "text/plain": [
       "<Figure size 288x288 with 1 Axes>"
      ]
     },
     "metadata": {},
     "output_type": "display_data"
    },
    {
     "data": {
      "image/png": "[encoded data removed]",
      "text/plain": [
       "<Figure size 864x288 with 1 Axes>"
      ]
     },
     "metadata": {},
     "output_type": "display_data"
    }
   ],
   "source": [
    "assignment_07_06()"
   ]
  },
  {
   "cell_type": "code",
   "execution_count": null,
   "metadata": {},
   "outputs": [],
   "source": []
  }
 ],
 "metadata": {
  "celltoolbar": "Slideshow",
  "kernelspec": {
   "display_name": "Python 3",
   "language": "python",
   "name": "python3"
  },
  "language_info": {
   "codemirror_mode": {
    "name": "ipython",
    "version": 3
   },
   "file_extension": ".py",
   "mimetype": "text/x-python",
   "name": "python",
   "nbconvert_exporter": "python",
   "pygments_lexer": "ipython3",
   "version": "3.7.4"
  }
 },
 "nbformat": 4,
 "nbformat_minor": 1
}
